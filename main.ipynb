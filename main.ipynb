{
 "cells": [
  {
   "cell_type": "markdown",
   "metadata": {},
   "source": [
    "\n",
    "\n",
    "### Table of Contents\n",
    "\n",
    "## Questions \n",
    "\n",
    "1. [What type of developers are among top trends of recents years? How has it been varying year by year since 2017?](#q1)\n",
    "2. [Which programming languages have been most popular according to last 4 years' survey?](#q2)\n",
    "3. [What are the popular programming languages for Linux, Mac and Windows operating system users on 2020?](#q3)\n",
    "4. [Is there any pattern in the way people prefer using a platform with a programming language, database, or a framework? What\n",
    "   about a platform for a particular developer type?](#q4)\n",
    "\n",
    "## [Data understanding](#data%20understanding)\n",
    "\n",
    "## [Data preparation](#datapreparation)\n",
    "   - [Data preparation 1](#datapreparation1)\n",
    "   - [Data preparation 2](#datapreparation2)\n",
    "   - [Data preparation 3](#datapreparation3)\n",
    "   - [Data preparation 4](#datapreparation4)   \n",
    "\n",
    "## Answers/Visualization\n",
    "\n",
    "   - [Solution 1](#a1)\n",
    "   - [Solution 2](#a2)\n",
    "   - [Solution 3](#a3)\n",
    "   - [Solution 4](#a4)"
   ]
  },
  {
   "cell_type": "markdown",
   "metadata": {},
   "source": [
    "\n",
    "## Data understanding <a name=\"data%20understanding\"></a>\n",
    "[Stack Overflow Annual Developer Survey](https://insights.stackoverflow.com/survey) is used as reference for analysing and answering the questions. Analysis is done on the last 4 years of survey data (between 2017 and 2020). \n",
    "\n",
    "Relevent data is prepared and formatted for analysis in each question separately. For instance 'DeveloperType' (and/or usually called 'DevType' in these surveys) trend is analysed. As another example, popular programming languages ('LanguageWorkedWith' or 'HaveWorkedLanguage' as for 2017 survey) for each year is analysed.\n",
    "\n",
    "Trends over years require specific categories hence there won't be any modelling or prediction in this project.\n",
    "\n",
    "Answers are provided using inferential statistics.\n",
    "\n",
    "Data are stored [here](data) in a folder named \"data\". Each survey are located in folders with year name. In the \"data preparation\" section of each question, overview of related data is presented and preparation process is demonstrated."
   ]
  },
  {
   "cell_type": "markdown",
   "metadata": {},
   "source": [
    "## Data preparation <a name=\"datapreparation\"></a>\n",
    "\n",
    "Here all data are loaded from data directory. Each survey is a __csv__ format file.\n",
    "\n",
    "Dataframes are called dfxx where xx is the year digit."
   ]
  },
  {
   "cell_type": "code",
   "execution_count": 1,
   "metadata": {},
   "outputs": [],
   "source": [
    "# first necessary libraries imported\n",
    "\n",
    "import pandas as pd\n",
    "import numpy as np\n",
    "import matplotlib.pyplot as plt\n",
    "%matplotlib inline"
   ]
  },
  {
   "cell_type": "code",
   "execution_count": 106,
   "metadata": {},
   "outputs": [],
   "source": [
    "# survey data are stored in separate directories for each year. To make it easy to read every year is denoted as two digits like\n",
    "# dfxx is the corresponding dataframe for year xx.\n",
    "\n",
    "df17 = pd.read_csv('./data/2017/survey_results_public.csv')\n",
    "df18 = pd.read_csv('./data/2018/survey_results_public.csv')\n",
    "df19 = pd.read_csv('./data/2019/survey_results_public.csv')\n",
    "df20 = pd.read_csv('./data/2020/survey_results_public.csv')"
   ]
  },
  {
   "cell_type": "markdown",
   "metadata": {},
   "source": [
    "### Question 1 <a name=\"q1\" ></a>: Developer Type trends of 4 years"
   ]
  },
  {
   "cell_type": "markdown",
   "metadata": {},
   "source": [
    "### data preparation <a name=\"datapreparation1\"></a>"
   ]
  },
  {
   "cell_type": "markdown",
   "metadata": {},
   "source": [
    "Except 2017, in the rest of surveys datasets developer type is shortened as 'DevType'.\n",
    "Now, mixed amount of developer type could be demonstrated directly by counting unique values of \n",
    "each group. it is not obvious to see the exact number of each developer type because of multiple answers provided by each developer. "
   ]
  },
  {
   "cell_type": "code",
   "execution_count": 3,
   "metadata": {},
   "outputs": [
    {
     "data": {
      "text/plain": [
       "Web developer                                    10683\n",
       "Web developer; Desktop applications developer     1849\n",
       "Mobile developer                                  1556\n",
       "Web developer; Mobile developer                   1503\n",
       "Desktop applications developer                    1433\n",
       "Name: DeveloperType, dtype: int64"
      ]
     },
     "execution_count": 3,
     "metadata": {},
     "output_type": "execute_result"
    }
   ],
   "source": [
    "df17['DeveloperType'].value_counts().head()"
   ]
  },
  {
   "cell_type": "code",
   "execution_count": 4,
   "metadata": {},
   "outputs": [
    {
     "data": {
      "text/plain": [
       "Back-end developer                                             6417\n",
       "Full-stack developer                                           6104\n",
       "Back-end developer;Front-end developer;Full-stack developer    4460\n",
       "Mobile developer                                               3518\n",
       "Student                                                        3222\n",
       "Name: DevType, dtype: int64"
      ]
     },
     "execution_count": 4,
     "metadata": {},
     "output_type": "execute_result"
    }
   ],
   "source": [
    "df18.DevType.value_counts().head()"
   ]
  },
  {
   "cell_type": "code",
   "execution_count": 5,
   "metadata": {},
   "outputs": [
    {
     "data": {
      "text/plain": [
       "Developer, full-stack                                             8433\n",
       "Developer, back-end                                               4913\n",
       "Developer, back-end;Developer, front-end;Developer, full-stack    2399\n",
       "Developer, front-end                                              2212\n",
       "Developer, mobile                                                 2172\n",
       "Name: DevType, dtype: int64"
      ]
     },
     "execution_count": 5,
     "metadata": {},
     "output_type": "execute_result"
    }
   ],
   "source": [
    "df19.DevType.value_counts().head()"
   ]
  },
  {
   "cell_type": "code",
   "execution_count": 6,
   "metadata": {},
   "outputs": [
    {
     "data": {
      "text/plain": [
       "Developer, full-stack                                             4424\n",
       "Developer, back-end                                               3086\n",
       "Developer, back-end;Developer, front-end;Developer, full-stack    2227\n",
       "Developer, back-end;Developer, full-stack                         1476\n",
       "Developer, front-end                                              1401\n",
       "Name: DevType, dtype: int64"
      ]
     },
     "execution_count": 6,
     "metadata": {},
     "output_type": "execute_result"
    }
   ],
   "source": [
    "df20.DevType.value_counts().head()"
   ]
  },
  {
   "cell_type": "markdown",
   "metadata": {},
   "source": [
    "Cleaning up and countign each type separately results readily understandable data."
   ]
  },
  {
   "cell_type": "markdown",
   "metadata": {},
   "source": [
    "The column of interest in each of dataframes is the 'Developer Type'. Each row contains \";\" separated srings.\n",
    "\n",
    "Function (below) called __split_strip()__ cleans and formats string columns as desired. This function will be used for further formattings of other categorical columns."
   ]
  },
  {
   "cell_type": "code",
   "execution_count": 7,
   "metadata": {},
   "outputs": [],
   "source": [
    "# a function that formats the input string.\n",
    "\n",
    "def split_strip(x):\n",
    "    \"\"\"\n",
    "    args: \n",
    "    x-string\n",
    "    \n",
    "    x is splitted from semicolons first.\n",
    "    Then left side extra (possible) spaces are stripped.\n",
    "    \n",
    "    input: \n",
    "    x\n",
    "    \n",
    "    output:\n",
    "    list of cleaned, striped, and splitted string\n",
    "    \n",
    "    \n",
    "    \"\"\"\n",
    "    return list(y.lstrip() for y in x.split(';'))"
   ]
  },
  {
   "cell_type": "markdown",
   "metadata": {},
   "source": [
    "#### Developer type 2017\n",
    "DataFrame's 'apply' method is used together with this function in order to get clean dataframe. 'Explode' method though transform each element of the result list to a row."
   ]
  },
  {
   "cell_type": "code",
   "execution_count": 8,
   "metadata": {},
   "outputs": [
    {
     "data": {
      "text/plain": [
       "<AxesSubplot:>"
      ]
     },
     "execution_count": 8,
     "metadata": {},
     "output_type": "execute_result"
    },
    {
     "data": {
      "image/png": "[encoded data removed]",
      "text/plain": [
       "<Figure size 432x288 with 1 Axes>"
      ]
     },
     "metadata": {
      "needs_background": "light"
     },
     "output_type": "display_data"
    }
   ],
   "source": [
    "# df_dt representing a dataframe of developertype for each year separately.\n",
    "# Rhe process below diplays the proportion of each type from highest to lowest.\n",
    "\n",
    "df17_dt = df17.set_index(['Respondent']).dropna(subset=['DeveloperType'], axis=0).DeveloperType.apply(split_strip).explode().reset_index()\n",
    "df17_dt_plot= pd.DataFrame(df17_dt.DeveloperType.value_counts()/df17_dt.DeveloperType.value_counts().sum())\n",
    "df17_dt_plot.plot.barh()"
   ]
  },
  {
   "cell_type": "markdown",
   "metadata": {},
   "source": [
    "The process above could be repeated for next 3 years of datasets."
   ]
  },
  {
   "cell_type": "markdown",
   "metadata": {},
   "source": [
    "#### Developer type 2018"
   ]
  },
  {
   "cell_type": "code",
   "execution_count": 9,
   "metadata": {},
   "outputs": [
    {
     "data": {
      "text/plain": [
       "<AxesSubplot:>"
      ]
     },
     "execution_count": 9,
     "metadata": {},
     "output_type": "execute_result"
    },
    {
     "data": {
      "image/png": "[encoded data removed]",
      "text/plain": [
       "<Figure size 432x288 with 1 Axes>"
      ]
     },
     "metadata": {
      "needs_background": "light"
     },
     "output_type": "display_data"
    }
   ],
   "source": [
    "df18_dt = df18.set_index(['Respondent']).dropna(subset=['DevType'], axis=0).DevType.apply(split_strip).explode().reset_index()\n",
    "df18_dt_plot= pd.DataFrame(df18_dt.DevType.value_counts()/df18_dt.DevType.value_counts().sum())\n",
    "df18_dt_plot.plot.barh()"
   ]
  },
  {
   "cell_type": "markdown",
   "metadata": {},
   "source": [
    "#### Developer type 2019"
   ]
  },
  {
   "cell_type": "code",
   "execution_count": 10,
   "metadata": {},
   "outputs": [
    {
     "data": {
      "text/plain": [
       "<AxesSubplot:>"
      ]
     },
     "execution_count": 10,
     "metadata": {},
     "output_type": "execute_result"
    },
    {
     "data": {
      "image/png": "[encoded data removed]",
      "text/plain": [
       "<Figure size 432x288 with 1 Axes>"
      ]
     },
     "metadata": {
      "needs_background": "light"
     },
     "output_type": "display_data"
    }
   ],
   "source": [
    "df19_dt = df19.set_index(['Respondent']).dropna(subset=['DevType'], axis=0).DevType.apply(split_strip).explode().reset_index()\n",
    "df19_dt_plot= pd.DataFrame(df19_dt.DevType.value_counts()/df19_dt.DevType.value_counts().sum())\n",
    "df19_dt_plot.plot.barh()"
   ]
  },
  {
   "cell_type": "markdown",
   "metadata": {},
   "source": [
    "#### Developer type 2020"
   ]
  },
  {
   "cell_type": "code",
   "execution_count": 11,
   "metadata": {},
   "outputs": [
    {
     "data": {
      "text/plain": [
       "<AxesSubplot:>"
      ]
     },
     "execution_count": 11,
     "metadata": {},
     "output_type": "execute_result"
    },
    {
     "data": {
      "image/png": "[encoded data removed]",
      "text/plain": [
       "<Figure size 432x288 with 1 Axes>"
      ]
     },
     "metadata": {
      "needs_background": "light"
     },
     "output_type": "display_data"
    }
   ],
   "source": [
    "df20_dt = df20.set_index(['Respondent']).dropna(subset=['DevType'], axis=0).DevType.apply(split_strip).explode().reset_index()\n",
    "df20_dt_plot = pd.DataFrame(df20_dt.DevType.value_counts()/df20_dt.DevType.value_counts().sum())\n",
    "df20_dt_plot.plot.barh()"
   ]
  },
  {
   "cell_type": "markdown",
   "metadata": {},
   "source": [
    "### Results summary"
   ]
  },
  {
   "cell_type": "code",
   "execution_count": 110,
   "metadata": {},
   "outputs": [
    {
     "data": {
      "text/html": [
       "<div>\n",
       "<style scoped>\n",
       "    .dataframe tbody tr th:only-of-type {\n",
       "        vertical-align: middle;\n",
       "    }\n",
       "\n",
       "    .dataframe tbody tr th {\n",
       "        vertical-align: top;\n",
       "    }\n",
       "\n",
       "    .dataframe thead th {\n",
       "        text-align: right;\n",
       "    }\n",
       "</style>\n",
       "<table border=\"1\" class=\"dataframe\">\n",
       "  <thead>\n",
       "    <tr style=\"text-align: right;\">\n",
       "      <th></th>\n",
       "      <th>DeveloperType</th>\n",
       "    </tr>\n",
       "  </thead>\n",
       "  <tbody>\n",
       "    <tr>\n",
       "      <th>Web developer</th>\n",
       "      <td>0.339572</td>\n",
       "    </tr>\n",
       "    <tr>\n",
       "      <th>Desktop applications developer</th>\n",
       "      <td>0.135065</td>\n",
       "    </tr>\n",
       "    <tr>\n",
       "      <th>Mobile developer</th>\n",
       "      <td>0.107767</td>\n",
       "    </tr>\n",
       "  </tbody>\n",
       "</table>\n",
       "</div>"
      ],
      "text/plain": [
       "                                DeveloperType\n",
       "Web developer                        0.339572\n",
       "Desktop applications developer       0.135065\n",
       "Mobile developer                     0.107767"
      ]
     },
     "execution_count": 110,
     "metadata": {},
     "output_type": "execute_result"
    }
   ],
   "source": [
    "df17_dt_plot.head(3)"
   ]
  },
  {
   "cell_type": "code",
   "execution_count": 109,
   "metadata": {},
   "outputs": [
    {
     "data": {
      "text/html": [
       "<div>\n",
       "<style scoped>\n",
       "    .dataframe tbody tr th:only-of-type {\n",
       "        vertical-align: middle;\n",
       "    }\n",
       "\n",
       "    .dataframe tbody tr th {\n",
       "        vertical-align: top;\n",
       "    }\n",
       "\n",
       "    .dataframe thead th {\n",
       "        text-align: right;\n",
       "    }\n",
       "</style>\n",
       "<table border=\"1\" class=\"dataframe\">\n",
       "  <thead>\n",
       "    <tr style=\"text-align: right;\">\n",
       "      <th></th>\n",
       "      <th>DevType</th>\n",
       "    </tr>\n",
       "  </thead>\n",
       "  <tbody>\n",
       "    <tr>\n",
       "      <th>Back-end developer</th>\n",
       "      <td>0.193043</td>\n",
       "    </tr>\n",
       "    <tr>\n",
       "      <th>Full-stack developer</th>\n",
       "      <td>0.160638</td>\n",
       "    </tr>\n",
       "    <tr>\n",
       "      <th>Front-end developer</th>\n",
       "      <td>0.126119</td>\n",
       "    </tr>\n",
       "  </tbody>\n",
       "</table>\n",
       "</div>"
      ],
      "text/plain": [
       "                       DevType\n",
       "Back-end developer    0.193043\n",
       "Full-stack developer  0.160638\n",
       "Front-end developer   0.126119"
      ]
     },
     "execution_count": 109,
     "metadata": {},
     "output_type": "execute_result"
    }
   ],
   "source": [
    "df18_dt_plot.head(3)"
   ]
  },
  {
   "cell_type": "code",
   "execution_count": 108,
   "metadata": {},
   "outputs": [
    {
     "data": {
      "text/html": [
       "<div>\n",
       "<style scoped>\n",
       "    .dataframe tbody tr th:only-of-type {\n",
       "        vertical-align: middle;\n",
       "    }\n",
       "\n",
       "    .dataframe tbody tr th {\n",
       "        vertical-align: top;\n",
       "    }\n",
       "\n",
       "    .dataframe thead th {\n",
       "        text-align: right;\n",
       "    }\n",
       "</style>\n",
       "<table border=\"1\" class=\"dataframe\">\n",
       "  <thead>\n",
       "    <tr style=\"text-align: right;\">\n",
       "      <th></th>\n",
       "      <th>DevType</th>\n",
       "    </tr>\n",
       "  </thead>\n",
       "  <tbody>\n",
       "    <tr>\n",
       "      <th>Developer, full-stack</th>\n",
       "      <td>0.165649</td>\n",
       "    </tr>\n",
       "    <tr>\n",
       "      <th>Developer, back-end</th>\n",
       "      <td>0.159540</td>\n",
       "    </tr>\n",
       "    <tr>\n",
       "      <th>Developer, front-end</th>\n",
       "      <td>0.104551</td>\n",
       "    </tr>\n",
       "  </tbody>\n",
       "</table>\n",
       "</div>"
      ],
      "text/plain": [
       "                        DevType\n",
       "Developer, full-stack  0.165649\n",
       "Developer, back-end    0.159540\n",
       "Developer, front-end   0.104551"
      ]
     },
     "execution_count": 108,
     "metadata": {},
     "output_type": "execute_result"
    }
   ],
   "source": [
    "df19_dt_plot.head(3)"
   ]
  },
  {
   "cell_type": "code",
   "execution_count": 111,
   "metadata": {},
   "outputs": [
    {
     "data": {
      "text/html": [
       "<div>\n",
       "<style scoped>\n",
       "    .dataframe tbody tr th:only-of-type {\n",
       "        vertical-align: middle;\n",
       "    }\n",
       "\n",
       "    .dataframe tbody tr th {\n",
       "        vertical-align: top;\n",
       "    }\n",
       "\n",
       "    .dataframe thead th {\n",
       "        text-align: right;\n",
       "    }\n",
       "</style>\n",
       "<table border=\"1\" class=\"dataframe\">\n",
       "  <thead>\n",
       "    <tr style=\"text-align: right;\">\n",
       "      <th></th>\n",
       "      <th>DevType</th>\n",
       "    </tr>\n",
       "  </thead>\n",
       "  <tbody>\n",
       "    <tr>\n",
       "      <th>Developer, back-end</th>\n",
       "      <td>0.173323</td>\n",
       "    </tr>\n",
       "    <tr>\n",
       "      <th>Developer, full-stack</th>\n",
       "      <td>0.172667</td>\n",
       "    </tr>\n",
       "    <tr>\n",
       "      <th>Developer, front-end</th>\n",
       "      <td>0.116465</td>\n",
       "    </tr>\n",
       "  </tbody>\n",
       "</table>\n",
       "</div>"
      ],
      "text/plain": [
       "                        DevType\n",
       "Developer, back-end    0.173323\n",
       "Developer, full-stack  0.172667\n",
       "Developer, front-end   0.116465"
      ]
     },
     "execution_count": 111,
     "metadata": {},
     "output_type": "execute_result"
    }
   ],
   "source": [
    "df20_dt_plot.head(3)"
   ]
  },
  {
   "cell_type": "markdown",
   "metadata": {},
   "source": [
    "### Answer 1<a name=\"a1\" ></a>: Developer Type trends of 4 years\n",
    "\n",
    "According to results above, here are the most popular development types of each year:\n",
    "\n",
    "__2017: Web, Desktop applications, Mobile Developer__\n",
    "\n",
    "__2018: Back-End, Full-Stack, Front-End Developer__\n",
    "\n",
    "__2019: Full-Stack, Back-End, Front-End Developer__\n",
    "\n",
    "__2020: Back-End, Full-Stack, Front-End Developer__\n",
    "\n",
    "The results above indicates that web-developement including __front-stack__ and __back-stack__ together with __full-stack__ are top trends."
   ]
  },
  {
   "cell_type": "markdown",
   "metadata": {},
   "source": [
    "### Question 2<a name=\"q2\"></a>: Popular programming languages between 2017 and 2020"
   ]
  },
  {
   "cell_type": "markdown",
   "metadata": {},
   "source": [
    "### data preparation <a name=\"datapreparation2\"></a>"
   ]
  },
  {
   "cell_type": "markdown",
   "metadata": {},
   "source": [
    "2017, notion of 'LanguageWorkedWith' (in the rest of surveys) is named 'HaveWorkedLanguage'.\n",
    "Now, mixed amount of developer type could be demonstrated directly by counting unique values of each group. But since each respondent has provided multiple answers, the output without formatting is not understandable and countable directly. \n",
    "\n",
    "Previously defined formatting function ('split_strip') could be applied on categorical columns of interest."
   ]
  },
  {
   "cell_type": "code",
   "execution_count": 12,
   "metadata": {},
   "outputs": [
    {
     "data": {
      "text/plain": [
       "C#; JavaScript; SQL     1276\n",
       "JavaScript; PHP; SQL    1143\n",
       "Java                     913\n",
       "JavaScript               807\n",
       "JavaScript; PHP          662\n",
       "Name: HaveWorkedLanguage, dtype: int64"
      ]
     },
     "execution_count": 12,
     "metadata": {},
     "output_type": "execute_result"
    }
   ],
   "source": [
    "df17['HaveWorkedLanguage'].value_counts().head()"
   ]
  },
  {
   "cell_type": "code",
   "execution_count": 13,
   "metadata": {},
   "outputs": [
    {
     "data": {
      "text/plain": [
       "C#;JavaScript;SQL;HTML;CSS               1347\n",
       "JavaScript;PHP;SQL;HTML;CSS              1235\n",
       "Java                                     1030\n",
       "JavaScript;HTML;CSS                       881\n",
       "C#;JavaScript;SQL;TypeScript;HTML;CSS     828\n",
       "Name: LanguageWorkedWith, dtype: int64"
      ]
     },
     "execution_count": 13,
     "metadata": {},
     "output_type": "execute_result"
    }
   ],
   "source": [
    "df18.LanguageWorkedWith.value_counts().head()"
   ]
  },
  {
   "cell_type": "code",
   "execution_count": 14,
   "metadata": {},
   "outputs": [
    {
     "data": {
      "text/plain": [
       "HTML/CSS;JavaScript;PHP;SQL              1483\n",
       "C#;HTML/CSS;JavaScript;SQL               1414\n",
       "HTML/CSS;JavaScript                      1247\n",
       "C#;HTML/CSS;JavaScript;SQL;TypeScript     990\n",
       "Java                                      934\n",
       "Name: LanguageWorkedWith, dtype: int64"
      ]
     },
     "execution_count": 14,
     "metadata": {},
     "output_type": "execute_result"
    }
   ],
   "source": [
    "df19.LanguageWorkedWith.value_counts().head()"
   ]
  },
  {
   "cell_type": "code",
   "execution_count": 15,
   "metadata": {},
   "outputs": [
    {
     "data": {
      "text/plain": [
       "HTML/CSS;JavaScript;PHP;SQL              1073\n",
       "HTML/CSS;JavaScript                       900\n",
       "C#;HTML/CSS;JavaScript;SQL                856\n",
       "C#;HTML/CSS;JavaScript;SQL;TypeScript     754\n",
       "HTML/CSS;JavaScript;TypeScript            697\n",
       "Name: LanguageWorkedWith, dtype: int64"
      ]
     },
     "execution_count": 15,
     "metadata": {},
     "output_type": "execute_result"
    }
   ],
   "source": [
    "df20.LanguageWorkedWith.value_counts().head()"
   ]
  },
  {
   "cell_type": "markdown",
   "metadata": {},
   "source": [
    "As we can see from raw counts, every developer has been working with multiple languages hence extra cleaning and separation of data is needed.\n",
    "Similar to previous question, first NAN rows are dropped using dropna.\n",
    "Each row in the 'LanguagesWorkedWith' column is a mixed string separated with \";\" and possibly extra spaces.\n",
    "\n",
    "Cleaning could be achieved by simply applying 'split_strip' function on related Language category columns in each dataset.\n",
    "\n",
    "For this categorical data it is wise to remove NAN values since we are only interested in sum of each category counts."
   ]
  },
  {
   "cell_type": "markdown",
   "metadata": {},
   "source": [
    "#### Programming language 2017"
   ]
  },
  {
   "cell_type": "code",
   "execution_count": 16,
   "metadata": {},
   "outputs": [
    {
     "data": {
      "text/plain": [
       "<AxesSubplot:>"
      ]
     },
     "execution_count": 16,
     "metadata": {},
     "output_type": "execute_result"
    },
    {
     "data": {
      "image/png": "[encoded data removed]",
      "text/plain": [
       "<Figure size 432x288 with 1 Axes>"
      ]
     },
     "metadata": {
      "needs_background": "light"
     },
     "output_type": "display_data"
    }
   ],
   "source": [
    "df17_lang = df17.set_index(['Respondent']).dropna(subset=['HaveWorkedLanguage'], axis=0).HaveWorkedLanguage.apply(split_strip).explode().reset_index()\n",
    "df17_lang_plot= pd.DataFrame(df17_lang.HaveWorkedLanguage.value_counts()/df17_lang.HaveWorkedLanguage.value_counts().sum())\n",
    "df17_lang_plot.plot.bar()"
   ]
  },
  {
   "cell_type": "markdown",
   "metadata": {},
   "source": [
    "#### Programming language 2018"
   ]
  },
  {
   "cell_type": "code",
   "execution_count": 17,
   "metadata": {},
   "outputs": [
    {
     "data": {
      "text/plain": [
       "<AxesSubplot:>"
      ]
     },
     "execution_count": 17,
     "metadata": {},
     "output_type": "execute_result"
    },
    {
     "data": {
      "image/png": "[encoded data removed]",
      "text/plain": [
       "<Figure size 432x288 with 1 Axes>"
      ]
     },
     "metadata": {
      "needs_background": "light"
     },
     "output_type": "display_data"
    }
   ],
   "source": [
    "df18_lang = df18.set_index(['Respondent']).dropna(subset=['LanguageWorkedWith'], axis=0).LanguageWorkedWith.apply(split_strip).explode().reset_index()\n",
    "df18_lang_plot= pd.DataFrame(df18_lang.LanguageWorkedWith.value_counts()/df18_lang.LanguageWorkedWith.value_counts().sum())\n",
    "df18_lang_plot.plot.bar()"
   ]
  },
  {
   "cell_type": "markdown",
   "metadata": {},
   "source": [
    "#### Programming language 2019"
   ]
  },
  {
   "cell_type": "code",
   "execution_count": 18,
   "metadata": {},
   "outputs": [
    {
     "data": {
      "text/plain": [
       "<AxesSubplot:>"
      ]
     },
     "execution_count": 18,
     "metadata": {},
     "output_type": "execute_result"
    },
    {
     "data": {
      "image/png": "[encoded data removed]",
      "text/plain": [
       "<Figure size 432x288 with 1 Axes>"
      ]
     },
     "metadata": {
      "needs_background": "light"
     },
     "output_type": "display_data"
    }
   ],
   "source": [
    "df19_lang = df19.set_index(['Respondent']).dropna(subset=['LanguageWorkedWith'], axis=0).LanguageWorkedWith.apply(split_strip).explode().reset_index()\n",
    "df19_lang_plot= pd.DataFrame(df19_lang.LanguageWorkedWith.value_counts()/df19_lang.LanguageWorkedWith.value_counts().sum())\n",
    "df19_lang_plot.plot.bar()"
   ]
  },
  {
   "cell_type": "markdown",
   "metadata": {},
   "source": [
    "#### Programming language 2020"
   ]
  },
  {
   "cell_type": "code",
   "execution_count": 19,
   "metadata": {},
   "outputs": [
    {
     "data": {
      "text/plain": [
       "<AxesSubplot:>"
      ]
     },
     "execution_count": 19,
     "metadata": {},
     "output_type": "execute_result"
    },
    {
     "data": {
      "image/png": "[encoded data removed]",
      "text/plain": [
       "<Figure size 432x288 with 1 Axes>"
      ]
     },
     "metadata": {
      "needs_background": "light"
     },
     "output_type": "display_data"
    }
   ],
   "source": [
    "df20_lang = df20.set_index(['Respondent']).dropna(subset=['LanguageWorkedWith'], axis=0).LanguageWorkedWith.apply(split_strip).explode().reset_index()\n",
    "df20_lang_plot= pd.DataFrame(df20_lang.LanguageWorkedWith.value_counts()/df20_lang.LanguageWorkedWith.value_counts().sum())\n",
    "df20_lang_plot.plot.bar()"
   ]
  },
  {
   "cell_type": "markdown",
   "metadata": {},
   "source": [
    "### Answer 2<a name=\"a2\"></a>: Programming language trends between 2017 and 2020\n",
    "\n",
    "\n",
    "__2017: JavaScript, SQL, Java, C#, Python__\n",
    "\n",
    "__2018: JavaScript, HTML, CSS, SQL, Java__\n",
    "\n",
    "__2019: JavaScript, HTML/CSS, SQL, Python, Java__\n",
    "\n",
    "__2020: JavaScript, HTML/CSS, SQL, Python, Java__"
   ]
  },
  {
   "cell_type": "markdown",
   "metadata": {},
   "source": [
    "### Question 3<a name=\"q3\"></a>: Popular programming langugage of Linux users vs MS-Windows users"
   ]
  },
  {
   "cell_type": "markdown",
   "metadata": {},
   "source": [
    "### data preparation <a name=\"datapreparation3\"></a>"
   ]
  },
  {
   "cell_type": "markdown",
   "metadata": {},
   "source": [
    "In addition to programming language popularity, here we would like to see it looks like when it comes to both operatin gsystems and language together.\n",
    "\n",
    "Again NAN values are removed from rows that are the subject of the question.\n",
    "\n",
    "Formatting using 'split_strip' function together with 'apply' method of pandas will result a cell with list of formatted strings. Then 'explode' is used to transform these string cells into separate rows in the same dataframe. \n",
    "\n",
    "Here's how the code and results look like."
   ]
  },
  {
   "cell_type": "code",
   "execution_count": 20,
   "metadata": {},
   "outputs": [
    {
     "data": {
      "text/html": [
       "<div>\n",
       "<style scoped>\n",
       "    .dataframe tbody tr th:only-of-type {\n",
       "        vertical-align: middle;\n",
       "    }\n",
       "\n",
       "    .dataframe tbody tr th {\n",
       "        vertical-align: top;\n",
       "    }\n",
       "\n",
       "    .dataframe thead th {\n",
       "        text-align: right;\n",
       "    }\n",
       "</style>\n",
       "<table border=\"1\" class=\"dataframe\">\n",
       "  <thead>\n",
       "    <tr style=\"text-align: right;\">\n",
       "      <th></th>\n",
       "      <th>LanguageWorkedWith</th>\n",
       "      <th>OpSys</th>\n",
       "    </tr>\n",
       "  </thead>\n",
       "  <tbody>\n",
       "    <tr>\n",
       "      <th>0</th>\n",
       "      <td>C#</td>\n",
       "      <td>Windows</td>\n",
       "    </tr>\n",
       "    <tr>\n",
       "      <th>1</th>\n",
       "      <td>HTML/CSS</td>\n",
       "      <td>Windows</td>\n",
       "    </tr>\n",
       "    <tr>\n",
       "      <th>2</th>\n",
       "      <td>JavaScript</td>\n",
       "      <td>Windows</td>\n",
       "    </tr>\n",
       "    <tr>\n",
       "      <th>3</th>\n",
       "      <td>JavaScript</td>\n",
       "      <td>MacOS</td>\n",
       "    </tr>\n",
       "    <tr>\n",
       "      <th>4</th>\n",
       "      <td>Swift</td>\n",
       "      <td>MacOS</td>\n",
       "    </tr>\n",
       "  </tbody>\n",
       "</table>\n",
       "</div>"
      ],
      "text/plain": [
       "  LanguageWorkedWith    OpSys\n",
       "0                 C#  Windows\n",
       "1           HTML/CSS  Windows\n",
       "2         JavaScript  Windows\n",
       "3         JavaScript    MacOS\n",
       "4              Swift    MacOS"
      ]
     },
     "execution_count": 20,
     "metadata": {},
     "output_type": "execute_result"
    }
   ],
   "source": [
    "df_os_lang = df20[[\"LanguageWorkedWith\",\"OpSys\"]].dropna(how='any')\n",
    "df_os_lang = df_os_lang.assign(LanguageWorkedWith=df_os_lang['LanguageWorkedWith'].apply(split_strip)).explode('LanguageWorkedWith').reset_index(drop=True)\n",
    "df_os_lang.head()"
   ]
  },
  {
   "cell_type": "code",
   "execution_count": 21,
   "metadata": {},
   "outputs": [],
   "source": [
    "df_os_lang_plot = df_os_lang.value_counts(['OpSys', 'LanguageWorkedWith']).head(20)\n",
    "df_os = pd.DataFrame(df_os_lang_plot)\n",
    "# df_os.loc['Linux-based',:]\n",
    "mac_users = pd.DataFrame({'Mac' : df_os_lang_plot.loc['MacOS',:]}).head()\n",
    "linux_users = pd.DataFrame({'Linux' : df_os_lang_plot.loc['Linux-based',:]}).head()\n",
    "win_users = pd.DataFrame({'Windows' : df_os_lang_plot.loc['Windows',:]}).head()"
   ]
  },
  {
   "cell_type": "markdown",
   "metadata": {},
   "source": [
    "### Answer 3<a name=\"a3\"></a>: Programming languages for  Linux, Windows, and Mac users on 2020"
   ]
  },
  {
   "cell_type": "code",
   "execution_count": 22,
   "metadata": {},
   "outputs": [
    {
     "data": {
      "text/plain": [
       "<AxesSubplot:xlabel='LanguageWorkedWith'>"
      ]
     },
     "execution_count": 22,
     "metadata": {},
     "output_type": "execute_result"
    },
    {
     "data": {
      "image/png": "[encoded data removed]",
      "text/plain": [
       "<Figure size 432x288 with 1 Axes>"
      ]
     },
     "metadata": {
      "needs_background": "light"
     },
     "output_type": "display_data"
    },
    {
     "data": {
      "image/png": "[encoded data removed]",
      "text/plain": [
       "<Figure size 432x288 with 1 Axes>"
      ]
     },
     "metadata": {
      "needs_background": "light"
     },
     "output_type": "display_data"
    },
    {
     "data": {
      "image/png": "[encoded data removed]",
      "text/plain": [
       "<Figure size 432x288 with 1 Axes>"
      ]
     },
     "metadata": {
      "needs_background": "light"
     },
     "output_type": "display_data"
    }
   ],
   "source": [
    "linux_users.plot.bar()\n",
    "mac_users.plot.bar()\n",
    "win_users.plot.bar()"
   ]
  },
  {
   "cell_type": "markdown",
   "metadata": {},
   "source": [
    "### Question 4<a name=\"q4\"></a>: between 2017 and 2020, trends of using a __Platform__ in combination with:\n",
    "#### Programming language, Database, Framework, Developer type"
   ]
  },
  {
   "cell_type": "markdown",
   "metadata": {},
   "source": [
    "The target data related to this question are located on columns of:\n",
    "\\['Respondent', 'DeveloperType', 'HaveWorkedPlatform', 'HaveWorkedLanguage', 'HaveWorkedFramework', 'HaveWorkedDatabase'\\]. \n",
    "\n",
    "In order to keep column names consistent with all datasets, 2017 dataset columns because of different naming convention could be renamed.\n",
    "\n",
    "'Nan' types could be safely removed because we are only interested in the count of categories. This process is done once per year data from 2017 till 2020. \n",
    "\n",
    "Selected two column combinations for every year data (2017-2020) are:\n",
    "\n",
    "platform-database, \n",
    "\n",
    "platform-language,\n",
    "\n",
    "platform-devtype,\n",
    "\n",
    "platform-framework.\n",
    "\n",
    "It means from 6 columns above, two by two will be formatted and counted while one of two stays always as 'platform'."
   ]
  },
  {
   "cell_type": "markdown",
   "metadata": {},
   "source": [
    "### 2017 and data preparation <a name=\"datapreparation4\"></a>"
   ]
  },
  {
   "cell_type": "markdown",
   "metadata": {},
   "source": [
    "Dataframes are suffixed with year number plus underscore and number of selected columns. \n",
    "\n",
    "This means 'df17_6col' means dataframe from 2017 and selecting 6 interesting columns needed to answer the question."
   ]
  },
  {
   "cell_type": "code",
   "execution_count": 23,
   "metadata": {},
   "outputs": [
    {
     "data": {
      "text/html": [
       "<div>\n",
       "<style scoped>\n",
       "    .dataframe tbody tr th:only-of-type {\n",
       "        vertical-align: middle;\n",
       "    }\n",
       "\n",
       "    .dataframe tbody tr th {\n",
       "        vertical-align: top;\n",
       "    }\n",
       "\n",
       "    .dataframe thead th {\n",
       "        text-align: right;\n",
       "    }\n",
       "</style>\n",
       "<table border=\"1\" class=\"dataframe\">\n",
       "  <thead>\n",
       "    <tr style=\"text-align: right;\">\n",
       "      <th></th>\n",
       "      <th>Respondent</th>\n",
       "      <th>DevType</th>\n",
       "      <th>PlatformWorkedWith</th>\n",
       "      <th>LanguageWorkedWith</th>\n",
       "      <th>FrameworkWorkedWith</th>\n",
       "      <th>DatabaseWorkedWith</th>\n",
       "    </tr>\n",
       "  </thead>\n",
       "  <tbody>\n",
       "    <tr>\n",
       "      <th>7</th>\n",
       "      <td>8</td>\n",
       "      <td>Web developer</td>\n",
       "      <td>Amazon Web Services (AWS)</td>\n",
       "      <td>CoffeeScript; Clojure; Elixir; Erlang; Haskell...</td>\n",
       "      <td>React</td>\n",
       "      <td>Redis; MySQL; PostgreSQL</td>\n",
       "    </tr>\n",
       "    <tr>\n",
       "      <th>8</th>\n",
       "      <td>9</td>\n",
       "      <td>Web developer; Mobile developer</td>\n",
       "      <td>Android; Microsoft Azure</td>\n",
       "      <td>C#; JavaScript</td>\n",
       "      <td>AngularJS; Node.js; .NET Core</td>\n",
       "      <td>SQL Server</td>\n",
       "    </tr>\n",
       "    <tr>\n",
       "      <th>13</th>\n",
       "      <td>14</td>\n",
       "      <td>Web developer</td>\n",
       "      <td>Amazon Web Services (AWS)</td>\n",
       "      <td>Java; JavaScript; Ruby; SQL</td>\n",
       "      <td>React</td>\n",
       "      <td>Redis; MySQL; PostgreSQL</td>\n",
       "    </tr>\n",
       "    <tr>\n",
       "      <th>17</th>\n",
       "      <td>18</td>\n",
       "      <td>Web developer; Embedded applications/devices d...</td>\n",
       "      <td>Linux Desktop; Amazon Web Services (AWS)</td>\n",
       "      <td>C; Clojure; JavaScript; Matlab; Rust; SQL; Swift</td>\n",
       "      <td>React</td>\n",
       "      <td>MySQL; PostgreSQL; Oracle</td>\n",
       "    </tr>\n",
       "    <tr>\n",
       "      <th>21</th>\n",
       "      <td>22</td>\n",
       "      <td>Web developer; Mobile developer; Desktop appli...</td>\n",
       "      <td>Windows Phone; Windows Desktop; Raspberry Pi; ...</td>\n",
       "      <td>C#; JavaScript; SQL</td>\n",
       "      <td>AngularJS</td>\n",
       "      <td>SQL Server</td>\n",
       "    </tr>\n",
       "  </tbody>\n",
       "</table>\n",
       "</div>"
      ],
      "text/plain": [
       "    Respondent                                            DevType  \\\n",
       "7            8                                      Web developer   \n",
       "8            9                    Web developer; Mobile developer   \n",
       "13          14                                      Web developer   \n",
       "17          18  Web developer; Embedded applications/devices d...   \n",
       "21          22  Web developer; Mobile developer; Desktop appli...   \n",
       "\n",
       "                                   PlatformWorkedWith  \\\n",
       "7                           Amazon Web Services (AWS)   \n",
       "8                            Android; Microsoft Azure   \n",
       "13                          Amazon Web Services (AWS)   \n",
       "17           Linux Desktop; Amazon Web Services (AWS)   \n",
       "21  Windows Phone; Windows Desktop; Raspberry Pi; ...   \n",
       "\n",
       "                                   LanguageWorkedWith  \\\n",
       "7   CoffeeScript; Clojure; Elixir; Erlang; Haskell...   \n",
       "8                                      C#; JavaScript   \n",
       "13                        Java; JavaScript; Ruby; SQL   \n",
       "17   C; Clojure; JavaScript; Matlab; Rust; SQL; Swift   \n",
       "21                                C#; JavaScript; SQL   \n",
       "\n",
       "              FrameworkWorkedWith         DatabaseWorkedWith  \n",
       "7                           React   Redis; MySQL; PostgreSQL  \n",
       "8   AngularJS; Node.js; .NET Core                 SQL Server  \n",
       "13                          React   Redis; MySQL; PostgreSQL  \n",
       "17                          React  MySQL; PostgreSQL; Oracle  \n",
       "21                      AngularJS                 SQL Server  "
      ]
     },
     "execution_count": 23,
     "metadata": {},
     "output_type": "execute_result"
    }
   ],
   "source": [
    "df17_6col = df17.dropna(subset=['Respondent', 'DeveloperType', 'HaveWorkedPlatform', 'HaveWorkedLanguage', 'HaveWorkedFramework', 'HaveWorkedDatabase'], axis=0)\n",
    "df17_6col = df17_6col[[ 'Respondent', 'DeveloperType', 'HaveWorkedPlatform', 'HaveWorkedLanguage', 'HaveWorkedFramework', 'HaveWorkedDatabase']]\n",
    "\n",
    "# Columns are renamed to keep them consistent among all years data. 2017 uses different notion.\n",
    "newColumns= list(('DevType', 'PlatformWorkedWith', 'LanguageWorkedWith', 'FrameworkWorkedWith', 'DatabaseWorkedWith'))\n",
    "oldColumns= list(('DeveloperType', 'HaveWorkedPlatform', 'HaveWorkedLanguage', 'HaveWorkedFramework', 'HaveWorkedDatabase'))\n",
    "\n",
    "df17_6col.rename(columns=dict(zip(oldColumns, newColumns)), inplace=True)\n",
    "\n",
    "df17_6col.head()"
   ]
  },
  {
   "cell_type": "markdown",
   "metadata": {},
   "source": [
    "Since every two combination of columns are needed, for simplicity only two columns of previously cleaned dataset will be used. To analyse platform and programming language combination, we will need exactly these two columns from cleaned database.\n",
    "\n",
    "There is two columns with multiple answers in every cell in this case. So the process of formatting (using 'split_strip' function) togther with 'apply' and 'explode' methods will be repeated for two columns sequentially.\n",
    "\n",
    "This process is repeated for each of two combinations for every year."
   ]
  },
  {
   "cell_type": "markdown",
   "metadata": {},
   "source": [
    "### 2017"
   ]
  },
  {
   "cell_type": "markdown",
   "metadata": {},
   "source": [
    "### platform-language"
   ]
  },
  {
   "cell_type": "code",
   "execution_count": 24,
   "metadata": {},
   "outputs": [
    {
     "data": {
      "text/html": [
       "<div>\n",
       "<style scoped>\n",
       "    .dataframe tbody tr th:only-of-type {\n",
       "        vertical-align: middle;\n",
       "    }\n",
       "\n",
       "    .dataframe tbody tr th {\n",
       "        vertical-align: top;\n",
       "    }\n",
       "\n",
       "    .dataframe thead th {\n",
       "        text-align: right;\n",
       "    }\n",
       "</style>\n",
       "<table border=\"1\" class=\"dataframe\">\n",
       "  <thead>\n",
       "    <tr style=\"text-align: right;\">\n",
       "      <th></th>\n",
       "      <th>LanguageWorkedWith</th>\n",
       "      <th>PlatformWorkedWith</th>\n",
       "    </tr>\n",
       "  </thead>\n",
       "  <tbody>\n",
       "    <tr>\n",
       "      <th>0</th>\n",
       "      <td>CoffeeScript; Clojure; Elixir; Erlang; Haskell...</td>\n",
       "      <td>Amazon Web Services (AWS)</td>\n",
       "    </tr>\n",
       "    <tr>\n",
       "      <th>1</th>\n",
       "      <td>C#; JavaScript</td>\n",
       "      <td>Android</td>\n",
       "    </tr>\n",
       "    <tr>\n",
       "      <th>2</th>\n",
       "      <td>C#; JavaScript</td>\n",
       "      <td>Microsoft Azure</td>\n",
       "    </tr>\n",
       "    <tr>\n",
       "      <th>3</th>\n",
       "      <td>Java; JavaScript; Ruby; SQL</td>\n",
       "      <td>Amazon Web Services (AWS)</td>\n",
       "    </tr>\n",
       "    <tr>\n",
       "      <th>4</th>\n",
       "      <td>C; Clojure; JavaScript; Matlab; Rust; SQL; Swift</td>\n",
       "      <td>Linux Desktop</td>\n",
       "    </tr>\n",
       "  </tbody>\n",
       "</table>\n",
       "</div>"
      ],
      "text/plain": [
       "                                  LanguageWorkedWith  \\\n",
       "0  CoffeeScript; Clojure; Elixir; Erlang; Haskell...   \n",
       "1                                     C#; JavaScript   \n",
       "2                                     C#; JavaScript   \n",
       "3                        Java; JavaScript; Ruby; SQL   \n",
       "4   C; Clojure; JavaScript; Matlab; Rust; SQL; Swift   \n",
       "\n",
       "          PlatformWorkedWith  \n",
       "0  Amazon Web Services (AWS)  \n",
       "1                    Android  \n",
       "2            Microsoft Azure  \n",
       "3  Amazon Web Services (AWS)  \n",
       "4              Linux Desktop  "
      ]
     },
     "execution_count": 24,
     "metadata": {},
     "output_type": "execute_result"
    }
   ],
   "source": [
    "df17_plat_lang = df17_6col[[\"LanguageWorkedWith\",\"PlatformWorkedWith\"]]\n",
    "df17_plat_lang = df17_plat_lang.assign(PlatformWorkedWith=df17_plat_lang['PlatformWorkedWith'].apply(split_strip)).explode('PlatformWorkedWith').reset_index(drop=True)\n",
    "df17_plat_lang.head()"
   ]
  },
  {
   "cell_type": "markdown",
   "metadata": {},
   "source": [
    "As we can see above, platform column is formatted and exploded properly.\n",
    "\n",
    "To be able to find the right combination of tow columns, we need to format and separate language column too.\n",
    "\n",
    "The same process is done below on the second column which is language."
   ]
  },
  {
   "cell_type": "code",
   "execution_count": 25,
   "metadata": {},
   "outputs": [
    {
     "data": {
      "text/html": [
       "<div>\n",
       "<style scoped>\n",
       "    .dataframe tbody tr th:only-of-type {\n",
       "        vertical-align: middle;\n",
       "    }\n",
       "\n",
       "    .dataframe tbody tr th {\n",
       "        vertical-align: top;\n",
       "    }\n",
       "\n",
       "    .dataframe thead th {\n",
       "        text-align: right;\n",
       "    }\n",
       "</style>\n",
       "<table border=\"1\" class=\"dataframe\">\n",
       "  <thead>\n",
       "    <tr style=\"text-align: right;\">\n",
       "      <th></th>\n",
       "      <th>LanguageWorkedWith</th>\n",
       "      <th>PlatformWorkedWith</th>\n",
       "    </tr>\n",
       "  </thead>\n",
       "  <tbody>\n",
       "    <tr>\n",
       "      <th>0</th>\n",
       "      <td>CoffeeScript</td>\n",
       "      <td>Amazon Web Services (AWS)</td>\n",
       "    </tr>\n",
       "    <tr>\n",
       "      <th>1</th>\n",
       "      <td>Clojure</td>\n",
       "      <td>Amazon Web Services (AWS)</td>\n",
       "    </tr>\n",
       "    <tr>\n",
       "      <th>2</th>\n",
       "      <td>Elixir</td>\n",
       "      <td>Amazon Web Services (AWS)</td>\n",
       "    </tr>\n",
       "    <tr>\n",
       "      <th>3</th>\n",
       "      <td>Erlang</td>\n",
       "      <td>Amazon Web Services (AWS)</td>\n",
       "    </tr>\n",
       "    <tr>\n",
       "      <th>4</th>\n",
       "      <td>Haskell</td>\n",
       "      <td>Amazon Web Services (AWS)</td>\n",
       "    </tr>\n",
       "  </tbody>\n",
       "</table>\n",
       "</div>"
      ],
      "text/plain": [
       "  LanguageWorkedWith         PlatformWorkedWith\n",
       "0       CoffeeScript  Amazon Web Services (AWS)\n",
       "1            Clojure  Amazon Web Services (AWS)\n",
       "2             Elixir  Amazon Web Services (AWS)\n",
       "3             Erlang  Amazon Web Services (AWS)\n",
       "4            Haskell  Amazon Web Services (AWS)"
      ]
     },
     "execution_count": 25,
     "metadata": {},
     "output_type": "execute_result"
    }
   ],
   "source": [
    "df17_plat_lang = df17_plat_lang.assign(LanguageWorkedWith=df17_plat_lang['LanguageWorkedWith'].apply(split_strip)).explode('LanguageWorkedWith').reset_index(drop=True)\n",
    "df17_plat_lang.head()"
   ]
  },
  {
   "cell_type": "markdown",
   "metadata": {},
   "source": [
    "Now both columns are formatted and exploded correctly. It is time to count each combination of languages and platforms. Then the first part of the question for specified year will be answered.\n",
    "\n",
    "We are interested in grouping two cloumns together hence groupby is useful here. But there are only two columns chosen for this part hence there is no column left to carry out the 'count' on it. This is why 'size' is used instead.\n",
    "\n",
    "After resetting the index, we can sort count values to get the final result."
   ]
  },
  {
   "cell_type": "code",
   "execution_count": 26,
   "metadata": {},
   "outputs": [
    {
     "data": {
      "text/html": [
       "<div>\n",
       "<style scoped>\n",
       "    .dataframe tbody tr th:only-of-type {\n",
       "        vertical-align: middle;\n",
       "    }\n",
       "\n",
       "    .dataframe tbody tr th {\n",
       "        vertical-align: top;\n",
       "    }\n",
       "\n",
       "    .dataframe thead th {\n",
       "        text-align: right;\n",
       "    }\n",
       "</style>\n",
       "<table border=\"1\" class=\"dataframe\">\n",
       "  <thead>\n",
       "    <tr style=\"text-align: right;\">\n",
       "      <th></th>\n",
       "      <th>PlatformWorkedWith</th>\n",
       "      <th>LanguageWorkedWith</th>\n",
       "      <th>Count</th>\n",
       "    </tr>\n",
       "  </thead>\n",
       "  <tbody>\n",
       "    <tr>\n",
       "      <th>0</th>\n",
       "      <td>Amazon Web Services (AWS)</td>\n",
       "      <td>JavaScript</td>\n",
       "      <td>4204</td>\n",
       "    </tr>\n",
       "    <tr>\n",
       "      <th>1</th>\n",
       "      <td>Windows Desktop</td>\n",
       "      <td>JavaScript</td>\n",
       "      <td>3804</td>\n",
       "    </tr>\n",
       "    <tr>\n",
       "      <th>2</th>\n",
       "      <td>Windows Desktop</td>\n",
       "      <td>SQL</td>\n",
       "      <td>3567</td>\n",
       "    </tr>\n",
       "    <tr>\n",
       "      <th>3</th>\n",
       "      <td>Windows Desktop</td>\n",
       "      <td>C#</td>\n",
       "      <td>3501</td>\n",
       "    </tr>\n",
       "    <tr>\n",
       "      <th>4</th>\n",
       "      <td>Android</td>\n",
       "      <td>JavaScript</td>\n",
       "      <td>3246</td>\n",
       "    </tr>\n",
       "  </tbody>\n",
       "</table>\n",
       "</div>"
      ],
      "text/plain": [
       "          PlatformWorkedWith LanguageWorkedWith  Count\n",
       "0  Amazon Web Services (AWS)         JavaScript   4204\n",
       "1            Windows Desktop         JavaScript   3804\n",
       "2            Windows Desktop                SQL   3567\n",
       "3            Windows Desktop                 C#   3501\n",
       "4                    Android         JavaScript   3246"
      ]
     },
     "execution_count": 26,
     "metadata": {},
     "output_type": "execute_result"
    }
   ],
   "source": [
    "df17_plat_lang = pd.DataFrame({'Count' : df17_plat_lang.groupby( [ 'PlatformWorkedWith', 'LanguageWorkedWith'] ).size()}).reset_index().sort_values(by=['Count'], ascending=False).reset_index(drop=True)\n",
    "df17_plat_lang.head()"
   ]
  },
  {
   "cell_type": "markdown",
   "metadata": {},
   "source": [
    "To make it easier to answer the question, quantile is helpful in order to find the top x (here top %5) percent of the result (as shown in nex cell)"
   ]
  },
  {
   "cell_type": "code",
   "execution_count": 27,
   "metadata": {},
   "outputs": [
    {
     "data": {
      "text/plain": [
       "<AxesSubplot:ylabel='PlatformWorkedWith,LanguageWorkedWith'>"
      ]
     },
     "execution_count": 27,
     "metadata": {},
     "output_type": "execute_result"
    },
    {
     "data": {
      "image/png": "[encoded data removed]",
      "text/plain": [
       "<Figure size 432x288 with 1 Axes>"
      ]
     },
     "metadata": {
      "needs_background": "light"
     },
     "output_type": "display_data"
    }
   ],
   "source": [
    "df17_plat_lang[df17_plat_lang.Count > df17_plat_lang.Count.quantile(0.950)].set_index([ 'PlatformWorkedWith', 'LanguageWorkedWith']).plot.barh()"
   ]
  },
  {
   "cell_type": "markdown",
   "metadata": {},
   "source": [
    "From this cell onwards, the same logic applies to every year data and with combinations of columns below:\n",
    "\n",
    "platform-database, \n",
    "\n",
    "platform-language,\n",
    "\n",
    "platform-devtype,\n",
    "\n",
    "platform-framework."
   ]
  },
  {
   "cell_type": "markdown",
   "metadata": {},
   "source": [
    "### 2017"
   ]
  },
  {
   "cell_type": "markdown",
   "metadata": {},
   "source": [
    "### platform-database"
   ]
  },
  {
   "cell_type": "code",
   "execution_count": 28,
   "metadata": {},
   "outputs": [
    {
     "data": {
      "text/html": [
       "<div>\n",
       "<style scoped>\n",
       "    .dataframe tbody tr th:only-of-type {\n",
       "        vertical-align: middle;\n",
       "    }\n",
       "\n",
       "    .dataframe tbody tr th {\n",
       "        vertical-align: top;\n",
       "    }\n",
       "\n",
       "    .dataframe thead th {\n",
       "        text-align: right;\n",
       "    }\n",
       "</style>\n",
       "<table border=\"1\" class=\"dataframe\">\n",
       "  <thead>\n",
       "    <tr style=\"text-align: right;\">\n",
       "      <th></th>\n",
       "      <th>DatabaseWorkedWith</th>\n",
       "      <th>PlatformWorkedWith</th>\n",
       "    </tr>\n",
       "  </thead>\n",
       "  <tbody>\n",
       "    <tr>\n",
       "      <th>0</th>\n",
       "      <td>Redis; MySQL; PostgreSQL</td>\n",
       "      <td>Amazon Web Services (AWS)</td>\n",
       "    </tr>\n",
       "    <tr>\n",
       "      <th>1</th>\n",
       "      <td>SQL Server</td>\n",
       "      <td>Android</td>\n",
       "    </tr>\n",
       "    <tr>\n",
       "      <th>2</th>\n",
       "      <td>SQL Server</td>\n",
       "      <td>Microsoft Azure</td>\n",
       "    </tr>\n",
       "    <tr>\n",
       "      <th>3</th>\n",
       "      <td>Redis; MySQL; PostgreSQL</td>\n",
       "      <td>Amazon Web Services (AWS)</td>\n",
       "    </tr>\n",
       "    <tr>\n",
       "      <th>4</th>\n",
       "      <td>MySQL; PostgreSQL; Oracle</td>\n",
       "      <td>Linux Desktop</td>\n",
       "    </tr>\n",
       "  </tbody>\n",
       "</table>\n",
       "</div>"
      ],
      "text/plain": [
       "          DatabaseWorkedWith         PlatformWorkedWith\n",
       "0   Redis; MySQL; PostgreSQL  Amazon Web Services (AWS)\n",
       "1                 SQL Server                    Android\n",
       "2                 SQL Server            Microsoft Azure\n",
       "3   Redis; MySQL; PostgreSQL  Amazon Web Services (AWS)\n",
       "4  MySQL; PostgreSQL; Oracle              Linux Desktop"
      ]
     },
     "execution_count": 28,
     "metadata": {},
     "output_type": "execute_result"
    }
   ],
   "source": [
    "df17_plat_db = df17_6col[[\"DatabaseWorkedWith\",\"PlatformWorkedWith\"]]\n",
    "df17_plat_db = df17_plat_db.assign(PlatformWorkedWith=df17_plat_db['PlatformWorkedWith'].apply(split_strip)).explode('PlatformWorkedWith').reset_index(drop=True)\n",
    "df17_plat_db.head()"
   ]
  },
  {
   "cell_type": "code",
   "execution_count": 29,
   "metadata": {},
   "outputs": [
    {
     "data": {
      "text/html": [
       "<div>\n",
       "<style scoped>\n",
       "    .dataframe tbody tr th:only-of-type {\n",
       "        vertical-align: middle;\n",
       "    }\n",
       "\n",
       "    .dataframe tbody tr th {\n",
       "        vertical-align: top;\n",
       "    }\n",
       "\n",
       "    .dataframe thead th {\n",
       "        text-align: right;\n",
       "    }\n",
       "</style>\n",
       "<table border=\"1\" class=\"dataframe\">\n",
       "  <thead>\n",
       "    <tr style=\"text-align: right;\">\n",
       "      <th></th>\n",
       "      <th>DatabaseWorkedWith</th>\n",
       "      <th>PlatformWorkedWith</th>\n",
       "    </tr>\n",
       "  </thead>\n",
       "  <tbody>\n",
       "    <tr>\n",
       "      <th>0</th>\n",
       "      <td>Redis</td>\n",
       "      <td>Amazon Web Services (AWS)</td>\n",
       "    </tr>\n",
       "    <tr>\n",
       "      <th>1</th>\n",
       "      <td>MySQL</td>\n",
       "      <td>Amazon Web Services (AWS)</td>\n",
       "    </tr>\n",
       "    <tr>\n",
       "      <th>2</th>\n",
       "      <td>PostgreSQL</td>\n",
       "      <td>Amazon Web Services (AWS)</td>\n",
       "    </tr>\n",
       "    <tr>\n",
       "      <th>3</th>\n",
       "      <td>SQL Server</td>\n",
       "      <td>Android</td>\n",
       "    </tr>\n",
       "    <tr>\n",
       "      <th>4</th>\n",
       "      <td>SQL Server</td>\n",
       "      <td>Microsoft Azure</td>\n",
       "    </tr>\n",
       "  </tbody>\n",
       "</table>\n",
       "</div>"
      ],
      "text/plain": [
       "  DatabaseWorkedWith         PlatformWorkedWith\n",
       "0              Redis  Amazon Web Services (AWS)\n",
       "1              MySQL  Amazon Web Services (AWS)\n",
       "2         PostgreSQL  Amazon Web Services (AWS)\n",
       "3         SQL Server                    Android\n",
       "4         SQL Server            Microsoft Azure"
      ]
     },
     "execution_count": 29,
     "metadata": {},
     "output_type": "execute_result"
    }
   ],
   "source": [
    "df17_plat_db = df17_plat_db.assign(DatabaseWorkedWith=df17_plat_db['DatabaseWorkedWith'].apply(split_strip)).explode('DatabaseWorkedWith').reset_index(drop=True)\n",
    "df17_plat_db.head()"
   ]
  },
  {
   "cell_type": "code",
   "execution_count": 30,
   "metadata": {},
   "outputs": [
    {
     "data": {
      "text/html": [
       "<div>\n",
       "<style scoped>\n",
       "    .dataframe tbody tr th:only-of-type {\n",
       "        vertical-align: middle;\n",
       "    }\n",
       "\n",
       "    .dataframe tbody tr th {\n",
       "        vertical-align: top;\n",
       "    }\n",
       "\n",
       "    .dataframe thead th {\n",
       "        text-align: right;\n",
       "    }\n",
       "</style>\n",
       "<table border=\"1\" class=\"dataframe\">\n",
       "  <thead>\n",
       "    <tr style=\"text-align: right;\">\n",
       "      <th></th>\n",
       "      <th>PlatformWorkedWith</th>\n",
       "      <th>DatabaseWorkedWith</th>\n",
       "      <th>Count</th>\n",
       "    </tr>\n",
       "  </thead>\n",
       "  <tbody>\n",
       "    <tr>\n",
       "      <th>0</th>\n",
       "      <td>Windows Desktop</td>\n",
       "      <td>SQL Server</td>\n",
       "      <td>3213</td>\n",
       "    </tr>\n",
       "    <tr>\n",
       "      <th>1</th>\n",
       "      <td>Amazon Web Services (AWS)</td>\n",
       "      <td>MySQL</td>\n",
       "      <td>2995</td>\n",
       "    </tr>\n",
       "    <tr>\n",
       "      <th>2</th>\n",
       "      <td>Android</td>\n",
       "      <td>MySQL</td>\n",
       "      <td>2600</td>\n",
       "    </tr>\n",
       "    <tr>\n",
       "      <th>3</th>\n",
       "      <td>Windows Desktop</td>\n",
       "      <td>MySQL</td>\n",
       "      <td>2538</td>\n",
       "    </tr>\n",
       "    <tr>\n",
       "      <th>4</th>\n",
       "      <td>Linux Desktop</td>\n",
       "      <td>MySQL</td>\n",
       "      <td>2432</td>\n",
       "    </tr>\n",
       "  </tbody>\n",
       "</table>\n",
       "</div>"
      ],
      "text/plain": [
       "          PlatformWorkedWith DatabaseWorkedWith  Count\n",
       "0            Windows Desktop         SQL Server   3213\n",
       "1  Amazon Web Services (AWS)              MySQL   2995\n",
       "2                    Android              MySQL   2600\n",
       "3            Windows Desktop              MySQL   2538\n",
       "4              Linux Desktop              MySQL   2432"
      ]
     },
     "execution_count": 30,
     "metadata": {},
     "output_type": "execute_result"
    }
   ],
   "source": [
    "df17_plat_db = pd.DataFrame({'Count' : df17_plat_db.groupby( [ 'PlatformWorkedWith', 'DatabaseWorkedWith'] ).size()}).reset_index().sort_values(by=['Count'], ascending=False).reset_index(drop=True)\n",
    "df17_plat_db.head()"
   ]
  },
  {
   "cell_type": "code",
   "execution_count": 31,
   "metadata": {},
   "outputs": [
    {
     "data": {
      "text/plain": [
       "<AxesSubplot:ylabel='PlatformWorkedWith,DatabaseWorkedWith'>"
      ]
     },
     "execution_count": 31,
     "metadata": {},
     "output_type": "execute_result"
    },
    {
     "data": {
      "image/png": "[encoded data removed]",
      "text/plain": [
       "<Figure size 432x288 with 1 Axes>"
      ]
     },
     "metadata": {
      "needs_background": "light"
     },
     "output_type": "display_data"
    }
   ],
   "source": [
    "df17_plat_db[df17_plat_db.Count > df17_plat_db.Count.quantile(0.95)].set_index([ 'PlatformWorkedWith', 'DatabaseWorkedWith']).plot.barh()"
   ]
  },
  {
   "cell_type": "markdown",
   "metadata": {},
   "source": [
    "### 2017"
   ]
  },
  {
   "cell_type": "markdown",
   "metadata": {},
   "source": [
    "### platform-Framework"
   ]
  },
  {
   "cell_type": "code",
   "execution_count": 32,
   "metadata": {},
   "outputs": [
    {
     "data": {
      "text/html": [
       "<div>\n",
       "<style scoped>\n",
       "    .dataframe tbody tr th:only-of-type {\n",
       "        vertical-align: middle;\n",
       "    }\n",
       "\n",
       "    .dataframe tbody tr th {\n",
       "        vertical-align: top;\n",
       "    }\n",
       "\n",
       "    .dataframe thead th {\n",
       "        text-align: right;\n",
       "    }\n",
       "</style>\n",
       "<table border=\"1\" class=\"dataframe\">\n",
       "  <thead>\n",
       "    <tr style=\"text-align: right;\">\n",
       "      <th></th>\n",
       "      <th>FrameworkWorkedWith</th>\n",
       "      <th>PlatformWorkedWith</th>\n",
       "    </tr>\n",
       "  </thead>\n",
       "  <tbody>\n",
       "    <tr>\n",
       "      <th>0</th>\n",
       "      <td>React</td>\n",
       "      <td>Amazon Web Services (AWS)</td>\n",
       "    </tr>\n",
       "    <tr>\n",
       "      <th>1</th>\n",
       "      <td>AngularJS; Node.js; .NET Core</td>\n",
       "      <td>Android</td>\n",
       "    </tr>\n",
       "    <tr>\n",
       "      <th>2</th>\n",
       "      <td>AngularJS; Node.js; .NET Core</td>\n",
       "      <td>Microsoft Azure</td>\n",
       "    </tr>\n",
       "    <tr>\n",
       "      <th>3</th>\n",
       "      <td>React</td>\n",
       "      <td>Amazon Web Services (AWS)</td>\n",
       "    </tr>\n",
       "    <tr>\n",
       "      <th>4</th>\n",
       "      <td>React</td>\n",
       "      <td>Linux Desktop</td>\n",
       "    </tr>\n",
       "  </tbody>\n",
       "</table>\n",
       "</div>"
      ],
      "text/plain": [
       "             FrameworkWorkedWith         PlatformWorkedWith\n",
       "0                          React  Amazon Web Services (AWS)\n",
       "1  AngularJS; Node.js; .NET Core                    Android\n",
       "2  AngularJS; Node.js; .NET Core            Microsoft Azure\n",
       "3                          React  Amazon Web Services (AWS)\n",
       "4                          React              Linux Desktop"
      ]
     },
     "execution_count": 32,
     "metadata": {},
     "output_type": "execute_result"
    }
   ],
   "source": [
    "df17_plat_fw = df17_6col[[\"FrameworkWorkedWith\",\"PlatformWorkedWith\"]]\n",
    "df17_plat_fw = df17_plat_fw.assign(PlatformWorkedWith=df17_plat_fw['PlatformWorkedWith'].apply(split_strip)).explode('PlatformWorkedWith').reset_index(drop=True)\n",
    "df17_plat_fw.head()"
   ]
  },
  {
   "cell_type": "code",
   "execution_count": 33,
   "metadata": {},
   "outputs": [
    {
     "data": {
      "text/html": [
       "<div>\n",
       "<style scoped>\n",
       "    .dataframe tbody tr th:only-of-type {\n",
       "        vertical-align: middle;\n",
       "    }\n",
       "\n",
       "    .dataframe tbody tr th {\n",
       "        vertical-align: top;\n",
       "    }\n",
       "\n",
       "    .dataframe thead th {\n",
       "        text-align: right;\n",
       "    }\n",
       "</style>\n",
       "<table border=\"1\" class=\"dataframe\">\n",
       "  <thead>\n",
       "    <tr style=\"text-align: right;\">\n",
       "      <th></th>\n",
       "      <th>FrameworkWorkedWith</th>\n",
       "      <th>PlatformWorkedWith</th>\n",
       "    </tr>\n",
       "  </thead>\n",
       "  <tbody>\n",
       "    <tr>\n",
       "      <th>0</th>\n",
       "      <td>React</td>\n",
       "      <td>Amazon Web Services (AWS)</td>\n",
       "    </tr>\n",
       "    <tr>\n",
       "      <th>1</th>\n",
       "      <td>AngularJS</td>\n",
       "      <td>Android</td>\n",
       "    </tr>\n",
       "    <tr>\n",
       "      <th>2</th>\n",
       "      <td>Node.js</td>\n",
       "      <td>Android</td>\n",
       "    </tr>\n",
       "    <tr>\n",
       "      <th>3</th>\n",
       "      <td>.NET Core</td>\n",
       "      <td>Android</td>\n",
       "    </tr>\n",
       "    <tr>\n",
       "      <th>4</th>\n",
       "      <td>AngularJS</td>\n",
       "      <td>Microsoft Azure</td>\n",
       "    </tr>\n",
       "  </tbody>\n",
       "</table>\n",
       "</div>"
      ],
      "text/plain": [
       "  FrameworkWorkedWith         PlatformWorkedWith\n",
       "0               React  Amazon Web Services (AWS)\n",
       "1           AngularJS                    Android\n",
       "2             Node.js                    Android\n",
       "3           .NET Core                    Android\n",
       "4           AngularJS            Microsoft Azure"
      ]
     },
     "execution_count": 33,
     "metadata": {},
     "output_type": "execute_result"
    }
   ],
   "source": [
    "df17_plat_fw = df17_plat_fw.assign(FrameworkWorkedWith=df17_plat_fw['FrameworkWorkedWith'].apply(split_strip)).explode('FrameworkWorkedWith').reset_index(drop=True)\n",
    "df17_plat_fw.head()"
   ]
  },
  {
   "cell_type": "code",
   "execution_count": 34,
   "metadata": {},
   "outputs": [
    {
     "data": {
      "text/html": [
       "<div>\n",
       "<style scoped>\n",
       "    .dataframe tbody tr th:only-of-type {\n",
       "        vertical-align: middle;\n",
       "    }\n",
       "\n",
       "    .dataframe tbody tr th {\n",
       "        vertical-align: top;\n",
       "    }\n",
       "\n",
       "    .dataframe thead th {\n",
       "        text-align: right;\n",
       "    }\n",
       "</style>\n",
       "<table border=\"1\" class=\"dataframe\">\n",
       "  <thead>\n",
       "    <tr style=\"text-align: right;\">\n",
       "      <th></th>\n",
       "      <th>PlatformWorkedWith</th>\n",
       "      <th>FrameworkWorkedWith</th>\n",
       "      <th>Count</th>\n",
       "    </tr>\n",
       "  </thead>\n",
       "  <tbody>\n",
       "    <tr>\n",
       "      <th>0</th>\n",
       "      <td>Amazon Web Services (AWS)</td>\n",
       "      <td>Node.js</td>\n",
       "      <td>2938</td>\n",
       "    </tr>\n",
       "    <tr>\n",
       "      <th>1</th>\n",
       "      <td>Windows Desktop</td>\n",
       "      <td>.NET Core</td>\n",
       "      <td>2756</td>\n",
       "    </tr>\n",
       "    <tr>\n",
       "      <th>2</th>\n",
       "      <td>Amazon Web Services (AWS)</td>\n",
       "      <td>AngularJS</td>\n",
       "      <td>2544</td>\n",
       "    </tr>\n",
       "    <tr>\n",
       "      <th>3</th>\n",
       "      <td>Windows Desktop</td>\n",
       "      <td>AngularJS</td>\n",
       "      <td>2175</td>\n",
       "    </tr>\n",
       "    <tr>\n",
       "      <th>4</th>\n",
       "      <td>Linux Desktop</td>\n",
       "      <td>Node.js</td>\n",
       "      <td>2081</td>\n",
       "    </tr>\n",
       "  </tbody>\n",
       "</table>\n",
       "</div>"
      ],
      "text/plain": [
       "          PlatformWorkedWith FrameworkWorkedWith  Count\n",
       "0  Amazon Web Services (AWS)             Node.js   2938\n",
       "1            Windows Desktop           .NET Core   2756\n",
       "2  Amazon Web Services (AWS)           AngularJS   2544\n",
       "3            Windows Desktop           AngularJS   2175\n",
       "4              Linux Desktop             Node.js   2081"
      ]
     },
     "execution_count": 34,
     "metadata": {},
     "output_type": "execute_result"
    }
   ],
   "source": [
    "df17_plat_fw= pd.DataFrame({'Count' : df17_plat_fw.groupby(['PlatformWorkedWith', 'FrameworkWorkedWith']).size()}).reset_index().sort_values(by=['Count'], ascending=False).reset_index(drop=True)\n",
    "df17_plat_fw.head()"
   ]
  },
  {
   "cell_type": "code",
   "execution_count": 35,
   "metadata": {},
   "outputs": [
    {
     "data": {
      "text/plain": [
       "<AxesSubplot:ylabel='PlatformWorkedWith,FrameworkWorkedWith'>"
      ]
     },
     "execution_count": 35,
     "metadata": {},
     "output_type": "execute_result"
    },
    {
     "data": {
      "image/png": "[encoded data removed]",
      "text/plain": [
       "<Figure size 432x288 with 1 Axes>"
      ]
     },
     "metadata": {
      "needs_background": "light"
     },
     "output_type": "display_data"
    }
   ],
   "source": [
    "df17_plat_fw[df17_plat_fw.Count > df17_plat_fw.Count.quantile(0.95)].set_index([ 'PlatformWorkedWith', 'FrameworkWorkedWith']).plot.barh()"
   ]
  },
  {
   "cell_type": "markdown",
   "metadata": {},
   "source": [
    "### 2017"
   ]
  },
  {
   "cell_type": "markdown",
   "metadata": {},
   "source": [
    "### platform-DeveloperType"
   ]
  },
  {
   "cell_type": "code",
   "execution_count": 36,
   "metadata": {},
   "outputs": [
    {
     "data": {
      "text/html": [
       "<div>\n",
       "<style scoped>\n",
       "    .dataframe tbody tr th:only-of-type {\n",
       "        vertical-align: middle;\n",
       "    }\n",
       "\n",
       "    .dataframe tbody tr th {\n",
       "        vertical-align: top;\n",
       "    }\n",
       "\n",
       "    .dataframe thead th {\n",
       "        text-align: right;\n",
       "    }\n",
       "</style>\n",
       "<table border=\"1\" class=\"dataframe\">\n",
       "  <thead>\n",
       "    <tr style=\"text-align: right;\">\n",
       "      <th></th>\n",
       "      <th>DevType</th>\n",
       "      <th>PlatformWorkedWith</th>\n",
       "    </tr>\n",
       "  </thead>\n",
       "  <tbody>\n",
       "    <tr>\n",
       "      <th>0</th>\n",
       "      <td>Web developer</td>\n",
       "      <td>Amazon Web Services (AWS)</td>\n",
       "    </tr>\n",
       "    <tr>\n",
       "      <th>1</th>\n",
       "      <td>Web developer; Mobile developer</td>\n",
       "      <td>Android</td>\n",
       "    </tr>\n",
       "    <tr>\n",
       "      <th>2</th>\n",
       "      <td>Web developer; Mobile developer</td>\n",
       "      <td>Microsoft Azure</td>\n",
       "    </tr>\n",
       "    <tr>\n",
       "      <th>3</th>\n",
       "      <td>Web developer</td>\n",
       "      <td>Amazon Web Services (AWS)</td>\n",
       "    </tr>\n",
       "    <tr>\n",
       "      <th>4</th>\n",
       "      <td>Web developer; Embedded applications/devices d...</td>\n",
       "      <td>Linux Desktop</td>\n",
       "    </tr>\n",
       "  </tbody>\n",
       "</table>\n",
       "</div>"
      ],
      "text/plain": [
       "                                             DevType  \\\n",
       "0                                      Web developer   \n",
       "1                    Web developer; Mobile developer   \n",
       "2                    Web developer; Mobile developer   \n",
       "3                                      Web developer   \n",
       "4  Web developer; Embedded applications/devices d...   \n",
       "\n",
       "          PlatformWorkedWith  \n",
       "0  Amazon Web Services (AWS)  \n",
       "1                    Android  \n",
       "2            Microsoft Azure  \n",
       "3  Amazon Web Services (AWS)  \n",
       "4              Linux Desktop  "
      ]
     },
     "execution_count": 36,
     "metadata": {},
     "output_type": "execute_result"
    }
   ],
   "source": [
    "df17_plat_dt = df17_6col[[\"DevType\",\"PlatformWorkedWith\"]]\n",
    "df17_plat_dt = df17_plat_dt.assign(PlatformWorkedWith=df17_plat_dt['PlatformWorkedWith'].apply(split_strip)).explode('PlatformWorkedWith').reset_index(drop=True)\n",
    "df17_plat_dt.head()"
   ]
  },
  {
   "cell_type": "code",
   "execution_count": 37,
   "metadata": {},
   "outputs": [
    {
     "data": {
      "text/html": [
       "<div>\n",
       "<style scoped>\n",
       "    .dataframe tbody tr th:only-of-type {\n",
       "        vertical-align: middle;\n",
       "    }\n",
       "\n",
       "    .dataframe tbody tr th {\n",
       "        vertical-align: top;\n",
       "    }\n",
       "\n",
       "    .dataframe thead th {\n",
       "        text-align: right;\n",
       "    }\n",
       "</style>\n",
       "<table border=\"1\" class=\"dataframe\">\n",
       "  <thead>\n",
       "    <tr style=\"text-align: right;\">\n",
       "      <th></th>\n",
       "      <th>DevType</th>\n",
       "      <th>PlatformWorkedWith</th>\n",
       "    </tr>\n",
       "  </thead>\n",
       "  <tbody>\n",
       "    <tr>\n",
       "      <th>0</th>\n",
       "      <td>Web developer</td>\n",
       "      <td>Amazon Web Services (AWS)</td>\n",
       "    </tr>\n",
       "    <tr>\n",
       "      <th>1</th>\n",
       "      <td>Web developer</td>\n",
       "      <td>Android</td>\n",
       "    </tr>\n",
       "    <tr>\n",
       "      <th>2</th>\n",
       "      <td>Mobile developer</td>\n",
       "      <td>Android</td>\n",
       "    </tr>\n",
       "    <tr>\n",
       "      <th>3</th>\n",
       "      <td>Web developer</td>\n",
       "      <td>Microsoft Azure</td>\n",
       "    </tr>\n",
       "    <tr>\n",
       "      <th>4</th>\n",
       "      <td>Mobile developer</td>\n",
       "      <td>Microsoft Azure</td>\n",
       "    </tr>\n",
       "  </tbody>\n",
       "</table>\n",
       "</div>"
      ],
      "text/plain": [
       "            DevType         PlatformWorkedWith\n",
       "0     Web developer  Amazon Web Services (AWS)\n",
       "1     Web developer                    Android\n",
       "2  Mobile developer                    Android\n",
       "3     Web developer            Microsoft Azure\n",
       "4  Mobile developer            Microsoft Azure"
      ]
     },
     "execution_count": 37,
     "metadata": {},
     "output_type": "execute_result"
    }
   ],
   "source": [
    "df17_plat_dt = df17_plat_dt.assign(DevType=df17_plat_dt['DevType'].apply(split_strip)).explode('DevType').reset_index(drop=True)\n",
    "df17_plat_dt.head()"
   ]
  },
  {
   "cell_type": "code",
   "execution_count": 38,
   "metadata": {},
   "outputs": [
    {
     "data": {
      "text/html": [
       "<div>\n",
       "<style scoped>\n",
       "    .dataframe tbody tr th:only-of-type {\n",
       "        vertical-align: middle;\n",
       "    }\n",
       "\n",
       "    .dataframe tbody tr th {\n",
       "        vertical-align: top;\n",
       "    }\n",
       "\n",
       "    .dataframe thead th {\n",
       "        text-align: right;\n",
       "    }\n",
       "</style>\n",
       "<table border=\"1\" class=\"dataframe\">\n",
       "  <thead>\n",
       "    <tr style=\"text-align: right;\">\n",
       "      <th></th>\n",
       "      <th>PlatformWorkedWith</th>\n",
       "      <th>DevType</th>\n",
       "      <th>Count</th>\n",
       "    </tr>\n",
       "  </thead>\n",
       "  <tbody>\n",
       "    <tr>\n",
       "      <th>0</th>\n",
       "      <td>Amazon Web Services (AWS)</td>\n",
       "      <td>Web developer</td>\n",
       "      <td>4204</td>\n",
       "    </tr>\n",
       "    <tr>\n",
       "      <th>1</th>\n",
       "      <td>Windows Desktop</td>\n",
       "      <td>Web developer</td>\n",
       "      <td>3803</td>\n",
       "    </tr>\n",
       "    <tr>\n",
       "      <th>2</th>\n",
       "      <td>Android</td>\n",
       "      <td>Web developer</td>\n",
       "      <td>3177</td>\n",
       "    </tr>\n",
       "    <tr>\n",
       "      <th>3</th>\n",
       "      <td>Linux Desktop</td>\n",
       "      <td>Web developer</td>\n",
       "      <td>2921</td>\n",
       "    </tr>\n",
       "    <tr>\n",
       "      <th>4</th>\n",
       "      <td>Windows Desktop</td>\n",
       "      <td>Desktop applications developer</td>\n",
       "      <td>2844</td>\n",
       "    </tr>\n",
       "  </tbody>\n",
       "</table>\n",
       "</div>"
      ],
      "text/plain": [
       "          PlatformWorkedWith                         DevType  Count\n",
       "0  Amazon Web Services (AWS)                   Web developer   4204\n",
       "1            Windows Desktop                   Web developer   3803\n",
       "2                    Android                   Web developer   3177\n",
       "3              Linux Desktop                   Web developer   2921\n",
       "4            Windows Desktop  Desktop applications developer   2844"
      ]
     },
     "execution_count": 38,
     "metadata": {},
     "output_type": "execute_result"
    }
   ],
   "source": [
    "df17_plat_dt = pd.DataFrame({'Count' : df17_plat_dt.groupby( [ 'PlatformWorkedWith', 'DevType'] ).size()}).reset_index().sort_values(by=['Count'], ascending=False).reset_index(drop=True)\n",
    "df17_plat_dt.head()"
   ]
  },
  {
   "cell_type": "code",
   "execution_count": 39,
   "metadata": {},
   "outputs": [
    {
     "data": {
      "text/plain": [
       "<AxesSubplot:ylabel='PlatformWorkedWith,DevType'>"
      ]
     },
     "execution_count": 39,
     "metadata": {},
     "output_type": "execute_result"
    },
    {
     "data": {
      "image/png": "[encoded data removed]",
      "text/plain": [
       "<Figure size 432x288 with 1 Axes>"
      ]
     },
     "metadata": {
      "needs_background": "light"
     },
     "output_type": "display_data"
    }
   ],
   "source": [
    "df17_plat_dt[df17_plat_dt.Count > df17_plat_dt.Count.quantile(0.95)].set_index([ 'PlatformWorkedWith', 'DevType']).plot.barh()"
   ]
  },
  {
   "cell_type": "markdown",
   "metadata": {},
   "source": [
    "### 2018 and data preparation"
   ]
  },
  {
   "cell_type": "markdown",
   "metadata": {},
   "source": [
    "Dataframes are suffixed with year number plus underscore and number of selected columns. \n",
    "\n",
    "This means 'df18_6col' means dataframe from 2018 and selecting 6 interesting columns needed to answer the question."
   ]
  },
  {
   "cell_type": "code",
   "execution_count": 40,
   "metadata": {},
   "outputs": [
    {
     "data": {
      "text/html": [
       "<div>\n",
       "<style scoped>\n",
       "    .dataframe tbody tr th:only-of-type {\n",
       "        vertical-align: middle;\n",
       "    }\n",
       "\n",
       "    .dataframe tbody tr th {\n",
       "        vertical-align: top;\n",
       "    }\n",
       "\n",
       "    .dataframe thead th {\n",
       "        text-align: right;\n",
       "    }\n",
       "</style>\n",
       "<table border=\"1\" class=\"dataframe\">\n",
       "  <thead>\n",
       "    <tr style=\"text-align: right;\">\n",
       "      <th></th>\n",
       "      <th>Respondent</th>\n",
       "      <th>DevType</th>\n",
       "      <th>PlatformWorkedWith</th>\n",
       "      <th>LanguageWorkedWith</th>\n",
       "      <th>FrameworkWorkedWith</th>\n",
       "      <th>DatabaseWorkedWith</th>\n",
       "    </tr>\n",
       "  </thead>\n",
       "  <tbody>\n",
       "    <tr>\n",
       "      <th>0</th>\n",
       "      <td>1</td>\n",
       "      <td>Full-stack developer</td>\n",
       "      <td>AWS;Azure;Linux;Firebase</td>\n",
       "      <td>JavaScript;Python;HTML;CSS</td>\n",
       "      <td>Django;React</td>\n",
       "      <td>Redis;SQL Server;MySQL;PostgreSQL;Amazon RDS/A...</td>\n",
       "    </tr>\n",
       "    <tr>\n",
       "      <th>1</th>\n",
       "      <td>3</td>\n",
       "      <td>Database administrator;DevOps specialist;Full-...</td>\n",
       "      <td>Linux</td>\n",
       "      <td>JavaScript;Python;Bash/Shell</td>\n",
       "      <td>Django</td>\n",
       "      <td>Redis;PostgreSQL;Memcached</td>\n",
       "    </tr>\n",
       "    <tr>\n",
       "      <th>5</th>\n",
       "      <td>8</td>\n",
       "      <td>Back-end developer;Database administrator;Fron...</td>\n",
       "      <td>Linux</td>\n",
       "      <td>Java;JavaScript;Python;TypeScript;HTML;CSS</td>\n",
       "      <td>Angular;Node.js</td>\n",
       "      <td>MongoDB</td>\n",
       "    </tr>\n",
       "    <tr>\n",
       "      <th>6</th>\n",
       "      <td>9</td>\n",
       "      <td>Back-end developer;Front-end developer;Full-st...</td>\n",
       "      <td>Linux</td>\n",
       "      <td>JavaScript;HTML;CSS</td>\n",
       "      <td>Node.js;React</td>\n",
       "      <td>MongoDB</td>\n",
       "    </tr>\n",
       "    <tr>\n",
       "      <th>7</th>\n",
       "      <td>10</td>\n",
       "      <td>Designer;Front-end developer;QA or test developer</td>\n",
       "      <td>Azure;Heroku</td>\n",
       "      <td>JavaScript;TypeScript;HTML;CSS</td>\n",
       "      <td>Angular;Node.js</td>\n",
       "      <td>MongoDB;MySQL;Microsoft Azure (Tables, CosmosD...</td>\n",
       "    </tr>\n",
       "  </tbody>\n",
       "</table>\n",
       "</div>"
      ],
      "text/plain": [
       "   Respondent                                            DevType  \\\n",
       "0           1                               Full-stack developer   \n",
       "1           3  Database administrator;DevOps specialist;Full-...   \n",
       "5           8  Back-end developer;Database administrator;Fron...   \n",
       "6           9  Back-end developer;Front-end developer;Full-st...   \n",
       "7          10  Designer;Front-end developer;QA or test developer   \n",
       "\n",
       "         PlatformWorkedWith                          LanguageWorkedWith  \\\n",
       "0  AWS;Azure;Linux;Firebase                  JavaScript;Python;HTML;CSS   \n",
       "1                     Linux                JavaScript;Python;Bash/Shell   \n",
       "5                     Linux  Java;JavaScript;Python;TypeScript;HTML;CSS   \n",
       "6                     Linux                         JavaScript;HTML;CSS   \n",
       "7              Azure;Heroku              JavaScript;TypeScript;HTML;CSS   \n",
       "\n",
       "  FrameworkWorkedWith                                 DatabaseWorkedWith  \n",
       "0        Django;React  Redis;SQL Server;MySQL;PostgreSQL;Amazon RDS/A...  \n",
       "1              Django                         Redis;PostgreSQL;Memcached  \n",
       "5     Angular;Node.js                                            MongoDB  \n",
       "6       Node.js;React                                            MongoDB  \n",
       "7     Angular;Node.js  MongoDB;MySQL;Microsoft Azure (Tables, CosmosD...  "
      ]
     },
     "execution_count": 40,
     "metadata": {},
     "output_type": "execute_result"
    }
   ],
   "source": [
    "df18_6col = df18.dropna(subset=['Respondent', 'DevType', 'PlatformWorkedWith', 'LanguageWorkedWith', 'FrameworkWorkedWith', 'DatabaseWorkedWith'], axis=0)\n",
    "df18_6col = df18_6col[[ 'Respondent', 'DevType', 'PlatformWorkedWith', 'LanguageWorkedWith', 'FrameworkWorkedWith', 'DatabaseWorkedWith']]\n",
    "df18_6col.head()"
   ]
  },
  {
   "cell_type": "markdown",
   "metadata": {},
   "source": [
    "### 2018"
   ]
  },
  {
   "cell_type": "markdown",
   "metadata": {},
   "source": [
    "### platform-language"
   ]
  },
  {
   "cell_type": "code",
   "execution_count": 41,
   "metadata": {},
   "outputs": [
    {
     "data": {
      "text/html": [
       "<div>\n",
       "<style scoped>\n",
       "    .dataframe tbody tr th:only-of-type {\n",
       "        vertical-align: middle;\n",
       "    }\n",
       "\n",
       "    .dataframe tbody tr th {\n",
       "        vertical-align: top;\n",
       "    }\n",
       "\n",
       "    .dataframe thead th {\n",
       "        text-align: right;\n",
       "    }\n",
       "</style>\n",
       "<table border=\"1\" class=\"dataframe\">\n",
       "  <thead>\n",
       "    <tr style=\"text-align: right;\">\n",
       "      <th></th>\n",
       "      <th>LanguageWorkedWith</th>\n",
       "      <th>PlatformWorkedWith</th>\n",
       "    </tr>\n",
       "  </thead>\n",
       "  <tbody>\n",
       "    <tr>\n",
       "      <th>0</th>\n",
       "      <td>JavaScript;Python;HTML;CSS</td>\n",
       "      <td>AWS</td>\n",
       "    </tr>\n",
       "    <tr>\n",
       "      <th>1</th>\n",
       "      <td>JavaScript;Python;HTML;CSS</td>\n",
       "      <td>Azure</td>\n",
       "    </tr>\n",
       "    <tr>\n",
       "      <th>2</th>\n",
       "      <td>JavaScript;Python;HTML;CSS</td>\n",
       "      <td>Linux</td>\n",
       "    </tr>\n",
       "    <tr>\n",
       "      <th>3</th>\n",
       "      <td>JavaScript;Python;HTML;CSS</td>\n",
       "      <td>Firebase</td>\n",
       "    </tr>\n",
       "    <tr>\n",
       "      <th>4</th>\n",
       "      <td>JavaScript;Python;Bash/Shell</td>\n",
       "      <td>Linux</td>\n",
       "    </tr>\n",
       "  </tbody>\n",
       "</table>\n",
       "</div>"
      ],
      "text/plain": [
       "             LanguageWorkedWith PlatformWorkedWith\n",
       "0    JavaScript;Python;HTML;CSS                AWS\n",
       "1    JavaScript;Python;HTML;CSS              Azure\n",
       "2    JavaScript;Python;HTML;CSS              Linux\n",
       "3    JavaScript;Python;HTML;CSS           Firebase\n",
       "4  JavaScript;Python;Bash/Shell              Linux"
      ]
     },
     "execution_count": 41,
     "metadata": {},
     "output_type": "execute_result"
    }
   ],
   "source": [
    "df18_plat_lang = df18_6col[[\"LanguageWorkedWith\",\"PlatformWorkedWith\"]]\n",
    "df18_plat_lang = df18_plat_lang.assign(PlatformWorkedWith=df18_plat_lang['PlatformWorkedWith'].apply(split_strip)).explode('PlatformWorkedWith').reset_index(drop=True)\n",
    "df18_plat_lang.head()"
   ]
  },
  {
   "cell_type": "code",
   "execution_count": 42,
   "metadata": {},
   "outputs": [
    {
     "data": {
      "text/html": [
       "<div>\n",
       "<style scoped>\n",
       "    .dataframe tbody tr th:only-of-type {\n",
       "        vertical-align: middle;\n",
       "    }\n",
       "\n",
       "    .dataframe tbody tr th {\n",
       "        vertical-align: top;\n",
       "    }\n",
       "\n",
       "    .dataframe thead th {\n",
       "        text-align: right;\n",
       "    }\n",
       "</style>\n",
       "<table border=\"1\" class=\"dataframe\">\n",
       "  <thead>\n",
       "    <tr style=\"text-align: right;\">\n",
       "      <th></th>\n",
       "      <th>LanguageWorkedWith</th>\n",
       "      <th>PlatformWorkedWith</th>\n",
       "    </tr>\n",
       "  </thead>\n",
       "  <tbody>\n",
       "    <tr>\n",
       "      <th>0</th>\n",
       "      <td>JavaScript</td>\n",
       "      <td>AWS</td>\n",
       "    </tr>\n",
       "    <tr>\n",
       "      <th>1</th>\n",
       "      <td>Python</td>\n",
       "      <td>AWS</td>\n",
       "    </tr>\n",
       "    <tr>\n",
       "      <th>2</th>\n",
       "      <td>HTML</td>\n",
       "      <td>AWS</td>\n",
       "    </tr>\n",
       "    <tr>\n",
       "      <th>3</th>\n",
       "      <td>CSS</td>\n",
       "      <td>AWS</td>\n",
       "    </tr>\n",
       "    <tr>\n",
       "      <th>4</th>\n",
       "      <td>JavaScript</td>\n",
       "      <td>Azure</td>\n",
       "    </tr>\n",
       "  </tbody>\n",
       "</table>\n",
       "</div>"
      ],
      "text/plain": [
       "  LanguageWorkedWith PlatformWorkedWith\n",
       "0         JavaScript                AWS\n",
       "1             Python                AWS\n",
       "2               HTML                AWS\n",
       "3                CSS                AWS\n",
       "4         JavaScript              Azure"
      ]
     },
     "execution_count": 42,
     "metadata": {},
     "output_type": "execute_result"
    }
   ],
   "source": [
    "df18_plat_lang = df18_plat_lang.assign(LanguageWorkedWith=df18_plat_lang['LanguageWorkedWith'].apply(split_strip)).explode('LanguageWorkedWith').reset_index(drop=True)\n",
    "df18_plat_lang.head()"
   ]
  },
  {
   "cell_type": "code",
   "execution_count": 43,
   "metadata": {},
   "outputs": [
    {
     "data": {
      "text/html": [
       "<div>\n",
       "<style scoped>\n",
       "    .dataframe tbody tr th:only-of-type {\n",
       "        vertical-align: middle;\n",
       "    }\n",
       "\n",
       "    .dataframe tbody tr th {\n",
       "        vertical-align: top;\n",
       "    }\n",
       "\n",
       "    .dataframe thead th {\n",
       "        text-align: right;\n",
       "    }\n",
       "</style>\n",
       "<table border=\"1\" class=\"dataframe\">\n",
       "  <thead>\n",
       "    <tr style=\"text-align: right;\">\n",
       "      <th></th>\n",
       "      <th>PlatformWorkedWith</th>\n",
       "      <th>LanguageWorkedWith</th>\n",
       "      <th>Count</th>\n",
       "    </tr>\n",
       "  </thead>\n",
       "  <tbody>\n",
       "    <tr>\n",
       "      <th>0</th>\n",
       "      <td>Linux</td>\n",
       "      <td>JavaScript</td>\n",
       "      <td>17399</td>\n",
       "    </tr>\n",
       "    <tr>\n",
       "      <th>1</th>\n",
       "      <td>Linux</td>\n",
       "      <td>HTML</td>\n",
       "      <td>16429</td>\n",
       "    </tr>\n",
       "    <tr>\n",
       "      <th>2</th>\n",
       "      <td>Linux</td>\n",
       "      <td>CSS</td>\n",
       "      <td>15878</td>\n",
       "    </tr>\n",
       "    <tr>\n",
       "      <th>3</th>\n",
       "      <td>Linux</td>\n",
       "      <td>SQL</td>\n",
       "      <td>14344</td>\n",
       "    </tr>\n",
       "    <tr>\n",
       "      <th>4</th>\n",
       "      <td>Linux</td>\n",
       "      <td>Bash/Shell</td>\n",
       "      <td>13170</td>\n",
       "    </tr>\n",
       "  </tbody>\n",
       "</table>\n",
       "</div>"
      ],
      "text/plain": [
       "  PlatformWorkedWith LanguageWorkedWith  Count\n",
       "0              Linux         JavaScript  17399\n",
       "1              Linux               HTML  16429\n",
       "2              Linux                CSS  15878\n",
       "3              Linux                SQL  14344\n",
       "4              Linux         Bash/Shell  13170"
      ]
     },
     "execution_count": 43,
     "metadata": {},
     "output_type": "execute_result"
    }
   ],
   "source": [
    "df18_plat_lang = pd.DataFrame({'Count' : df18_plat_lang.groupby( [ 'PlatformWorkedWith', 'LanguageWorkedWith'] ).size()}).reset_index().sort_values(by=['Count'], ascending=False).reset_index(drop=True)\n",
    "df18_plat_lang.head()"
   ]
  },
  {
   "cell_type": "code",
   "execution_count": 44,
   "metadata": {},
   "outputs": [
    {
     "data": {
      "text/plain": [
       "<AxesSubplot:ylabel='PlatformWorkedWith,LanguageWorkedWith'>"
      ]
     },
     "execution_count": 44,
     "metadata": {},
     "output_type": "execute_result"
    },
    {
     "data": {
      "image/png": "[encoded data removed]",
      "text/plain": [
       "<Figure size 432x288 with 1 Axes>"
      ]
     },
     "metadata": {
      "needs_background": "light"
     },
     "output_type": "display_data"
    }
   ],
   "source": [
    "df18_plat_lang[df18_plat_lang.Count > df18_plat_lang.Count.quantile(0.980)].set_index([ 'PlatformWorkedWith', 'LanguageWorkedWith']).plot.barh()"
   ]
  },
  {
   "cell_type": "markdown",
   "metadata": {},
   "source": [
    "### 2018"
   ]
  },
  {
   "cell_type": "markdown",
   "metadata": {},
   "source": [
    "### platform-database"
   ]
  },
  {
   "cell_type": "code",
   "execution_count": 45,
   "metadata": {},
   "outputs": [
    {
     "data": {
      "text/html": [
       "<div>\n",
       "<style scoped>\n",
       "    .dataframe tbody tr th:only-of-type {\n",
       "        vertical-align: middle;\n",
       "    }\n",
       "\n",
       "    .dataframe tbody tr th {\n",
       "        vertical-align: top;\n",
       "    }\n",
       "\n",
       "    .dataframe thead th {\n",
       "        text-align: right;\n",
       "    }\n",
       "</style>\n",
       "<table border=\"1\" class=\"dataframe\">\n",
       "  <thead>\n",
       "    <tr style=\"text-align: right;\">\n",
       "      <th></th>\n",
       "      <th>DatabaseWorkedWith</th>\n",
       "      <th>PlatformWorkedWith</th>\n",
       "    </tr>\n",
       "  </thead>\n",
       "  <tbody>\n",
       "    <tr>\n",
       "      <th>0</th>\n",
       "      <td>Redis;SQL Server;MySQL;PostgreSQL;Amazon RDS/A...</td>\n",
       "      <td>AWS</td>\n",
       "    </tr>\n",
       "    <tr>\n",
       "      <th>1</th>\n",
       "      <td>Redis;SQL Server;MySQL;PostgreSQL;Amazon RDS/A...</td>\n",
       "      <td>Azure</td>\n",
       "    </tr>\n",
       "    <tr>\n",
       "      <th>2</th>\n",
       "      <td>Redis;SQL Server;MySQL;PostgreSQL;Amazon RDS/A...</td>\n",
       "      <td>Linux</td>\n",
       "    </tr>\n",
       "    <tr>\n",
       "      <th>3</th>\n",
       "      <td>Redis;SQL Server;MySQL;PostgreSQL;Amazon RDS/A...</td>\n",
       "      <td>Firebase</td>\n",
       "    </tr>\n",
       "    <tr>\n",
       "      <th>4</th>\n",
       "      <td>Redis;PostgreSQL;Memcached</td>\n",
       "      <td>Linux</td>\n",
       "    </tr>\n",
       "  </tbody>\n",
       "</table>\n",
       "</div>"
      ],
      "text/plain": [
       "                                  DatabaseWorkedWith PlatformWorkedWith\n",
       "0  Redis;SQL Server;MySQL;PostgreSQL;Amazon RDS/A...                AWS\n",
       "1  Redis;SQL Server;MySQL;PostgreSQL;Amazon RDS/A...              Azure\n",
       "2  Redis;SQL Server;MySQL;PostgreSQL;Amazon RDS/A...              Linux\n",
       "3  Redis;SQL Server;MySQL;PostgreSQL;Amazon RDS/A...           Firebase\n",
       "4                         Redis;PostgreSQL;Memcached              Linux"
      ]
     },
     "execution_count": 45,
     "metadata": {},
     "output_type": "execute_result"
    }
   ],
   "source": [
    "df18_plat_db = df18_6col[[\"DatabaseWorkedWith\",\"PlatformWorkedWith\"]]\n",
    "df18_plat_db = df18_plat_db.assign(PlatformWorkedWith=df18_plat_db['PlatformWorkedWith'].apply(split_strip)).explode('PlatformWorkedWith').reset_index(drop=True)\n",
    "df18_plat_db.head()"
   ]
  },
  {
   "cell_type": "code",
   "execution_count": 46,
   "metadata": {},
   "outputs": [
    {
     "data": {
      "text/html": [
       "<div>\n",
       "<style scoped>\n",
       "    .dataframe tbody tr th:only-of-type {\n",
       "        vertical-align: middle;\n",
       "    }\n",
       "\n",
       "    .dataframe tbody tr th {\n",
       "        vertical-align: top;\n",
       "    }\n",
       "\n",
       "    .dataframe thead th {\n",
       "        text-align: right;\n",
       "    }\n",
       "</style>\n",
       "<table border=\"1\" class=\"dataframe\">\n",
       "  <thead>\n",
       "    <tr style=\"text-align: right;\">\n",
       "      <th></th>\n",
       "      <th>DatabaseWorkedWith</th>\n",
       "      <th>PlatformWorkedWith</th>\n",
       "    </tr>\n",
       "  </thead>\n",
       "  <tbody>\n",
       "    <tr>\n",
       "      <th>0</th>\n",
       "      <td>Redis</td>\n",
       "      <td>AWS</td>\n",
       "    </tr>\n",
       "    <tr>\n",
       "      <th>1</th>\n",
       "      <td>SQL Server</td>\n",
       "      <td>AWS</td>\n",
       "    </tr>\n",
       "    <tr>\n",
       "      <th>2</th>\n",
       "      <td>MySQL</td>\n",
       "      <td>AWS</td>\n",
       "    </tr>\n",
       "    <tr>\n",
       "      <th>3</th>\n",
       "      <td>PostgreSQL</td>\n",
       "      <td>AWS</td>\n",
       "    </tr>\n",
       "    <tr>\n",
       "      <th>4</th>\n",
       "      <td>Amazon RDS/Aurora</td>\n",
       "      <td>AWS</td>\n",
       "    </tr>\n",
       "  </tbody>\n",
       "</table>\n",
       "</div>"
      ],
      "text/plain": [
       "  DatabaseWorkedWith PlatformWorkedWith\n",
       "0              Redis                AWS\n",
       "1         SQL Server                AWS\n",
       "2              MySQL                AWS\n",
       "3         PostgreSQL                AWS\n",
       "4  Amazon RDS/Aurora                AWS"
      ]
     },
     "execution_count": 46,
     "metadata": {},
     "output_type": "execute_result"
    }
   ],
   "source": [
    "df18_plat_db = df18_plat_db.assign(DatabaseWorkedWith=df18_plat_db['DatabaseWorkedWith'].apply(split_strip)).explode('DatabaseWorkedWith').reset_index(drop=True)\n",
    "df18_plat_db.head()"
   ]
  },
  {
   "cell_type": "code",
   "execution_count": 47,
   "metadata": {},
   "outputs": [
    {
     "data": {
      "text/html": [
       "<div>\n",
       "<style scoped>\n",
       "    .dataframe tbody tr th:only-of-type {\n",
       "        vertical-align: middle;\n",
       "    }\n",
       "\n",
       "    .dataframe tbody tr th {\n",
       "        vertical-align: top;\n",
       "    }\n",
       "\n",
       "    .dataframe thead th {\n",
       "        text-align: right;\n",
       "    }\n",
       "</style>\n",
       "<table border=\"1\" class=\"dataframe\">\n",
       "  <thead>\n",
       "    <tr style=\"text-align: right;\">\n",
       "      <th></th>\n",
       "      <th>PlatformWorkedWith</th>\n",
       "      <th>DatabaseWorkedWith</th>\n",
       "      <th>Count</th>\n",
       "    </tr>\n",
       "  </thead>\n",
       "  <tbody>\n",
       "    <tr>\n",
       "      <th>308</th>\n",
       "      <td>Linux</td>\n",
       "      <td>MySQL</td>\n",
       "      <td>13920</td>\n",
       "    </tr>\n",
       "    <tr>\n",
       "      <th>311</th>\n",
       "      <td>Linux</td>\n",
       "      <td>PostgreSQL</td>\n",
       "      <td>10083</td>\n",
       "    </tr>\n",
       "    <tr>\n",
       "      <th>481</th>\n",
       "      <td>Windows Desktop or Server</td>\n",
       "      <td>SQL Server</td>\n",
       "      <td>10045</td>\n",
       "    </tr>\n",
       "    <tr>\n",
       "      <th>56</th>\n",
       "      <td>Android</td>\n",
       "      <td>MySQL</td>\n",
       "      <td>9064</td>\n",
       "    </tr>\n",
       "    <tr>\n",
       "      <th>476</th>\n",
       "      <td>Windows Desktop or Server</td>\n",
       "      <td>MySQL</td>\n",
       "      <td>8485</td>\n",
       "    </tr>\n",
       "  </tbody>\n",
       "</table>\n",
       "</div>"
      ],
      "text/plain": [
       "            PlatformWorkedWith DatabaseWorkedWith  Count\n",
       "308                      Linux              MySQL  13920\n",
       "311                      Linux         PostgreSQL  10083\n",
       "481  Windows Desktop or Server         SQL Server  10045\n",
       "56                     Android              MySQL   9064\n",
       "476  Windows Desktop or Server              MySQL   8485"
      ]
     },
     "execution_count": 47,
     "metadata": {},
     "output_type": "execute_result"
    }
   ],
   "source": [
    "df18_plat_db = pd.DataFrame({'Count' : df18_plat_db.groupby( [ 'PlatformWorkedWith', 'DatabaseWorkedWith'] ).size()}).reset_index().sort_values(by=['Count'], ascending=False)\n",
    "df18_plat_db.head()"
   ]
  },
  {
   "cell_type": "code",
   "execution_count": 48,
   "metadata": {},
   "outputs": [
    {
     "data": {
      "text/plain": [
       "<AxesSubplot:ylabel='PlatformWorkedWith,DatabaseWorkedWith'>"
      ]
     },
     "execution_count": 48,
     "metadata": {},
     "output_type": "execute_result"
    },
    {
     "data": {
      "image/png": "[encoded data removed]",
      "text/plain": [
       "<Figure size 432x288 with 1 Axes>"
      ]
     },
     "metadata": {
      "needs_background": "light"
     },
     "output_type": "display_data"
    }
   ],
   "source": [
    "df18_plat_db[df18_plat_db.Count > df18_plat_db.Count.quantile(0.98)].set_index([ 'PlatformWorkedWith', 'DatabaseWorkedWith']).plot.barh()"
   ]
  },
  {
   "cell_type": "markdown",
   "metadata": {},
   "source": [
    "### 2018"
   ]
  },
  {
   "cell_type": "markdown",
   "metadata": {},
   "source": [
    "### platform-Framework"
   ]
  },
  {
   "cell_type": "code",
   "execution_count": 49,
   "metadata": {},
   "outputs": [
    {
     "data": {
      "text/html": [
       "<div>\n",
       "<style scoped>\n",
       "    .dataframe tbody tr th:only-of-type {\n",
       "        vertical-align: middle;\n",
       "    }\n",
       "\n",
       "    .dataframe tbody tr th {\n",
       "        vertical-align: top;\n",
       "    }\n",
       "\n",
       "    .dataframe thead th {\n",
       "        text-align: right;\n",
       "    }\n",
       "</style>\n",
       "<table border=\"1\" class=\"dataframe\">\n",
       "  <thead>\n",
       "    <tr style=\"text-align: right;\">\n",
       "      <th></th>\n",
       "      <th>FrameworkWorkedWith</th>\n",
       "      <th>PlatformWorkedWith</th>\n",
       "    </tr>\n",
       "  </thead>\n",
       "  <tbody>\n",
       "    <tr>\n",
       "      <th>0</th>\n",
       "      <td>Django;React</td>\n",
       "      <td>AWS</td>\n",
       "    </tr>\n",
       "    <tr>\n",
       "      <th>1</th>\n",
       "      <td>Django;React</td>\n",
       "      <td>Azure</td>\n",
       "    </tr>\n",
       "    <tr>\n",
       "      <th>2</th>\n",
       "      <td>Django;React</td>\n",
       "      <td>Linux</td>\n",
       "    </tr>\n",
       "    <tr>\n",
       "      <th>3</th>\n",
       "      <td>Django;React</td>\n",
       "      <td>Firebase</td>\n",
       "    </tr>\n",
       "    <tr>\n",
       "      <th>4</th>\n",
       "      <td>Django</td>\n",
       "      <td>Linux</td>\n",
       "    </tr>\n",
       "  </tbody>\n",
       "</table>\n",
       "</div>"
      ],
      "text/plain": [
       "  FrameworkWorkedWith PlatformWorkedWith\n",
       "0        Django;React                AWS\n",
       "1        Django;React              Azure\n",
       "2        Django;React              Linux\n",
       "3        Django;React           Firebase\n",
       "4              Django              Linux"
      ]
     },
     "execution_count": 49,
     "metadata": {},
     "output_type": "execute_result"
    }
   ],
   "source": [
    "df18_plat_fw = df18_6col[[\"FrameworkWorkedWith\",\"PlatformWorkedWith\"]]\n",
    "df18_plat_fw = df18_plat_fw.assign(PlatformWorkedWith=df18_plat_fw['PlatformWorkedWith'].apply(split_strip)).explode('PlatformWorkedWith').reset_index(drop=True)\n",
    "df18_plat_fw.head()"
   ]
  },
  {
   "cell_type": "code",
   "execution_count": 50,
   "metadata": {},
   "outputs": [
    {
     "data": {
      "text/html": [
       "<div>\n",
       "<style scoped>\n",
       "    .dataframe tbody tr th:only-of-type {\n",
       "        vertical-align: middle;\n",
       "    }\n",
       "\n",
       "    .dataframe tbody tr th {\n",
       "        vertical-align: top;\n",
       "    }\n",
       "\n",
       "    .dataframe thead th {\n",
       "        text-align: right;\n",
       "    }\n",
       "</style>\n",
       "<table border=\"1\" class=\"dataframe\">\n",
       "  <thead>\n",
       "    <tr style=\"text-align: right;\">\n",
       "      <th></th>\n",
       "      <th>FrameworkWorkedWith</th>\n",
       "      <th>PlatformWorkedWith</th>\n",
       "    </tr>\n",
       "  </thead>\n",
       "  <tbody>\n",
       "    <tr>\n",
       "      <th>0</th>\n",
       "      <td>Django</td>\n",
       "      <td>AWS</td>\n",
       "    </tr>\n",
       "    <tr>\n",
       "      <th>1</th>\n",
       "      <td>React</td>\n",
       "      <td>AWS</td>\n",
       "    </tr>\n",
       "    <tr>\n",
       "      <th>2</th>\n",
       "      <td>Django</td>\n",
       "      <td>Azure</td>\n",
       "    </tr>\n",
       "    <tr>\n",
       "      <th>3</th>\n",
       "      <td>React</td>\n",
       "      <td>Azure</td>\n",
       "    </tr>\n",
       "    <tr>\n",
       "      <th>4</th>\n",
       "      <td>Django</td>\n",
       "      <td>Linux</td>\n",
       "    </tr>\n",
       "  </tbody>\n",
       "</table>\n",
       "</div>"
      ],
      "text/plain": [
       "  FrameworkWorkedWith PlatformWorkedWith\n",
       "0              Django                AWS\n",
       "1               React                AWS\n",
       "2              Django              Azure\n",
       "3               React              Azure\n",
       "4              Django              Linux"
      ]
     },
     "execution_count": 50,
     "metadata": {},
     "output_type": "execute_result"
    }
   ],
   "source": [
    "df18_plat_fw = df18_plat_fw.assign(FrameworkWorkedWith=df18_plat_fw['FrameworkWorkedWith'].apply(split_strip)).explode('FrameworkWorkedWith').reset_index(drop=True)\n",
    "df18_plat_fw.head()"
   ]
  },
  {
   "cell_type": "code",
   "execution_count": 51,
   "metadata": {},
   "outputs": [
    {
     "data": {
      "text/html": [
       "<div>\n",
       "<style scoped>\n",
       "    .dataframe tbody tr th:only-of-type {\n",
       "        vertical-align: middle;\n",
       "    }\n",
       "\n",
       "    .dataframe tbody tr th {\n",
       "        vertical-align: top;\n",
       "    }\n",
       "\n",
       "    .dataframe thead th {\n",
       "        text-align: right;\n",
       "    }\n",
       "</style>\n",
       "<table border=\"1\" class=\"dataframe\">\n",
       "  <thead>\n",
       "    <tr style=\"text-align: right;\">\n",
       "      <th></th>\n",
       "      <th>PlatformWorkedWith</th>\n",
       "      <th>FrameworkWorkedWith</th>\n",
       "      <th>Count</th>\n",
       "    </tr>\n",
       "  </thead>\n",
       "  <tbody>\n",
       "    <tr>\n",
       "      <th>0</th>\n",
       "      <td>Linux</td>\n",
       "      <td>Node.js</td>\n",
       "      <td>11593</td>\n",
       "    </tr>\n",
       "    <tr>\n",
       "      <th>1</th>\n",
       "      <td>AWS</td>\n",
       "      <td>Node.js</td>\n",
       "      <td>7921</td>\n",
       "    </tr>\n",
       "    <tr>\n",
       "      <th>2</th>\n",
       "      <td>Linux</td>\n",
       "      <td>Angular</td>\n",
       "      <td>7726</td>\n",
       "    </tr>\n",
       "    <tr>\n",
       "      <th>3</th>\n",
       "      <td>Windows Desktop or Server</td>\n",
       "      <td>.NET Core</td>\n",
       "      <td>7721</td>\n",
       "    </tr>\n",
       "    <tr>\n",
       "      <th>4</th>\n",
       "      <td>Android</td>\n",
       "      <td>Node.js</td>\n",
       "      <td>7385</td>\n",
       "    </tr>\n",
       "  </tbody>\n",
       "</table>\n",
       "</div>"
      ],
      "text/plain": [
       "          PlatformWorkedWith FrameworkWorkedWith  Count\n",
       "0                      Linux             Node.js  11593\n",
       "1                        AWS             Node.js   7921\n",
       "2                      Linux             Angular   7726\n",
       "3  Windows Desktop or Server           .NET Core   7721\n",
       "4                    Android             Node.js   7385"
      ]
     },
     "execution_count": 51,
     "metadata": {},
     "output_type": "execute_result"
    }
   ],
   "source": [
    "df18_plat_fw= pd.DataFrame({'Count' : df18_plat_fw.groupby(['PlatformWorkedWith', 'FrameworkWorkedWith']).size()}).reset_index().sort_values(by=['Count'], ascending=False).reset_index(drop=True)\n",
    "df18_plat_fw.head()"
   ]
  },
  {
   "cell_type": "code",
   "execution_count": 52,
   "metadata": {},
   "outputs": [
    {
     "data": {
      "text/plain": [
       "<AxesSubplot:ylabel='PlatformWorkedWith,FrameworkWorkedWith'>"
      ]
     },
     "execution_count": 52,
     "metadata": {},
     "output_type": "execute_result"
    },
    {
     "data": {
      "image/png": "[encoded data removed]",
      "text/plain": [
       "<Figure size 432x288 with 1 Axes>"
      ]
     },
     "metadata": {
      "needs_background": "light"
     },
     "output_type": "display_data"
    }
   ],
   "source": [
    "df18_plat_fw[df18_plat_fw.Count > df18_plat_fw.Count.quantile(0.95)].set_index([ 'PlatformWorkedWith', 'FrameworkWorkedWith']).plot.barh()"
   ]
  },
  {
   "cell_type": "markdown",
   "metadata": {},
   "source": [
    "### 2018"
   ]
  },
  {
   "cell_type": "markdown",
   "metadata": {},
   "source": [
    "### platform-devtype"
   ]
  },
  {
   "cell_type": "code",
   "execution_count": 53,
   "metadata": {},
   "outputs": [
    {
     "data": {
      "text/html": [
       "<div>\n",
       "<style scoped>\n",
       "    .dataframe tbody tr th:only-of-type {\n",
       "        vertical-align: middle;\n",
       "    }\n",
       "\n",
       "    .dataframe tbody tr th {\n",
       "        vertical-align: top;\n",
       "    }\n",
       "\n",
       "    .dataframe thead th {\n",
       "        text-align: right;\n",
       "    }\n",
       "</style>\n",
       "<table border=\"1\" class=\"dataframe\">\n",
       "  <thead>\n",
       "    <tr style=\"text-align: right;\">\n",
       "      <th></th>\n",
       "      <th>DevType</th>\n",
       "      <th>PlatformWorkedWith</th>\n",
       "    </tr>\n",
       "  </thead>\n",
       "  <tbody>\n",
       "    <tr>\n",
       "      <th>0</th>\n",
       "      <td>Full-stack developer</td>\n",
       "      <td>AWS</td>\n",
       "    </tr>\n",
       "    <tr>\n",
       "      <th>1</th>\n",
       "      <td>Full-stack developer</td>\n",
       "      <td>Azure</td>\n",
       "    </tr>\n",
       "    <tr>\n",
       "      <th>2</th>\n",
       "      <td>Full-stack developer</td>\n",
       "      <td>Linux</td>\n",
       "    </tr>\n",
       "    <tr>\n",
       "      <th>3</th>\n",
       "      <td>Full-stack developer</td>\n",
       "      <td>Firebase</td>\n",
       "    </tr>\n",
       "    <tr>\n",
       "      <th>4</th>\n",
       "      <td>Database administrator;DevOps specialist;Full-...</td>\n",
       "      <td>Linux</td>\n",
       "    </tr>\n",
       "  </tbody>\n",
       "</table>\n",
       "</div>"
      ],
      "text/plain": [
       "                                             DevType PlatformWorkedWith\n",
       "0                               Full-stack developer                AWS\n",
       "1                               Full-stack developer              Azure\n",
       "2                               Full-stack developer              Linux\n",
       "3                               Full-stack developer           Firebase\n",
       "4  Database administrator;DevOps specialist;Full-...              Linux"
      ]
     },
     "execution_count": 53,
     "metadata": {},
     "output_type": "execute_result"
    }
   ],
   "source": [
    "df18_plat_dt = df18_6col[[\"DevType\",\"PlatformWorkedWith\"]]\n",
    "df18_plat_dt = df18_plat_dt.assign(PlatformWorkedWith=df18_plat_dt['PlatformWorkedWith'].apply(split_strip)).explode('PlatformWorkedWith').reset_index(drop=True)\n",
    "df18_plat_dt.head()"
   ]
  },
  {
   "cell_type": "code",
   "execution_count": 54,
   "metadata": {},
   "outputs": [
    {
     "data": {
      "text/html": [
       "<div>\n",
       "<style scoped>\n",
       "    .dataframe tbody tr th:only-of-type {\n",
       "        vertical-align: middle;\n",
       "    }\n",
       "\n",
       "    .dataframe tbody tr th {\n",
       "        vertical-align: top;\n",
       "    }\n",
       "\n",
       "    .dataframe thead th {\n",
       "        text-align: right;\n",
       "    }\n",
       "</style>\n",
       "<table border=\"1\" class=\"dataframe\">\n",
       "  <thead>\n",
       "    <tr style=\"text-align: right;\">\n",
       "      <th></th>\n",
       "      <th>DevType</th>\n",
       "      <th>PlatformWorkedWith</th>\n",
       "    </tr>\n",
       "  </thead>\n",
       "  <tbody>\n",
       "    <tr>\n",
       "      <th>0</th>\n",
       "      <td>Full-stack developer</td>\n",
       "      <td>AWS</td>\n",
       "    </tr>\n",
       "    <tr>\n",
       "      <th>1</th>\n",
       "      <td>Full-stack developer</td>\n",
       "      <td>Azure</td>\n",
       "    </tr>\n",
       "    <tr>\n",
       "      <th>2</th>\n",
       "      <td>Full-stack developer</td>\n",
       "      <td>Linux</td>\n",
       "    </tr>\n",
       "    <tr>\n",
       "      <th>3</th>\n",
       "      <td>Full-stack developer</td>\n",
       "      <td>Firebase</td>\n",
       "    </tr>\n",
       "    <tr>\n",
       "      <th>4</th>\n",
       "      <td>Database administrator</td>\n",
       "      <td>Linux</td>\n",
       "    </tr>\n",
       "  </tbody>\n",
       "</table>\n",
       "</div>"
      ],
      "text/plain": [
       "                  DevType PlatformWorkedWith\n",
       "0    Full-stack developer                AWS\n",
       "1    Full-stack developer              Azure\n",
       "2    Full-stack developer              Linux\n",
       "3    Full-stack developer           Firebase\n",
       "4  Database administrator              Linux"
      ]
     },
     "execution_count": 54,
     "metadata": {},
     "output_type": "execute_result"
    }
   ],
   "source": [
    "df18_plat_dt = df18_plat_dt.assign(DevType=df18_plat_dt['DevType'].apply(split_strip)).explode('DevType').reset_index(drop=True)\n",
    "df18_plat_dt.head()"
   ]
  },
  {
   "cell_type": "code",
   "execution_count": 55,
   "metadata": {},
   "outputs": [
    {
     "data": {
      "text/html": [
       "<div>\n",
       "<style scoped>\n",
       "    .dataframe tbody tr th:only-of-type {\n",
       "        vertical-align: middle;\n",
       "    }\n",
       "\n",
       "    .dataframe tbody tr th {\n",
       "        vertical-align: top;\n",
       "    }\n",
       "\n",
       "    .dataframe thead th {\n",
       "        text-align: right;\n",
       "    }\n",
       "</style>\n",
       "<table border=\"1\" class=\"dataframe\">\n",
       "  <thead>\n",
       "    <tr style=\"text-align: right;\">\n",
       "      <th></th>\n",
       "      <th>PlatformWorkedWith</th>\n",
       "      <th>DevType</th>\n",
       "      <th>Count</th>\n",
       "    </tr>\n",
       "  </thead>\n",
       "  <tbody>\n",
       "    <tr>\n",
       "      <th>280</th>\n",
       "      <td>Linux</td>\n",
       "      <td>Back-end developer</td>\n",
       "      <td>15308</td>\n",
       "    </tr>\n",
       "    <tr>\n",
       "      <th>292</th>\n",
       "      <td>Linux</td>\n",
       "      <td>Full-stack developer</td>\n",
       "      <td>12944</td>\n",
       "    </tr>\n",
       "    <tr>\n",
       "      <th>440</th>\n",
       "      <td>Windows Desktop or Server</td>\n",
       "      <td>Back-end developer</td>\n",
       "      <td>10378</td>\n",
       "    </tr>\n",
       "    <tr>\n",
       "      <th>452</th>\n",
       "      <td>Windows Desktop or Server</td>\n",
       "      <td>Full-stack developer</td>\n",
       "      <td>9205</td>\n",
       "    </tr>\n",
       "    <tr>\n",
       "      <th>0</th>\n",
       "      <td>AWS</td>\n",
       "      <td>Back-end developer</td>\n",
       "      <td>9200</td>\n",
       "    </tr>\n",
       "  </tbody>\n",
       "</table>\n",
       "</div>"
      ],
      "text/plain": [
       "            PlatformWorkedWith               DevType  Count\n",
       "280                      Linux    Back-end developer  15308\n",
       "292                      Linux  Full-stack developer  12944\n",
       "440  Windows Desktop or Server    Back-end developer  10378\n",
       "452  Windows Desktop or Server  Full-stack developer   9205\n",
       "0                          AWS    Back-end developer   9200"
      ]
     },
     "execution_count": 55,
     "metadata": {},
     "output_type": "execute_result"
    }
   ],
   "source": [
    "df18_plat_dt = pd.DataFrame({'Count' : df18_plat_dt.groupby( [ 'PlatformWorkedWith', 'DevType'] ).size()}).reset_index().sort_values(by=['Count'], ascending=False)\n",
    "df18_plat_dt.head()"
   ]
  },
  {
   "cell_type": "code",
   "execution_count": 56,
   "metadata": {},
   "outputs": [
    {
     "data": {
      "text/plain": [
       "<AxesSubplot:ylabel='PlatformWorkedWith,DevType'>"
      ]
     },
     "execution_count": 56,
     "metadata": {},
     "output_type": "execute_result"
    },
    {
     "data": {
      "image/png": "[encoded data removed]",
      "text/plain": [
       "<Figure size 432x288 with 1 Axes>"
      ]
     },
     "metadata": {
      "needs_background": "light"
     },
     "output_type": "display_data"
    }
   ],
   "source": [
    "df18_plat_dt[df18_plat_dt.Count > df18_plat_dt.Count.quantile(0.98)].set_index([ 'PlatformWorkedWith', 'DevType']).plot.barh()"
   ]
  },
  {
   "cell_type": "markdown",
   "metadata": {},
   "source": [
    "### 2019 and data preparation"
   ]
  },
  {
   "cell_type": "markdown",
   "metadata": {},
   "source": [
    "Dataframes are suffixed with year number plus underscore and number of selected columns. \n",
    "\n",
    "This means 'df19_6col' means dataframe from 2019 and selecting 6 interesting columns needed to answer the question."
   ]
  },
  {
   "cell_type": "code",
   "execution_count": 57,
   "metadata": {},
   "outputs": [
    {
     "data": {
      "text/html": [
       "<div>\n",
       "<style scoped>\n",
       "    .dataframe tbody tr th:only-of-type {\n",
       "        vertical-align: middle;\n",
       "    }\n",
       "\n",
       "    .dataframe tbody tr th {\n",
       "        vertical-align: top;\n",
       "    }\n",
       "\n",
       "    .dataframe thead th {\n",
       "        text-align: right;\n",
       "    }\n",
       "</style>\n",
       "<table border=\"1\" class=\"dataframe\">\n",
       "  <thead>\n",
       "    <tr style=\"text-align: right;\">\n",
       "      <th></th>\n",
       "      <th>Respondent</th>\n",
       "      <th>DevType</th>\n",
       "      <th>PlatformWorkedWith</th>\n",
       "      <th>LanguageWorkedWith</th>\n",
       "      <th>FrameworkWorkedWith</th>\n",
       "      <th>DatabaseWorkedWith</th>\n",
       "    </tr>\n",
       "  </thead>\n",
       "  <tbody>\n",
       "    <tr>\n",
       "      <th>4</th>\n",
       "      <td>5</td>\n",
       "      <td>Academic researcher;Developer, desktop or ente...</td>\n",
       "      <td>Android;Linux;MacOS;Slack;Windows</td>\n",
       "      <td>C++;HTML/CSS;Java;JavaScript;Python;SQL;VBA</td>\n",
       "      <td>Django;Express;Flask;jQuery;React.js;Spring</td>\n",
       "      <td>Couchbase;MongoDB;MySQL;Oracle;PostgreSQL;SQLite</td>\n",
       "    </tr>\n",
       "    <tr>\n",
       "      <th>7</th>\n",
       "      <td>8</td>\n",
       "      <td>Developer, back-end;Engineer, site reliability</td>\n",
       "      <td>AWS;Docker;Heroku;Linux;MacOS;Slack</td>\n",
       "      <td>Bash/Shell/PowerShell;C;C++;HTML/CSS;Java;Java...</td>\n",
       "      <td>Express;Flask;React.js;Spring</td>\n",
       "      <td>Cassandra;Elasticsearch;MongoDB;MySQL;Oracle;R...</td>\n",
       "    </tr>\n",
       "    <tr>\n",
       "      <th>8</th>\n",
       "      <td>9</td>\n",
       "      <td>Database administrator;Developer, back-end;Dev...</td>\n",
       "      <td>AWS;Docker;Heroku;Linux;MacOS;Slack</td>\n",
       "      <td>Bash/Shell/PowerShell;C#;HTML/CSS;JavaScript;P...</td>\n",
       "      <td>Express;Ruby on Rails;Other(s):</td>\n",
       "      <td>DynamoDB;PostgreSQL;SQLite</td>\n",
       "    </tr>\n",
       "    <tr>\n",
       "      <th>9</th>\n",
       "      <td>10</td>\n",
       "      <td>Data or business analyst;Data scientist or mac...</td>\n",
       "      <td>Linux;Windows</td>\n",
       "      <td>C#;Go;JavaScript;Python;R;SQL</td>\n",
       "      <td>Angular/Angular.js;ASP.NET;Django;Express;Flas...</td>\n",
       "      <td>Elasticsearch;MongoDB;Microsoft SQL Server;MyS...</td>\n",
       "    </tr>\n",
       "    <tr>\n",
       "      <th>12</th>\n",
       "      <td>13</td>\n",
       "      <td>Data or business analyst;Database administrato...</td>\n",
       "      <td>Android;AWS;Docker;IBM Cloud or Watson;iOS;Lin...</td>\n",
       "      <td>Bash/Shell/PowerShell;HTML/CSS;JavaScript;PHP;...</td>\n",
       "      <td>Angular/Angular.js;ASP.NET;Express;jQuery;Vue.js</td>\n",
       "      <td>Couchbase;DynamoDB;Firebase;MySQL</td>\n",
       "    </tr>\n",
       "  </tbody>\n",
       "</table>\n",
       "</div>"
      ],
      "text/plain": [
       "    Respondent                                            DevType  \\\n",
       "4            5  Academic researcher;Developer, desktop or ente...   \n",
       "7            8     Developer, back-end;Engineer, site reliability   \n",
       "8            9  Database administrator;Developer, back-end;Dev...   \n",
       "9           10  Data or business analyst;Data scientist or mac...   \n",
       "12          13  Data or business analyst;Database administrato...   \n",
       "\n",
       "                                   PlatformWorkedWith  \\\n",
       "4                   Android;Linux;MacOS;Slack;Windows   \n",
       "7                 AWS;Docker;Heroku;Linux;MacOS;Slack   \n",
       "8                 AWS;Docker;Heroku;Linux;MacOS;Slack   \n",
       "9                                       Linux;Windows   \n",
       "12  Android;AWS;Docker;IBM Cloud or Watson;iOS;Lin...   \n",
       "\n",
       "                                   LanguageWorkedWith  \\\n",
       "4         C++;HTML/CSS;Java;JavaScript;Python;SQL;VBA   \n",
       "7   Bash/Shell/PowerShell;C;C++;HTML/CSS;Java;Java...   \n",
       "8   Bash/Shell/PowerShell;C#;HTML/CSS;JavaScript;P...   \n",
       "9                       C#;Go;JavaScript;Python;R;SQL   \n",
       "12  Bash/Shell/PowerShell;HTML/CSS;JavaScript;PHP;...   \n",
       "\n",
       "                                  FrameworkWorkedWith  \\\n",
       "4         Django;Express;Flask;jQuery;React.js;Spring   \n",
       "7                       Express;Flask;React.js;Spring   \n",
       "8                     Express;Ruby on Rails;Other(s):   \n",
       "9   Angular/Angular.js;ASP.NET;Django;Express;Flas...   \n",
       "12   Angular/Angular.js;ASP.NET;Express;jQuery;Vue.js   \n",
       "\n",
       "                                   DatabaseWorkedWith  \n",
       "4    Couchbase;MongoDB;MySQL;Oracle;PostgreSQL;SQLite  \n",
       "7   Cassandra;Elasticsearch;MongoDB;MySQL;Oracle;R...  \n",
       "8                          DynamoDB;PostgreSQL;SQLite  \n",
       "9   Elasticsearch;MongoDB;Microsoft SQL Server;MyS...  \n",
       "12                  Couchbase;DynamoDB;Firebase;MySQL  "
      ]
     },
     "execution_count": 57,
     "metadata": {},
     "output_type": "execute_result"
    }
   ],
   "source": [
    "df19_6col = df19.dropna(subset=['Respondent', 'DevType', 'PlatformWorkedWith', 'LanguageWorkedWith', 'WebFrameWorkedWith', 'DatabaseWorkedWith'], axis=0)\n",
    "df19_6col = df19_6col[[ 'Respondent', 'DevType', 'PlatformWorkedWith', 'LanguageWorkedWith', 'WebFrameWorkedWith', 'DatabaseWorkedWith']]\n",
    "\n",
    "df19_6col.rename(columns= {'WebFrameWorkedWith': 'FrameworkWorkedWith'}, inplace=True)\n",
    "df19_6col.head()"
   ]
  },
  {
   "cell_type": "markdown",
   "metadata": {},
   "source": [
    "### 2019"
   ]
  },
  {
   "cell_type": "markdown",
   "metadata": {},
   "source": [
    "### platform-language"
   ]
  },
  {
   "cell_type": "code",
   "execution_count": 58,
   "metadata": {},
   "outputs": [
    {
     "data": {
      "text/html": [
       "<div>\n",
       "<style scoped>\n",
       "    .dataframe tbody tr th:only-of-type {\n",
       "        vertical-align: middle;\n",
       "    }\n",
       "\n",
       "    .dataframe tbody tr th {\n",
       "        vertical-align: top;\n",
       "    }\n",
       "\n",
       "    .dataframe thead th {\n",
       "        text-align: right;\n",
       "    }\n",
       "</style>\n",
       "<table border=\"1\" class=\"dataframe\">\n",
       "  <thead>\n",
       "    <tr style=\"text-align: right;\">\n",
       "      <th></th>\n",
       "      <th>LanguageWorkedWith</th>\n",
       "      <th>PlatformWorkedWith</th>\n",
       "    </tr>\n",
       "  </thead>\n",
       "  <tbody>\n",
       "    <tr>\n",
       "      <th>0</th>\n",
       "      <td>C++;HTML/CSS;Java;JavaScript;Python;SQL;VBA</td>\n",
       "      <td>Android</td>\n",
       "    </tr>\n",
       "    <tr>\n",
       "      <th>1</th>\n",
       "      <td>C++;HTML/CSS;Java;JavaScript;Python;SQL;VBA</td>\n",
       "      <td>Linux</td>\n",
       "    </tr>\n",
       "    <tr>\n",
       "      <th>2</th>\n",
       "      <td>C++;HTML/CSS;Java;JavaScript;Python;SQL;VBA</td>\n",
       "      <td>MacOS</td>\n",
       "    </tr>\n",
       "    <tr>\n",
       "      <th>3</th>\n",
       "      <td>C++;HTML/CSS;Java;JavaScript;Python;SQL;VBA</td>\n",
       "      <td>Slack</td>\n",
       "    </tr>\n",
       "    <tr>\n",
       "      <th>4</th>\n",
       "      <td>C++;HTML/CSS;Java;JavaScript;Python;SQL;VBA</td>\n",
       "      <td>Windows</td>\n",
       "    </tr>\n",
       "  </tbody>\n",
       "</table>\n",
       "</div>"
      ],
      "text/plain": [
       "                            LanguageWorkedWith PlatformWorkedWith\n",
       "0  C++;HTML/CSS;Java;JavaScript;Python;SQL;VBA            Android\n",
       "1  C++;HTML/CSS;Java;JavaScript;Python;SQL;VBA              Linux\n",
       "2  C++;HTML/CSS;Java;JavaScript;Python;SQL;VBA              MacOS\n",
       "3  C++;HTML/CSS;Java;JavaScript;Python;SQL;VBA              Slack\n",
       "4  C++;HTML/CSS;Java;JavaScript;Python;SQL;VBA            Windows"
      ]
     },
     "execution_count": 58,
     "metadata": {},
     "output_type": "execute_result"
    }
   ],
   "source": [
    "df19_plat_lang = df19_6col[[\"LanguageWorkedWith\",\"PlatformWorkedWith\"]]\n",
    "df19_plat_lang = df19_plat_lang.assign(PlatformWorkedWith=df19_plat_lang['PlatformWorkedWith'].apply(split_strip)).explode('PlatformWorkedWith').reset_index(drop=True)\n",
    "df19_plat_lang.head()"
   ]
  },
  {
   "cell_type": "code",
   "execution_count": 59,
   "metadata": {},
   "outputs": [
    {
     "data": {
      "text/html": [
       "<div>\n",
       "<style scoped>\n",
       "    .dataframe tbody tr th:only-of-type {\n",
       "        vertical-align: middle;\n",
       "    }\n",
       "\n",
       "    .dataframe tbody tr th {\n",
       "        vertical-align: top;\n",
       "    }\n",
       "\n",
       "    .dataframe thead th {\n",
       "        text-align: right;\n",
       "    }\n",
       "</style>\n",
       "<table border=\"1\" class=\"dataframe\">\n",
       "  <thead>\n",
       "    <tr style=\"text-align: right;\">\n",
       "      <th></th>\n",
       "      <th>LanguageWorkedWith</th>\n",
       "      <th>PlatformWorkedWith</th>\n",
       "    </tr>\n",
       "  </thead>\n",
       "  <tbody>\n",
       "    <tr>\n",
       "      <th>0</th>\n",
       "      <td>C++</td>\n",
       "      <td>Android</td>\n",
       "    </tr>\n",
       "    <tr>\n",
       "      <th>1</th>\n",
       "      <td>HTML/CSS</td>\n",
       "      <td>Android</td>\n",
       "    </tr>\n",
       "    <tr>\n",
       "      <th>2</th>\n",
       "      <td>Java</td>\n",
       "      <td>Android</td>\n",
       "    </tr>\n",
       "    <tr>\n",
       "      <th>3</th>\n",
       "      <td>JavaScript</td>\n",
       "      <td>Android</td>\n",
       "    </tr>\n",
       "    <tr>\n",
       "      <th>4</th>\n",
       "      <td>Python</td>\n",
       "      <td>Android</td>\n",
       "    </tr>\n",
       "  </tbody>\n",
       "</table>\n",
       "</div>"
      ],
      "text/plain": [
       "  LanguageWorkedWith PlatformWorkedWith\n",
       "0                C++            Android\n",
       "1           HTML/CSS            Android\n",
       "2               Java            Android\n",
       "3         JavaScript            Android\n",
       "4             Python            Android"
      ]
     },
     "execution_count": 59,
     "metadata": {},
     "output_type": "execute_result"
    }
   ],
   "source": [
    "df19_plat_lang = df19_plat_lang.assign(LanguageWorkedWith=df19_plat_lang['LanguageWorkedWith'].apply(split_strip)).explode('LanguageWorkedWith').reset_index(drop=True)\n",
    "df19_plat_lang.head()"
   ]
  },
  {
   "cell_type": "code",
   "execution_count": 60,
   "metadata": {},
   "outputs": [
    {
     "data": {
      "text/html": [
       "<div>\n",
       "<style scoped>\n",
       "    .dataframe tbody tr th:only-of-type {\n",
       "        vertical-align: middle;\n",
       "    }\n",
       "\n",
       "    .dataframe tbody tr th {\n",
       "        vertical-align: top;\n",
       "    }\n",
       "\n",
       "    .dataframe thead th {\n",
       "        text-align: right;\n",
       "    }\n",
       "</style>\n",
       "<table border=\"1\" class=\"dataframe\">\n",
       "  <thead>\n",
       "    <tr style=\"text-align: right;\">\n",
       "      <th></th>\n",
       "      <th>PlatformWorkedWith</th>\n",
       "      <th>LanguageWorkedWith</th>\n",
       "      <th>Count</th>\n",
       "    </tr>\n",
       "  </thead>\n",
       "  <tbody>\n",
       "    <tr>\n",
       "      <th>237</th>\n",
       "      <td>Linux</td>\n",
       "      <td>JavaScript</td>\n",
       "      <td>24558</td>\n",
       "    </tr>\n",
       "    <tr>\n",
       "      <th>405</th>\n",
       "      <td>Windows</td>\n",
       "      <td>JavaScript</td>\n",
       "      <td>23358</td>\n",
       "    </tr>\n",
       "    <tr>\n",
       "      <th>403</th>\n",
       "      <td>Windows</td>\n",
       "      <td>HTML/CSS</td>\n",
       "      <td>22289</td>\n",
       "    </tr>\n",
       "    <tr>\n",
       "      <th>235</th>\n",
       "      <td>Linux</td>\n",
       "      <td>HTML/CSS</td>\n",
       "      <td>22239</td>\n",
       "    </tr>\n",
       "    <tr>\n",
       "      <th>414</th>\n",
       "      <td>Windows</td>\n",
       "      <td>SQL</td>\n",
       "      <td>20630</td>\n",
       "    </tr>\n",
       "  </tbody>\n",
       "</table>\n",
       "</div>"
      ],
      "text/plain": [
       "    PlatformWorkedWith LanguageWorkedWith  Count\n",
       "237              Linux         JavaScript  24558\n",
       "405            Windows         JavaScript  23358\n",
       "403            Windows           HTML/CSS  22289\n",
       "235              Linux           HTML/CSS  22239\n",
       "414            Windows                SQL  20630"
      ]
     },
     "execution_count": 60,
     "metadata": {},
     "output_type": "execute_result"
    }
   ],
   "source": [
    "df19_plat_lang = pd.DataFrame({'Count' : df19_plat_lang.groupby( [ 'PlatformWorkedWith', 'LanguageWorkedWith'] ).size()}).reset_index().sort_values(by=['Count'], ascending=False)\n",
    "df19_plat_lang.head()"
   ]
  },
  {
   "cell_type": "code",
   "execution_count": 61,
   "metadata": {},
   "outputs": [
    {
     "data": {
      "text/plain": [
       "<AxesSubplot:ylabel='PlatformWorkedWith,LanguageWorkedWith'>"
      ]
     },
     "execution_count": 61,
     "metadata": {},
     "output_type": "execute_result"
    },
    {
     "data": {
      "image/png": "[encoded data removed]",
      "text/plain": [
       "<Figure size 432x288 with 1 Axes>"
      ]
     },
     "metadata": {
      "needs_background": "light"
     },
     "output_type": "display_data"
    }
   ],
   "source": [
    "df19_plat_lang[df19_plat_lang.Count > df19_plat_lang.Count.quantile(0.980)].set_index([ 'PlatformWorkedWith', 'LanguageWorkedWith']).plot.barh()"
   ]
  },
  {
   "cell_type": "markdown",
   "metadata": {},
   "source": [
    "### 2019"
   ]
  },
  {
   "cell_type": "markdown",
   "metadata": {},
   "source": [
    "### platform-database"
   ]
  },
  {
   "cell_type": "code",
   "execution_count": 62,
   "metadata": {},
   "outputs": [
    {
     "data": {
      "text/html": [
       "<div>\n",
       "<style scoped>\n",
       "    .dataframe tbody tr th:only-of-type {\n",
       "        vertical-align: middle;\n",
       "    }\n",
       "\n",
       "    .dataframe tbody tr th {\n",
       "        vertical-align: top;\n",
       "    }\n",
       "\n",
       "    .dataframe thead th {\n",
       "        text-align: right;\n",
       "    }\n",
       "</style>\n",
       "<table border=\"1\" class=\"dataframe\">\n",
       "  <thead>\n",
       "    <tr style=\"text-align: right;\">\n",
       "      <th></th>\n",
       "      <th>DatabaseWorkedWith</th>\n",
       "      <th>PlatformWorkedWith</th>\n",
       "    </tr>\n",
       "  </thead>\n",
       "  <tbody>\n",
       "    <tr>\n",
       "      <th>0</th>\n",
       "      <td>Couchbase;MongoDB;MySQL;Oracle;PostgreSQL;SQLite</td>\n",
       "      <td>Android</td>\n",
       "    </tr>\n",
       "    <tr>\n",
       "      <th>1</th>\n",
       "      <td>Couchbase;MongoDB;MySQL;Oracle;PostgreSQL;SQLite</td>\n",
       "      <td>Linux</td>\n",
       "    </tr>\n",
       "    <tr>\n",
       "      <th>2</th>\n",
       "      <td>Couchbase;MongoDB;MySQL;Oracle;PostgreSQL;SQLite</td>\n",
       "      <td>MacOS</td>\n",
       "    </tr>\n",
       "    <tr>\n",
       "      <th>3</th>\n",
       "      <td>Couchbase;MongoDB;MySQL;Oracle;PostgreSQL;SQLite</td>\n",
       "      <td>Slack</td>\n",
       "    </tr>\n",
       "    <tr>\n",
       "      <th>4</th>\n",
       "      <td>Couchbase;MongoDB;MySQL;Oracle;PostgreSQL;SQLite</td>\n",
       "      <td>Windows</td>\n",
       "    </tr>\n",
       "  </tbody>\n",
       "</table>\n",
       "</div>"
      ],
      "text/plain": [
       "                                 DatabaseWorkedWith PlatformWorkedWith\n",
       "0  Couchbase;MongoDB;MySQL;Oracle;PostgreSQL;SQLite            Android\n",
       "1  Couchbase;MongoDB;MySQL;Oracle;PostgreSQL;SQLite              Linux\n",
       "2  Couchbase;MongoDB;MySQL;Oracle;PostgreSQL;SQLite              MacOS\n",
       "3  Couchbase;MongoDB;MySQL;Oracle;PostgreSQL;SQLite              Slack\n",
       "4  Couchbase;MongoDB;MySQL;Oracle;PostgreSQL;SQLite            Windows"
      ]
     },
     "execution_count": 62,
     "metadata": {},
     "output_type": "execute_result"
    }
   ],
   "source": [
    "df19_plat_db = df19_6col[[\"DatabaseWorkedWith\",\"PlatformWorkedWith\"]]\n",
    "df19_plat_db = df19_plat_db.assign(PlatformWorkedWith=df19_plat_db['PlatformWorkedWith'].apply(split_strip)).explode('PlatformWorkedWith').reset_index(drop=True)\n",
    "df19_plat_db.head()"
   ]
  },
  {
   "cell_type": "code",
   "execution_count": 63,
   "metadata": {},
   "outputs": [
    {
     "data": {
      "text/html": [
       "<div>\n",
       "<style scoped>\n",
       "    .dataframe tbody tr th:only-of-type {\n",
       "        vertical-align: middle;\n",
       "    }\n",
       "\n",
       "    .dataframe tbody tr th {\n",
       "        vertical-align: top;\n",
       "    }\n",
       "\n",
       "    .dataframe thead th {\n",
       "        text-align: right;\n",
       "    }\n",
       "</style>\n",
       "<table border=\"1\" class=\"dataframe\">\n",
       "  <thead>\n",
       "    <tr style=\"text-align: right;\">\n",
       "      <th></th>\n",
       "      <th>DatabaseWorkedWith</th>\n",
       "      <th>PlatformWorkedWith</th>\n",
       "    </tr>\n",
       "  </thead>\n",
       "  <tbody>\n",
       "    <tr>\n",
       "      <th>0</th>\n",
       "      <td>Couchbase</td>\n",
       "      <td>Android</td>\n",
       "    </tr>\n",
       "    <tr>\n",
       "      <th>1</th>\n",
       "      <td>MongoDB</td>\n",
       "      <td>Android</td>\n",
       "    </tr>\n",
       "    <tr>\n",
       "      <th>2</th>\n",
       "      <td>MySQL</td>\n",
       "      <td>Android</td>\n",
       "    </tr>\n",
       "    <tr>\n",
       "      <th>3</th>\n",
       "      <td>Oracle</td>\n",
       "      <td>Android</td>\n",
       "    </tr>\n",
       "    <tr>\n",
       "      <th>4</th>\n",
       "      <td>PostgreSQL</td>\n",
       "      <td>Android</td>\n",
       "    </tr>\n",
       "  </tbody>\n",
       "</table>\n",
       "</div>"
      ],
      "text/plain": [
       "  DatabaseWorkedWith PlatformWorkedWith\n",
       "0          Couchbase            Android\n",
       "1            MongoDB            Android\n",
       "2              MySQL            Android\n",
       "3             Oracle            Android\n",
       "4         PostgreSQL            Android"
      ]
     },
     "execution_count": 63,
     "metadata": {},
     "output_type": "execute_result"
    }
   ],
   "source": [
    "df19_plat_db = df19_plat_db.assign(DatabaseWorkedWith=df19_plat_db['DatabaseWorkedWith'].apply(split_strip)).explode('DatabaseWorkedWith').reset_index(drop=True)\n",
    "df19_plat_db.head()"
   ]
  },
  {
   "cell_type": "code",
   "execution_count": 64,
   "metadata": {},
   "outputs": [
    {
     "data": {
      "text/html": [
       "<div>\n",
       "<style scoped>\n",
       "    .dataframe tbody tr th:only-of-type {\n",
       "        vertical-align: middle;\n",
       "    }\n",
       "\n",
       "    .dataframe tbody tr th {\n",
       "        vertical-align: top;\n",
       "    }\n",
       "\n",
       "    .dataframe thead th {\n",
       "        text-align: right;\n",
       "    }\n",
       "</style>\n",
       "<table border=\"1\" class=\"dataframe\">\n",
       "  <thead>\n",
       "    <tr style=\"text-align: right;\">\n",
       "      <th></th>\n",
       "      <th>PlatformWorkedWith</th>\n",
       "      <th>DatabaseWorkedWith</th>\n",
       "      <th>Count</th>\n",
       "    </tr>\n",
       "  </thead>\n",
       "  <tbody>\n",
       "    <tr>\n",
       "      <th>120</th>\n",
       "      <td>Linux</td>\n",
       "      <td>MySQL</td>\n",
       "      <td>18682</td>\n",
       "    </tr>\n",
       "    <tr>\n",
       "      <th>204</th>\n",
       "      <td>Windows</td>\n",
       "      <td>MySQL</td>\n",
       "      <td>15960</td>\n",
       "    </tr>\n",
       "    <tr>\n",
       "      <th>202</th>\n",
       "      <td>Windows</td>\n",
       "      <td>Microsoft SQL Server</td>\n",
       "      <td>14929</td>\n",
       "    </tr>\n",
       "    <tr>\n",
       "      <th>123</th>\n",
       "      <td>Linux</td>\n",
       "      <td>PostgreSQL</td>\n",
       "      <td>14325</td>\n",
       "    </tr>\n",
       "    <tr>\n",
       "      <th>50</th>\n",
       "      <td>Docker</td>\n",
       "      <td>MySQL</td>\n",
       "      <td>11504</td>\n",
       "    </tr>\n",
       "  </tbody>\n",
       "</table>\n",
       "</div>"
      ],
      "text/plain": [
       "    PlatformWorkedWith    DatabaseWorkedWith  Count\n",
       "120              Linux                 MySQL  18682\n",
       "204            Windows                 MySQL  15960\n",
       "202            Windows  Microsoft SQL Server  14929\n",
       "123              Linux            PostgreSQL  14325\n",
       "50              Docker                 MySQL  11504"
      ]
     },
     "execution_count": 64,
     "metadata": {},
     "output_type": "execute_result"
    }
   ],
   "source": [
    "df19_plat_db = pd.DataFrame({'Count' : df19_plat_db.groupby( [ 'PlatformWorkedWith', 'DatabaseWorkedWith'] ).size()}).reset_index().sort_values(by=['Count'], ascending=False)\n",
    "df19_plat_db.head()"
   ]
  },
  {
   "cell_type": "code",
   "execution_count": 65,
   "metadata": {},
   "outputs": [
    {
     "data": {
      "text/plain": [
       "<AxesSubplot:ylabel='PlatformWorkedWith,DatabaseWorkedWith'>"
      ]
     },
     "execution_count": 65,
     "metadata": {},
     "output_type": "execute_result"
    },
    {
     "data": {
      "image/png": "[encoded data removed]",
      "text/plain": [
       "<Figure size 432x288 with 1 Axes>"
      ]
     },
     "metadata": {
      "needs_background": "light"
     },
     "output_type": "display_data"
    }
   ],
   "source": [
    "df19_plat_db[df19_plat_db.Count > df19_plat_db.Count.quantile(0.95)].set_index([ 'PlatformWorkedWith', 'DatabaseWorkedWith']).plot.barh()"
   ]
  },
  {
   "cell_type": "markdown",
   "metadata": {},
   "source": [
    "### 2019"
   ]
  },
  {
   "cell_type": "markdown",
   "metadata": {},
   "source": [
    "### platform-Framework"
   ]
  },
  {
   "cell_type": "code",
   "execution_count": 66,
   "metadata": {},
   "outputs": [
    {
     "data": {
      "text/html": [
       "<div>\n",
       "<style scoped>\n",
       "    .dataframe tbody tr th:only-of-type {\n",
       "        vertical-align: middle;\n",
       "    }\n",
       "\n",
       "    .dataframe tbody tr th {\n",
       "        vertical-align: top;\n",
       "    }\n",
       "\n",
       "    .dataframe thead th {\n",
       "        text-align: right;\n",
       "    }\n",
       "</style>\n",
       "<table border=\"1\" class=\"dataframe\">\n",
       "  <thead>\n",
       "    <tr style=\"text-align: right;\">\n",
       "      <th></th>\n",
       "      <th>FrameworkWorkedWith</th>\n",
       "      <th>PlatformWorkedWith</th>\n",
       "    </tr>\n",
       "  </thead>\n",
       "  <tbody>\n",
       "    <tr>\n",
       "      <th>0</th>\n",
       "      <td>Django;Express;Flask;jQuery;React.js;Spring</td>\n",
       "      <td>Android</td>\n",
       "    </tr>\n",
       "    <tr>\n",
       "      <th>1</th>\n",
       "      <td>Django;Express;Flask;jQuery;React.js;Spring</td>\n",
       "      <td>Linux</td>\n",
       "    </tr>\n",
       "    <tr>\n",
       "      <th>2</th>\n",
       "      <td>Django;Express;Flask;jQuery;React.js;Spring</td>\n",
       "      <td>MacOS</td>\n",
       "    </tr>\n",
       "    <tr>\n",
       "      <th>3</th>\n",
       "      <td>Django;Express;Flask;jQuery;React.js;Spring</td>\n",
       "      <td>Slack</td>\n",
       "    </tr>\n",
       "    <tr>\n",
       "      <th>4</th>\n",
       "      <td>Django;Express;Flask;jQuery;React.js;Spring</td>\n",
       "      <td>Windows</td>\n",
       "    </tr>\n",
       "  </tbody>\n",
       "</table>\n",
       "</div>"
      ],
      "text/plain": [
       "                           FrameworkWorkedWith PlatformWorkedWith\n",
       "0  Django;Express;Flask;jQuery;React.js;Spring            Android\n",
       "1  Django;Express;Flask;jQuery;React.js;Spring              Linux\n",
       "2  Django;Express;Flask;jQuery;React.js;Spring              MacOS\n",
       "3  Django;Express;Flask;jQuery;React.js;Spring              Slack\n",
       "4  Django;Express;Flask;jQuery;React.js;Spring            Windows"
      ]
     },
     "execution_count": 66,
     "metadata": {},
     "output_type": "execute_result"
    }
   ],
   "source": [
    "df19_plat_fw = df19_6col[[\"FrameworkWorkedWith\",\"PlatformWorkedWith\"]]\n",
    "df19_plat_fw = df19_plat_fw.assign(PlatformWorkedWith=df19_plat_fw['PlatformWorkedWith'].apply(split_strip)).explode('PlatformWorkedWith').reset_index(drop=True)\n",
    "df19_plat_fw.head()"
   ]
  },
  {
   "cell_type": "code",
   "execution_count": 67,
   "metadata": {},
   "outputs": [
    {
     "data": {
      "text/html": [
       "<div>\n",
       "<style scoped>\n",
       "    .dataframe tbody tr th:only-of-type {\n",
       "        vertical-align: middle;\n",
       "    }\n",
       "\n",
       "    .dataframe tbody tr th {\n",
       "        vertical-align: top;\n",
       "    }\n",
       "\n",
       "    .dataframe thead th {\n",
       "        text-align: right;\n",
       "    }\n",
       "</style>\n",
       "<table border=\"1\" class=\"dataframe\">\n",
       "  <thead>\n",
       "    <tr style=\"text-align: right;\">\n",
       "      <th></th>\n",
       "      <th>FrameworkWorkedWith</th>\n",
       "      <th>PlatformWorkedWith</th>\n",
       "    </tr>\n",
       "  </thead>\n",
       "  <tbody>\n",
       "    <tr>\n",
       "      <th>0</th>\n",
       "      <td>Django</td>\n",
       "      <td>Android</td>\n",
       "    </tr>\n",
       "    <tr>\n",
       "      <th>1</th>\n",
       "      <td>Express</td>\n",
       "      <td>Android</td>\n",
       "    </tr>\n",
       "    <tr>\n",
       "      <th>2</th>\n",
       "      <td>Flask</td>\n",
       "      <td>Android</td>\n",
       "    </tr>\n",
       "    <tr>\n",
       "      <th>3</th>\n",
       "      <td>jQuery</td>\n",
       "      <td>Android</td>\n",
       "    </tr>\n",
       "    <tr>\n",
       "      <th>4</th>\n",
       "      <td>React.js</td>\n",
       "      <td>Android</td>\n",
       "    </tr>\n",
       "  </tbody>\n",
       "</table>\n",
       "</div>"
      ],
      "text/plain": [
       "  FrameworkWorkedWith PlatformWorkedWith\n",
       "0              Django            Android\n",
       "1             Express            Android\n",
       "2               Flask            Android\n",
       "3              jQuery            Android\n",
       "4            React.js            Android"
      ]
     },
     "execution_count": 67,
     "metadata": {},
     "output_type": "execute_result"
    }
   ],
   "source": [
    "df19_plat_fw = df19_plat_fw.assign(FrameworkWorkedWith=df19_plat_fw['FrameworkWorkedWith'].apply(split_strip)).explode('FrameworkWorkedWith').reset_index(drop=True)\n",
    "df19_plat_fw.head()"
   ]
  },
  {
   "cell_type": "code",
   "execution_count": 68,
   "metadata": {},
   "outputs": [
    {
     "data": {
      "text/html": [
       "<div>\n",
       "<style scoped>\n",
       "    .dataframe tbody tr th:only-of-type {\n",
       "        vertical-align: middle;\n",
       "    }\n",
       "\n",
       "    .dataframe tbody tr th {\n",
       "        vertical-align: top;\n",
       "    }\n",
       "\n",
       "    .dataframe thead th {\n",
       "        text-align: right;\n",
       "    }\n",
       "</style>\n",
       "<table border=\"1\" class=\"dataframe\">\n",
       "  <thead>\n",
       "    <tr style=\"text-align: right;\">\n",
       "      <th></th>\n",
       "      <th>PlatformWorkedWith</th>\n",
       "      <th>FrameworkWorkedWith</th>\n",
       "      <th>Count</th>\n",
       "    </tr>\n",
       "  </thead>\n",
       "  <tbody>\n",
       "    <tr>\n",
       "      <th>0</th>\n",
       "      <td>Windows</td>\n",
       "      <td>jQuery</td>\n",
       "      <td>15956</td>\n",
       "    </tr>\n",
       "    <tr>\n",
       "      <th>1</th>\n",
       "      <td>Linux</td>\n",
       "      <td>jQuery</td>\n",
       "      <td>14483</td>\n",
       "    </tr>\n",
       "    <tr>\n",
       "      <th>2</th>\n",
       "      <td>Windows</td>\n",
       "      <td>ASP.NET</td>\n",
       "      <td>12085</td>\n",
       "    </tr>\n",
       "    <tr>\n",
       "      <th>3</th>\n",
       "      <td>Windows</td>\n",
       "      <td>Angular/Angular.js</td>\n",
       "      <td>9966</td>\n",
       "    </tr>\n",
       "    <tr>\n",
       "      <th>4</th>\n",
       "      <td>Linux</td>\n",
       "      <td>React.js</td>\n",
       "      <td>9508</td>\n",
       "    </tr>\n",
       "  </tbody>\n",
       "</table>\n",
       "</div>"
      ],
      "text/plain": [
       "  PlatformWorkedWith FrameworkWorkedWith  Count\n",
       "0            Windows              jQuery  15956\n",
       "1              Linux              jQuery  14483\n",
       "2            Windows             ASP.NET  12085\n",
       "3            Windows  Angular/Angular.js   9966\n",
       "4              Linux            React.js   9508"
      ]
     },
     "execution_count": 68,
     "metadata": {},
     "output_type": "execute_result"
    }
   ],
   "source": [
    "df19_plat_fw= pd.DataFrame({'Count' : df19_plat_fw.groupby(['PlatformWorkedWith', 'FrameworkWorkedWith']).size()}).reset_index().sort_values(by=['Count'], ascending=False).reset_index(drop=True)\n",
    "df19_plat_fw.head()"
   ]
  },
  {
   "cell_type": "code",
   "execution_count": 69,
   "metadata": {},
   "outputs": [
    {
     "data": {
      "text/plain": [
       "<AxesSubplot:ylabel='PlatformWorkedWith,FrameworkWorkedWith'>"
      ]
     },
     "execution_count": 69,
     "metadata": {},
     "output_type": "execute_result"
    },
    {
     "data": {
      "image/png": "[encoded data removed]",
      "text/plain": [
       "<Figure size 432x288 with 1 Axes>"
      ]
     },
     "metadata": {
      "needs_background": "light"
     },
     "output_type": "display_data"
    }
   ],
   "source": [
    "df19_plat_fw[df19_plat_fw.Count > df19_plat_fw.Count.quantile(0.95)].set_index([ 'PlatformWorkedWith', 'FrameworkWorkedWith']).plot.barh()"
   ]
  },
  {
   "cell_type": "markdown",
   "metadata": {},
   "source": [
    "### 2019"
   ]
  },
  {
   "cell_type": "markdown",
   "metadata": {},
   "source": [
    "### platform-devtype"
   ]
  },
  {
   "cell_type": "code",
   "execution_count": 70,
   "metadata": {},
   "outputs": [
    {
     "data": {
      "text/html": [
       "<div>\n",
       "<style scoped>\n",
       "    .dataframe tbody tr th:only-of-type {\n",
       "        vertical-align: middle;\n",
       "    }\n",
       "\n",
       "    .dataframe tbody tr th {\n",
       "        vertical-align: top;\n",
       "    }\n",
       "\n",
       "    .dataframe thead th {\n",
       "        text-align: right;\n",
       "    }\n",
       "</style>\n",
       "<table border=\"1\" class=\"dataframe\">\n",
       "  <thead>\n",
       "    <tr style=\"text-align: right;\">\n",
       "      <th></th>\n",
       "      <th>DevType</th>\n",
       "      <th>PlatformWorkedWith</th>\n",
       "    </tr>\n",
       "  </thead>\n",
       "  <tbody>\n",
       "    <tr>\n",
       "      <th>0</th>\n",
       "      <td>Academic researcher;Developer, desktop or ente...</td>\n",
       "      <td>Android</td>\n",
       "    </tr>\n",
       "    <tr>\n",
       "      <th>1</th>\n",
       "      <td>Academic researcher;Developer, desktop or ente...</td>\n",
       "      <td>Linux</td>\n",
       "    </tr>\n",
       "    <tr>\n",
       "      <th>2</th>\n",
       "      <td>Academic researcher;Developer, desktop or ente...</td>\n",
       "      <td>MacOS</td>\n",
       "    </tr>\n",
       "    <tr>\n",
       "      <th>3</th>\n",
       "      <td>Academic researcher;Developer, desktop or ente...</td>\n",
       "      <td>Slack</td>\n",
       "    </tr>\n",
       "    <tr>\n",
       "      <th>4</th>\n",
       "      <td>Academic researcher;Developer, desktop or ente...</td>\n",
       "      <td>Windows</td>\n",
       "    </tr>\n",
       "  </tbody>\n",
       "</table>\n",
       "</div>"
      ],
      "text/plain": [
       "                                             DevType PlatformWorkedWith\n",
       "0  Academic researcher;Developer, desktop or ente...            Android\n",
       "1  Academic researcher;Developer, desktop or ente...              Linux\n",
       "2  Academic researcher;Developer, desktop or ente...              MacOS\n",
       "3  Academic researcher;Developer, desktop or ente...              Slack\n",
       "4  Academic researcher;Developer, desktop or ente...            Windows"
      ]
     },
     "execution_count": 70,
     "metadata": {},
     "output_type": "execute_result"
    }
   ],
   "source": [
    "df19_plat_dt = df19_6col[[\"DevType\",\"PlatformWorkedWith\"]]\n",
    "df19_plat_dt = df19_plat_dt.assign(PlatformWorkedWith=df19_plat_dt['PlatformWorkedWith'].apply(split_strip)).explode('PlatformWorkedWith').reset_index(drop=True)\n",
    "df19_plat_dt.head()"
   ]
  },
  {
   "cell_type": "code",
   "execution_count": 71,
   "metadata": {},
   "outputs": [
    {
     "data": {
      "text/html": [
       "<div>\n",
       "<style scoped>\n",
       "    .dataframe tbody tr th:only-of-type {\n",
       "        vertical-align: middle;\n",
       "    }\n",
       "\n",
       "    .dataframe tbody tr th {\n",
       "        vertical-align: top;\n",
       "    }\n",
       "\n",
       "    .dataframe thead th {\n",
       "        text-align: right;\n",
       "    }\n",
       "</style>\n",
       "<table border=\"1\" class=\"dataframe\">\n",
       "  <thead>\n",
       "    <tr style=\"text-align: right;\">\n",
       "      <th></th>\n",
       "      <th>DevType</th>\n",
       "      <th>PlatformWorkedWith</th>\n",
       "    </tr>\n",
       "  </thead>\n",
       "  <tbody>\n",
       "    <tr>\n",
       "      <th>0</th>\n",
       "      <td>Academic researcher</td>\n",
       "      <td>Android</td>\n",
       "    </tr>\n",
       "    <tr>\n",
       "      <th>1</th>\n",
       "      <td>Developer, desktop or enterprise applications</td>\n",
       "      <td>Android</td>\n",
       "    </tr>\n",
       "    <tr>\n",
       "      <th>2</th>\n",
       "      <td>Developer, full-stack</td>\n",
       "      <td>Android</td>\n",
       "    </tr>\n",
       "    <tr>\n",
       "      <th>3</th>\n",
       "      <td>Developer, mobile</td>\n",
       "      <td>Android</td>\n",
       "    </tr>\n",
       "    <tr>\n",
       "      <th>4</th>\n",
       "      <td>Academic researcher</td>\n",
       "      <td>Linux</td>\n",
       "    </tr>\n",
       "  </tbody>\n",
       "</table>\n",
       "</div>"
      ],
      "text/plain": [
       "                                         DevType PlatformWorkedWith\n",
       "0                            Academic researcher            Android\n",
       "1  Developer, desktop or enterprise applications            Android\n",
       "2                          Developer, full-stack            Android\n",
       "3                              Developer, mobile            Android\n",
       "4                            Academic researcher              Linux"
      ]
     },
     "execution_count": 71,
     "metadata": {},
     "output_type": "execute_result"
    }
   ],
   "source": [
    "df19_plat_dt = df19_plat_dt.assign(DevType=df19_plat_dt['DevType'].apply(split_strip)).explode('DevType').reset_index(drop=True)\n",
    "df19_plat_dt.head()"
   ]
  },
  {
   "cell_type": "code",
   "execution_count": 72,
   "metadata": {},
   "outputs": [
    {
     "data": {
      "text/html": [
       "<div>\n",
       "<style scoped>\n",
       "    .dataframe tbody tr th:only-of-type {\n",
       "        vertical-align: middle;\n",
       "    }\n",
       "\n",
       "    .dataframe tbody tr th {\n",
       "        vertical-align: top;\n",
       "    }\n",
       "\n",
       "    .dataframe thead th {\n",
       "        text-align: right;\n",
       "    }\n",
       "</style>\n",
       "<table border=\"1\" class=\"dataframe\">\n",
       "  <thead>\n",
       "    <tr style=\"text-align: right;\">\n",
       "      <th></th>\n",
       "      <th>PlatformWorkedWith</th>\n",
       "      <th>DevType</th>\n",
       "      <th>Count</th>\n",
       "    </tr>\n",
       "  </thead>\n",
       "  <tbody>\n",
       "    <tr>\n",
       "      <th>203</th>\n",
       "      <td>Linux</td>\n",
       "      <td>Developer, full-stack</td>\n",
       "      <td>19477</td>\n",
       "    </tr>\n",
       "    <tr>\n",
       "      <th>347</th>\n",
       "      <td>Windows</td>\n",
       "      <td>Developer, full-stack</td>\n",
       "      <td>18817</td>\n",
       "    </tr>\n",
       "    <tr>\n",
       "      <th>199</th>\n",
       "      <td>Linux</td>\n",
       "      <td>Developer, back-end</td>\n",
       "      <td>18693</td>\n",
       "    </tr>\n",
       "    <tr>\n",
       "      <th>343</th>\n",
       "      <td>Windows</td>\n",
       "      <td>Developer, back-end</td>\n",
       "      <td>16421</td>\n",
       "    </tr>\n",
       "    <tr>\n",
       "      <th>83</th>\n",
       "      <td>Docker</td>\n",
       "      <td>Developer, full-stack</td>\n",
       "      <td>13866</td>\n",
       "    </tr>\n",
       "  </tbody>\n",
       "</table>\n",
       "</div>"
      ],
      "text/plain": [
       "    PlatformWorkedWith                DevType  Count\n",
       "203              Linux  Developer, full-stack  19477\n",
       "347            Windows  Developer, full-stack  18817\n",
       "199              Linux    Developer, back-end  18693\n",
       "343            Windows    Developer, back-end  16421\n",
       "83              Docker  Developer, full-stack  13866"
      ]
     },
     "execution_count": 72,
     "metadata": {},
     "output_type": "execute_result"
    }
   ],
   "source": [
    "df19_plat_dt= pd.DataFrame({'Count' : df19_plat_dt.groupby( [ 'PlatformWorkedWith', 'DevType'] ).size()}).reset_index().sort_values(by=['Count'], ascending=False)\n",
    "df19_plat_dt.head()"
   ]
  },
  {
   "cell_type": "code",
   "execution_count": 73,
   "metadata": {},
   "outputs": [
    {
     "data": {
      "text/plain": [
       "<AxesSubplot:ylabel='PlatformWorkedWith,DevType'>"
      ]
     },
     "execution_count": 73,
     "metadata": {},
     "output_type": "execute_result"
    },
    {
     "data": {
      "image/png": "[encoded data removed]",
      "text/plain": [
       "<Figure size 432x288 with 1 Axes>"
      ]
     },
     "metadata": {
      "needs_background": "light"
     },
     "output_type": "display_data"
    }
   ],
   "source": [
    "df19_plat_dt[df19_plat_dt.Count > df19_plat_dt.Count.quantile(0.95)].set_index([ 'PlatformWorkedWith', 'DevType']).plot.barh()"
   ]
  },
  {
   "cell_type": "markdown",
   "metadata": {},
   "source": [
    "### 2020 and data preparation"
   ]
  },
  {
   "cell_type": "markdown",
   "metadata": {},
   "source": [
    "Dataframes are suffixed with year number plus underscore and number of selected columns. \n",
    "\n",
    "This means 'df20_6col' means dataframe from 2020 and selecting 6 interesting columns needed to answer the question.\n",
    "\n",
    "Column 'WebframeWorkedWith' is renamed to 'FrameworkWorkedWith' to keep names consistent."
   ]
  },
  {
   "cell_type": "code",
   "execution_count": 74,
   "metadata": {},
   "outputs": [
    {
     "data": {
      "text/html": [
       "<div>\n",
       "<style scoped>\n",
       "    .dataframe tbody tr th:only-of-type {\n",
       "        vertical-align: middle;\n",
       "    }\n",
       "\n",
       "    .dataframe tbody tr th {\n",
       "        vertical-align: top;\n",
       "    }\n",
       "\n",
       "    .dataframe thead th {\n",
       "        text-align: right;\n",
       "    }\n",
       "</style>\n",
       "<table border=\"1\" class=\"dataframe\">\n",
       "  <thead>\n",
       "    <tr style=\"text-align: right;\">\n",
       "      <th></th>\n",
       "      <th>Respondent</th>\n",
       "      <th>DevType</th>\n",
       "      <th>PlatformWorkedWith</th>\n",
       "      <th>LanguageWorkedWith</th>\n",
       "      <th>FrameworkWorkedWith</th>\n",
       "      <th>DatabaseWorkedWith</th>\n",
       "    </tr>\n",
       "  </thead>\n",
       "  <tbody>\n",
       "    <tr>\n",
       "      <th>0</th>\n",
       "      <td>1</td>\n",
       "      <td>Developer, desktop or enterprise applications;...</td>\n",
       "      <td>Windows</td>\n",
       "      <td>C#;HTML/CSS;JavaScript</td>\n",
       "      <td>ASP.NET;ASP.NET Core</td>\n",
       "      <td>Elasticsearch;Microsoft SQL Server;Oracle</td>\n",
       "    </tr>\n",
       "    <tr>\n",
       "      <th>7</th>\n",
       "      <td>8</td>\n",
       "      <td>Developer, back-end;Developer, desktop or ente...</td>\n",
       "      <td>Docker</td>\n",
       "      <td>Python;SQL</td>\n",
       "      <td>Flask</td>\n",
       "      <td>MariaDB;MySQL;Redis</td>\n",
       "    </tr>\n",
       "    <tr>\n",
       "      <th>9</th>\n",
       "      <td>10</td>\n",
       "      <td>Database administrator;Developer, full-stack;D...</td>\n",
       "      <td>Android;Linux;Raspberry Pi;Windows</td>\n",
       "      <td>HTML/CSS;Java;JavaScript;Python;SQL</td>\n",
       "      <td>Flask;jQuery</td>\n",
       "      <td>Microsoft SQL Server</td>\n",
       "    </tr>\n",
       "    <tr>\n",
       "      <th>10</th>\n",
       "      <td>11</td>\n",
       "      <td>Developer, back-end;Developer, desktop or ente...</td>\n",
       "      <td>AWS;Heroku;iOS</td>\n",
       "      <td>C#;JavaScript;Swift</td>\n",
       "      <td>Angular;Angular.js;Django;React.js</td>\n",
       "      <td>Firebase;MongoDB;PostgreSQL;SQLite</td>\n",
       "    </tr>\n",
       "    <tr>\n",
       "      <th>13</th>\n",
       "      <td>14</td>\n",
       "      <td>Developer, desktop or enterprise applications;...</td>\n",
       "      <td>Google Cloud Platform;Windows</td>\n",
       "      <td>HTML/CSS;JavaScript;SQL;TypeScript</td>\n",
       "      <td>Angular;Vue.js</td>\n",
       "      <td>Firebase;Microsoft SQL Server</td>\n",
       "    </tr>\n",
       "  </tbody>\n",
       "</table>\n",
       "</div>"
      ],
      "text/plain": [
       "    Respondent                                            DevType  \\\n",
       "0            1  Developer, desktop or enterprise applications;...   \n",
       "7            8  Developer, back-end;Developer, desktop or ente...   \n",
       "9           10  Database administrator;Developer, full-stack;D...   \n",
       "10          11  Developer, back-end;Developer, desktop or ente...   \n",
       "13          14  Developer, desktop or enterprise applications;...   \n",
       "\n",
       "                    PlatformWorkedWith                   LanguageWorkedWith  \\\n",
       "0                              Windows               C#;HTML/CSS;JavaScript   \n",
       "7                               Docker                           Python;SQL   \n",
       "9   Android;Linux;Raspberry Pi;Windows  HTML/CSS;Java;JavaScript;Python;SQL   \n",
       "10                      AWS;Heroku;iOS                  C#;JavaScript;Swift   \n",
       "13       Google Cloud Platform;Windows   HTML/CSS;JavaScript;SQL;TypeScript   \n",
       "\n",
       "                   FrameworkWorkedWith  \\\n",
       "0                 ASP.NET;ASP.NET Core   \n",
       "7                                Flask   \n",
       "9                         Flask;jQuery   \n",
       "10  Angular;Angular.js;Django;React.js   \n",
       "13                      Angular;Vue.js   \n",
       "\n",
       "                           DatabaseWorkedWith  \n",
       "0   Elasticsearch;Microsoft SQL Server;Oracle  \n",
       "7                         MariaDB;MySQL;Redis  \n",
       "9                        Microsoft SQL Server  \n",
       "10         Firebase;MongoDB;PostgreSQL;SQLite  \n",
       "13              Firebase;Microsoft SQL Server  "
      ]
     },
     "execution_count": 74,
     "metadata": {},
     "output_type": "execute_result"
    }
   ],
   "source": [
    "df20_6col =df20.dropna(subset=['Respondent', 'DevType', 'PlatformWorkedWith', 'LanguageWorkedWith', 'WebframeWorkedWith', 'DatabaseWorkedWith'], axis=0)\n",
    "df20_6col = df20_6col[[ 'Respondent', 'DevType', 'PlatformWorkedWith', 'LanguageWorkedWith', 'WebframeWorkedWith', 'DatabaseWorkedWith']]\n",
    "\n",
    "df20_6col.rename(columns={'WebframeWorkedWith':'FrameworkWorkedWith'}, inplace=True)\n",
    "df20_6col.head()"
   ]
  },
  {
   "cell_type": "markdown",
   "metadata": {},
   "source": [
    "### 2020"
   ]
  },
  {
   "cell_type": "markdown",
   "metadata": {},
   "source": [
    "### platform-language"
   ]
  },
  {
   "cell_type": "code",
   "execution_count": 75,
   "metadata": {},
   "outputs": [
    {
     "data": {
      "text/html": [
       "<div>\n",
       "<style scoped>\n",
       "    .dataframe tbody tr th:only-of-type {\n",
       "        vertical-align: middle;\n",
       "    }\n",
       "\n",
       "    .dataframe tbody tr th {\n",
       "        vertical-align: top;\n",
       "    }\n",
       "\n",
       "    .dataframe thead th {\n",
       "        text-align: right;\n",
       "    }\n",
       "</style>\n",
       "<table border=\"1\" class=\"dataframe\">\n",
       "  <thead>\n",
       "    <tr style=\"text-align: right;\">\n",
       "      <th></th>\n",
       "      <th>LanguageWorkedWith</th>\n",
       "      <th>PlatformWorkedWith</th>\n",
       "    </tr>\n",
       "  </thead>\n",
       "  <tbody>\n",
       "    <tr>\n",
       "      <th>0</th>\n",
       "      <td>C#;HTML/CSS;JavaScript</td>\n",
       "      <td>Windows</td>\n",
       "    </tr>\n",
       "    <tr>\n",
       "      <th>1</th>\n",
       "      <td>Python;SQL</td>\n",
       "      <td>Docker</td>\n",
       "    </tr>\n",
       "    <tr>\n",
       "      <th>2</th>\n",
       "      <td>HTML/CSS;Java;JavaScript;Python;SQL</td>\n",
       "      <td>Android</td>\n",
       "    </tr>\n",
       "    <tr>\n",
       "      <th>3</th>\n",
       "      <td>HTML/CSS;Java;JavaScript;Python;SQL</td>\n",
       "      <td>Linux</td>\n",
       "    </tr>\n",
       "    <tr>\n",
       "      <th>4</th>\n",
       "      <td>HTML/CSS;Java;JavaScript;Python;SQL</td>\n",
       "      <td>Raspberry Pi</td>\n",
       "    </tr>\n",
       "  </tbody>\n",
       "</table>\n",
       "</div>"
      ],
      "text/plain": [
       "                    LanguageWorkedWith PlatformWorkedWith\n",
       "0               C#;HTML/CSS;JavaScript            Windows\n",
       "1                           Python;SQL             Docker\n",
       "2  HTML/CSS;Java;JavaScript;Python;SQL            Android\n",
       "3  HTML/CSS;Java;JavaScript;Python;SQL              Linux\n",
       "4  HTML/CSS;Java;JavaScript;Python;SQL       Raspberry Pi"
      ]
     },
     "execution_count": 75,
     "metadata": {},
     "output_type": "execute_result"
    }
   ],
   "source": [
    "df20_plat_lang = df20_6col[[\"LanguageWorkedWith\",\"PlatformWorkedWith\"]]\n",
    "df20_plat_lang = df20_plat_lang.assign(PlatformWorkedWith=df20_plat_lang['PlatformWorkedWith'].apply(split_strip)).explode('PlatformWorkedWith').reset_index(drop=True)\n",
    "df20_plat_lang.head()"
   ]
  },
  {
   "cell_type": "code",
   "execution_count": 76,
   "metadata": {},
   "outputs": [
    {
     "data": {
      "text/html": [
       "<div>\n",
       "<style scoped>\n",
       "    .dataframe tbody tr th:only-of-type {\n",
       "        vertical-align: middle;\n",
       "    }\n",
       "\n",
       "    .dataframe tbody tr th {\n",
       "        vertical-align: top;\n",
       "    }\n",
       "\n",
       "    .dataframe thead th {\n",
       "        text-align: right;\n",
       "    }\n",
       "</style>\n",
       "<table border=\"1\" class=\"dataframe\">\n",
       "  <thead>\n",
       "    <tr style=\"text-align: right;\">\n",
       "      <th></th>\n",
       "      <th>LanguageWorkedWith</th>\n",
       "      <th>PlatformWorkedWith</th>\n",
       "    </tr>\n",
       "  </thead>\n",
       "  <tbody>\n",
       "    <tr>\n",
       "      <th>0</th>\n",
       "      <td>C#</td>\n",
       "      <td>Windows</td>\n",
       "    </tr>\n",
       "    <tr>\n",
       "      <th>1</th>\n",
       "      <td>HTML/CSS</td>\n",
       "      <td>Windows</td>\n",
       "    </tr>\n",
       "    <tr>\n",
       "      <th>2</th>\n",
       "      <td>JavaScript</td>\n",
       "      <td>Windows</td>\n",
       "    </tr>\n",
       "    <tr>\n",
       "      <th>3</th>\n",
       "      <td>Python</td>\n",
       "      <td>Docker</td>\n",
       "    </tr>\n",
       "    <tr>\n",
       "      <th>4</th>\n",
       "      <td>SQL</td>\n",
       "      <td>Docker</td>\n",
       "    </tr>\n",
       "  </tbody>\n",
       "</table>\n",
       "</div>"
      ],
      "text/plain": [
       "  LanguageWorkedWith PlatformWorkedWith\n",
       "0                 C#            Windows\n",
       "1           HTML/CSS            Windows\n",
       "2         JavaScript            Windows\n",
       "3             Python             Docker\n",
       "4                SQL             Docker"
      ]
     },
     "execution_count": 76,
     "metadata": {},
     "output_type": "execute_result"
    }
   ],
   "source": [
    "df20_plat_lang = df20_plat_lang.assign(LanguageWorkedWith=df20_plat_lang['LanguageWorkedWith'].apply(split_strip)).explode('LanguageWorkedWith').reset_index(drop=True)\n",
    "df20_plat_lang.head()"
   ]
  },
  {
   "cell_type": "code",
   "execution_count": 77,
   "metadata": {},
   "outputs": [
    {
     "data": {
      "text/html": [
       "<div>\n",
       "<style scoped>\n",
       "    .dataframe tbody tr th:only-of-type {\n",
       "        vertical-align: middle;\n",
       "    }\n",
       "\n",
       "    .dataframe tbody tr th {\n",
       "        vertical-align: top;\n",
       "    }\n",
       "\n",
       "    .dataframe thead th {\n",
       "        text-align: right;\n",
       "    }\n",
       "</style>\n",
       "<table border=\"1\" class=\"dataframe\">\n",
       "  <thead>\n",
       "    <tr style=\"text-align: right;\">\n",
       "      <th></th>\n",
       "      <th>PlatformWorkedWith</th>\n",
       "      <th>LanguageWorkedWith</th>\n",
       "      <th>Count</th>\n",
       "    </tr>\n",
       "  </thead>\n",
       "  <tbody>\n",
       "    <tr>\n",
       "      <th>210</th>\n",
       "      <td>Linux</td>\n",
       "      <td>JavaScript</td>\n",
       "      <td>15342</td>\n",
       "    </tr>\n",
       "    <tr>\n",
       "      <th>335</th>\n",
       "      <td>Windows</td>\n",
       "      <td>JavaScript</td>\n",
       "      <td>14503</td>\n",
       "    </tr>\n",
       "    <tr>\n",
       "      <th>207</th>\n",
       "      <td>Linux</td>\n",
       "      <td>HTML/CSS</td>\n",
       "      <td>13619</td>\n",
       "    </tr>\n",
       "    <tr>\n",
       "      <th>332</th>\n",
       "      <td>Windows</td>\n",
       "      <td>HTML/CSS</td>\n",
       "      <td>13528</td>\n",
       "    </tr>\n",
       "    <tr>\n",
       "      <th>345</th>\n",
       "      <td>Windows</td>\n",
       "      <td>SQL</td>\n",
       "      <td>12844</td>\n",
       "    </tr>\n",
       "  </tbody>\n",
       "</table>\n",
       "</div>"
      ],
      "text/plain": [
       "    PlatformWorkedWith LanguageWorkedWith  Count\n",
       "210              Linux         JavaScript  15342\n",
       "335            Windows         JavaScript  14503\n",
       "207              Linux           HTML/CSS  13619\n",
       "332            Windows           HTML/CSS  13528\n",
       "345            Windows                SQL  12844"
      ]
     },
     "execution_count": 77,
     "metadata": {},
     "output_type": "execute_result"
    }
   ],
   "source": [
    "df20_plat_lang = pd.DataFrame({'Count' : df20_plat_lang.groupby( [ 'PlatformWorkedWith', 'LanguageWorkedWith'] ).size()}).reset_index().sort_values(by=['Count'], ascending=False)\n",
    "df20_plat_lang.head()"
   ]
  },
  {
   "cell_type": "code",
   "execution_count": 78,
   "metadata": {},
   "outputs": [
    {
     "data": {
      "text/plain": [
       "<AxesSubplot:ylabel='PlatformWorkedWith,LanguageWorkedWith'>"
      ]
     },
     "execution_count": 78,
     "metadata": {},
     "output_type": "execute_result"
    },
    {
     "data": {
      "image/png": "[encoded data removed]",
      "text/plain": [
       "<Figure size 432x288 with 1 Axes>"
      ]
     },
     "metadata": {
      "needs_background": "light"
     },
     "output_type": "display_data"
    }
   ],
   "source": [
    "df20_plat_lang[df20_plat_lang.Count > df20_plat_lang.Count.quantile(0.980)].set_index([ 'PlatformWorkedWith', 'LanguageWorkedWith']).plot.barh()"
   ]
  },
  {
   "cell_type": "markdown",
   "metadata": {},
   "source": [
    "### 2020"
   ]
  },
  {
   "cell_type": "markdown",
   "metadata": {},
   "source": [
    "### platform-database"
   ]
  },
  {
   "cell_type": "code",
   "execution_count": 79,
   "metadata": {},
   "outputs": [
    {
     "data": {
      "text/html": [
       "<div>\n",
       "<style scoped>\n",
       "    .dataframe tbody tr th:only-of-type {\n",
       "        vertical-align: middle;\n",
       "    }\n",
       "\n",
       "    .dataframe tbody tr th {\n",
       "        vertical-align: top;\n",
       "    }\n",
       "\n",
       "    .dataframe thead th {\n",
       "        text-align: right;\n",
       "    }\n",
       "</style>\n",
       "<table border=\"1\" class=\"dataframe\">\n",
       "  <thead>\n",
       "    <tr style=\"text-align: right;\">\n",
       "      <th></th>\n",
       "      <th>DatabaseWorkedWith</th>\n",
       "      <th>PlatformWorkedWith</th>\n",
       "    </tr>\n",
       "  </thead>\n",
       "  <tbody>\n",
       "    <tr>\n",
       "      <th>0</th>\n",
       "      <td>Elasticsearch;Microsoft SQL Server;Oracle</td>\n",
       "      <td>Windows</td>\n",
       "    </tr>\n",
       "    <tr>\n",
       "      <th>1</th>\n",
       "      <td>MariaDB;MySQL;Redis</td>\n",
       "      <td>Docker</td>\n",
       "    </tr>\n",
       "    <tr>\n",
       "      <th>2</th>\n",
       "      <td>Microsoft SQL Server</td>\n",
       "      <td>Android</td>\n",
       "    </tr>\n",
       "    <tr>\n",
       "      <th>3</th>\n",
       "      <td>Microsoft SQL Server</td>\n",
       "      <td>Linux</td>\n",
       "    </tr>\n",
       "    <tr>\n",
       "      <th>4</th>\n",
       "      <td>Microsoft SQL Server</td>\n",
       "      <td>Raspberry Pi</td>\n",
       "    </tr>\n",
       "  </tbody>\n",
       "</table>\n",
       "</div>"
      ],
      "text/plain": [
       "                          DatabaseWorkedWith PlatformWorkedWith\n",
       "0  Elasticsearch;Microsoft SQL Server;Oracle            Windows\n",
       "1                        MariaDB;MySQL;Redis             Docker\n",
       "2                       Microsoft SQL Server            Android\n",
       "3                       Microsoft SQL Server              Linux\n",
       "4                       Microsoft SQL Server       Raspberry Pi"
      ]
     },
     "execution_count": 79,
     "metadata": {},
     "output_type": "execute_result"
    }
   ],
   "source": [
    "df20_plat_db = df20_6col[[\"DatabaseWorkedWith\",\"PlatformWorkedWith\"]]\n",
    "df20_plat_db = df20_plat_db.assign(PlatformWorkedWith=df20_plat_db['PlatformWorkedWith'].apply(split_strip)).explode('PlatformWorkedWith').reset_index(drop=True)\n",
    "df20_plat_db.head()"
   ]
  },
  {
   "cell_type": "code",
   "execution_count": 80,
   "metadata": {},
   "outputs": [
    {
     "data": {
      "text/html": [
       "<div>\n",
       "<style scoped>\n",
       "    .dataframe tbody tr th:only-of-type {\n",
       "        vertical-align: middle;\n",
       "    }\n",
       "\n",
       "    .dataframe tbody tr th {\n",
       "        vertical-align: top;\n",
       "    }\n",
       "\n",
       "    .dataframe thead th {\n",
       "        text-align: right;\n",
       "    }\n",
       "</style>\n",
       "<table border=\"1\" class=\"dataframe\">\n",
       "  <thead>\n",
       "    <tr style=\"text-align: right;\">\n",
       "      <th></th>\n",
       "      <th>DatabaseWorkedWith</th>\n",
       "      <th>PlatformWorkedWith</th>\n",
       "    </tr>\n",
       "  </thead>\n",
       "  <tbody>\n",
       "    <tr>\n",
       "      <th>0</th>\n",
       "      <td>Elasticsearch</td>\n",
       "      <td>Windows</td>\n",
       "    </tr>\n",
       "    <tr>\n",
       "      <th>1</th>\n",
       "      <td>Microsoft SQL Server</td>\n",
       "      <td>Windows</td>\n",
       "    </tr>\n",
       "    <tr>\n",
       "      <th>2</th>\n",
       "      <td>Oracle</td>\n",
       "      <td>Windows</td>\n",
       "    </tr>\n",
       "    <tr>\n",
       "      <th>3</th>\n",
       "      <td>MariaDB</td>\n",
       "      <td>Docker</td>\n",
       "    </tr>\n",
       "    <tr>\n",
       "      <th>4</th>\n",
       "      <td>MySQL</td>\n",
       "      <td>Docker</td>\n",
       "    </tr>\n",
       "  </tbody>\n",
       "</table>\n",
       "</div>"
      ],
      "text/plain": [
       "     DatabaseWorkedWith PlatformWorkedWith\n",
       "0         Elasticsearch            Windows\n",
       "1  Microsoft SQL Server            Windows\n",
       "2                Oracle            Windows\n",
       "3               MariaDB             Docker\n",
       "4                 MySQL             Docker"
      ]
     },
     "execution_count": 80,
     "metadata": {},
     "output_type": "execute_result"
    }
   ],
   "source": [
    "df20_plat_db = df20_plat_db.assign(DatabaseWorkedWith=df20_plat_db['DatabaseWorkedWith'].apply(split_strip)).explode('DatabaseWorkedWith').reset_index(drop=True)\n",
    "df20_plat_db.head()"
   ]
  },
  {
   "cell_type": "code",
   "execution_count": 81,
   "metadata": {},
   "outputs": [
    {
     "data": {
      "text/html": [
       "<div>\n",
       "<style scoped>\n",
       "    .dataframe tbody tr th:only-of-type {\n",
       "        vertical-align: middle;\n",
       "    }\n",
       "\n",
       "    .dataframe tbody tr th {\n",
       "        vertical-align: top;\n",
       "    }\n",
       "\n",
       "    .dataframe thead th {\n",
       "        text-align: right;\n",
       "    }\n",
       "</style>\n",
       "<table border=\"1\" class=\"dataframe\">\n",
       "  <thead>\n",
       "    <tr style=\"text-align: right;\">\n",
       "      <th></th>\n",
       "      <th>PlatformWorkedWith</th>\n",
       "      <th>DatabaseWorkedWith</th>\n",
       "      <th>Count</th>\n",
       "    </tr>\n",
       "  </thead>\n",
       "  <tbody>\n",
       "    <tr>\n",
       "      <th>121</th>\n",
       "      <td>Linux</td>\n",
       "      <td>MySQL</td>\n",
       "      <td>11686</td>\n",
       "    </tr>\n",
       "    <tr>\n",
       "      <th>191</th>\n",
       "      <td>Windows</td>\n",
       "      <td>MySQL</td>\n",
       "      <td>10005</td>\n",
       "    </tr>\n",
       "    <tr>\n",
       "      <th>123</th>\n",
       "      <td>Linux</td>\n",
       "      <td>PostgreSQL</td>\n",
       "      <td>9333</td>\n",
       "    </tr>\n",
       "    <tr>\n",
       "      <th>189</th>\n",
       "      <td>Windows</td>\n",
       "      <td>Microsoft SQL Server</td>\n",
       "      <td>9324</td>\n",
       "    </tr>\n",
       "    <tr>\n",
       "      <th>51</th>\n",
       "      <td>Docker</td>\n",
       "      <td>MySQL</td>\n",
       "      <td>8068</td>\n",
       "    </tr>\n",
       "  </tbody>\n",
       "</table>\n",
       "</div>"
      ],
      "text/plain": [
       "    PlatformWorkedWith    DatabaseWorkedWith  Count\n",
       "121              Linux                 MySQL  11686\n",
       "191            Windows                 MySQL  10005\n",
       "123              Linux            PostgreSQL   9333\n",
       "189            Windows  Microsoft SQL Server   9324\n",
       "51              Docker                 MySQL   8068"
      ]
     },
     "execution_count": 81,
     "metadata": {},
     "output_type": "execute_result"
    }
   ],
   "source": [
    "df20_plat_db = pd.DataFrame({'Count' : df20_plat_db.groupby( [ 'PlatformWorkedWith', 'DatabaseWorkedWith'] ).size()}).reset_index().sort_values(by=['Count'], ascending=False)\n",
    "df20_plat_db.head()"
   ]
  },
  {
   "cell_type": "code",
   "execution_count": 82,
   "metadata": {},
   "outputs": [
    {
     "data": {
      "text/plain": [
       "<AxesSubplot:ylabel='PlatformWorkedWith,DatabaseWorkedWith'>"
      ]
     },
     "execution_count": 82,
     "metadata": {},
     "output_type": "execute_result"
    },
    {
     "data": {
      "image/png": "[encoded data removed]",
      "text/plain": [
       "<Figure size 432x288 with 1 Axes>"
      ]
     },
     "metadata": {
      "needs_background": "light"
     },
     "output_type": "display_data"
    }
   ],
   "source": [
    "df20_plat_db[df20_plat_db.Count > df20_plat_db.Count.quantile(0.95)].set_index([ 'PlatformWorkedWith', 'DatabaseWorkedWith']).plot.barh()"
   ]
  },
  {
   "cell_type": "markdown",
   "metadata": {},
   "source": [
    "### 2020"
   ]
  },
  {
   "cell_type": "markdown",
   "metadata": {},
   "source": [
    "### platform-Framework"
   ]
  },
  {
   "cell_type": "code",
   "execution_count": 83,
   "metadata": {},
   "outputs": [
    {
     "data": {
      "text/html": [
       "<div>\n",
       "<style scoped>\n",
       "    .dataframe tbody tr th:only-of-type {\n",
       "        vertical-align: middle;\n",
       "    }\n",
       "\n",
       "    .dataframe tbody tr th {\n",
       "        vertical-align: top;\n",
       "    }\n",
       "\n",
       "    .dataframe thead th {\n",
       "        text-align: right;\n",
       "    }\n",
       "</style>\n",
       "<table border=\"1\" class=\"dataframe\">\n",
       "  <thead>\n",
       "    <tr style=\"text-align: right;\">\n",
       "      <th></th>\n",
       "      <th>FrameworkWorkedWith</th>\n",
       "      <th>PlatformWorkedWith</th>\n",
       "    </tr>\n",
       "  </thead>\n",
       "  <tbody>\n",
       "    <tr>\n",
       "      <th>0</th>\n",
       "      <td>ASP.NET;ASP.NET Core</td>\n",
       "      <td>Windows</td>\n",
       "    </tr>\n",
       "    <tr>\n",
       "      <th>1</th>\n",
       "      <td>Flask</td>\n",
       "      <td>Docker</td>\n",
       "    </tr>\n",
       "    <tr>\n",
       "      <th>2</th>\n",
       "      <td>Flask;jQuery</td>\n",
       "      <td>Android</td>\n",
       "    </tr>\n",
       "    <tr>\n",
       "      <th>3</th>\n",
       "      <td>Flask;jQuery</td>\n",
       "      <td>Linux</td>\n",
       "    </tr>\n",
       "    <tr>\n",
       "      <th>4</th>\n",
       "      <td>Flask;jQuery</td>\n",
       "      <td>Raspberry Pi</td>\n",
       "    </tr>\n",
       "  </tbody>\n",
       "</table>\n",
       "</div>"
      ],
      "text/plain": [
       "    FrameworkWorkedWith PlatformWorkedWith\n",
       "0  ASP.NET;ASP.NET Core            Windows\n",
       "1                 Flask             Docker\n",
       "2          Flask;jQuery            Android\n",
       "3          Flask;jQuery              Linux\n",
       "4          Flask;jQuery       Raspberry Pi"
      ]
     },
     "execution_count": 83,
     "metadata": {},
     "output_type": "execute_result"
    }
   ],
   "source": [
    "df20_plat_fw = df20_6col[[\"FrameworkWorkedWith\",\"PlatformWorkedWith\"]]\n",
    "df20_plat_fw = df20_plat_fw.assign(PlatformWorkedWith=df20_plat_fw['PlatformWorkedWith'].apply(split_strip)).explode('PlatformWorkedWith').reset_index(drop=True)\n",
    "df20_plat_fw.head()"
   ]
  },
  {
   "cell_type": "code",
   "execution_count": 84,
   "metadata": {},
   "outputs": [
    {
     "data": {
      "text/html": [
       "<div>\n",
       "<style scoped>\n",
       "    .dataframe tbody tr th:only-of-type {\n",
       "        vertical-align: middle;\n",
       "    }\n",
       "\n",
       "    .dataframe tbody tr th {\n",
       "        vertical-align: top;\n",
       "    }\n",
       "\n",
       "    .dataframe thead th {\n",
       "        text-align: right;\n",
       "    }\n",
       "</style>\n",
       "<table border=\"1\" class=\"dataframe\">\n",
       "  <thead>\n",
       "    <tr style=\"text-align: right;\">\n",
       "      <th></th>\n",
       "      <th>FrameworkWorkedWith</th>\n",
       "      <th>PlatformWorkedWith</th>\n",
       "    </tr>\n",
       "  </thead>\n",
       "  <tbody>\n",
       "    <tr>\n",
       "      <th>0</th>\n",
       "      <td>ASP.NET</td>\n",
       "      <td>Windows</td>\n",
       "    </tr>\n",
       "    <tr>\n",
       "      <th>1</th>\n",
       "      <td>ASP.NET Core</td>\n",
       "      <td>Windows</td>\n",
       "    </tr>\n",
       "    <tr>\n",
       "      <th>2</th>\n",
       "      <td>Flask</td>\n",
       "      <td>Docker</td>\n",
       "    </tr>\n",
       "    <tr>\n",
       "      <th>3</th>\n",
       "      <td>Flask</td>\n",
       "      <td>Android</td>\n",
       "    </tr>\n",
       "    <tr>\n",
       "      <th>4</th>\n",
       "      <td>jQuery</td>\n",
       "      <td>Android</td>\n",
       "    </tr>\n",
       "  </tbody>\n",
       "</table>\n",
       "</div>"
      ],
      "text/plain": [
       "  FrameworkWorkedWith PlatformWorkedWith\n",
       "0             ASP.NET            Windows\n",
       "1        ASP.NET Core            Windows\n",
       "2               Flask             Docker\n",
       "3               Flask            Android\n",
       "4              jQuery            Android"
      ]
     },
     "execution_count": 84,
     "metadata": {},
     "output_type": "execute_result"
    }
   ],
   "source": [
    "df20_plat_fw = df20_plat_fw.assign(FrameworkWorkedWith=df20_plat_fw['FrameworkWorkedWith'].apply(split_strip)).explode('FrameworkWorkedWith').reset_index(drop=True)\n",
    "df20_plat_fw.head()"
   ]
  },
  {
   "cell_type": "code",
   "execution_count": 85,
   "metadata": {},
   "outputs": [
    {
     "data": {
      "text/html": [
       "<div>\n",
       "<style scoped>\n",
       "    .dataframe tbody tr th:only-of-type {\n",
       "        vertical-align: middle;\n",
       "    }\n",
       "\n",
       "    .dataframe tbody tr th {\n",
       "        vertical-align: top;\n",
       "    }\n",
       "\n",
       "    .dataframe thead th {\n",
       "        text-align: right;\n",
       "    }\n",
       "</style>\n",
       "<table border=\"1\" class=\"dataframe\">\n",
       "  <thead>\n",
       "    <tr style=\"text-align: right;\">\n",
       "      <th></th>\n",
       "      <th>PlatformWorkedWith</th>\n",
       "      <th>FrameworkWorkedWith</th>\n",
       "      <th>Count</th>\n",
       "    </tr>\n",
       "  </thead>\n",
       "  <tbody>\n",
       "    <tr>\n",
       "      <th>0</th>\n",
       "      <td>Windows</td>\n",
       "      <td>jQuery</td>\n",
       "      <td>8957</td>\n",
       "    </tr>\n",
       "    <tr>\n",
       "      <th>1</th>\n",
       "      <td>Linux</td>\n",
       "      <td>jQuery</td>\n",
       "      <td>8283</td>\n",
       "    </tr>\n",
       "    <tr>\n",
       "      <th>2</th>\n",
       "      <td>Linux</td>\n",
       "      <td>React.js</td>\n",
       "      <td>6885</td>\n",
       "    </tr>\n",
       "    <tr>\n",
       "      <th>3</th>\n",
       "      <td>Windows</td>\n",
       "      <td>ASP.NET</td>\n",
       "      <td>6504</td>\n",
       "    </tr>\n",
       "    <tr>\n",
       "      <th>4</th>\n",
       "      <td>Docker</td>\n",
       "      <td>React.js</td>\n",
       "      <td>6291</td>\n",
       "    </tr>\n",
       "  </tbody>\n",
       "</table>\n",
       "</div>"
      ],
      "text/plain": [
       "  PlatformWorkedWith FrameworkWorkedWith  Count\n",
       "0            Windows              jQuery   8957\n",
       "1              Linux              jQuery   8283\n",
       "2              Linux            React.js   6885\n",
       "3            Windows             ASP.NET   6504\n",
       "4             Docker            React.js   6291"
      ]
     },
     "execution_count": 85,
     "metadata": {},
     "output_type": "execute_result"
    }
   ],
   "source": [
    "df20_plat_fw= pd.DataFrame({'Count' : df20_plat_fw.groupby(['PlatformWorkedWith', 'FrameworkWorkedWith']).size()}).reset_index().sort_values(by=['Count'], ascending=False).reset_index(drop=True)\n",
    "df20_plat_fw.head()"
   ]
  },
  {
   "cell_type": "code",
   "execution_count": 86,
   "metadata": {},
   "outputs": [
    {
     "data": {
      "text/plain": [
       "<AxesSubplot:ylabel='PlatformWorkedWith,FrameworkWorkedWith'>"
      ]
     },
     "execution_count": 86,
     "metadata": {},
     "output_type": "execute_result"
    },
    {
     "data": {
      "image/png": "[encoded data removed]",
      "text/plain": [
       "<Figure size 432x288 with 1 Axes>"
      ]
     },
     "metadata": {
      "needs_background": "light"
     },
     "output_type": "display_data"
    }
   ],
   "source": [
    "df20_plat_fw[df20_plat_fw.Count > df20_plat_fw.Count.quantile(0.95)].set_index([ 'PlatformWorkedWith', 'FrameworkWorkedWith']).plot.barh()"
   ]
  },
  {
   "cell_type": "markdown",
   "metadata": {},
   "source": [
    "### 2020"
   ]
  },
  {
   "cell_type": "markdown",
   "metadata": {},
   "source": [
    "### platform-devtype"
   ]
  },
  {
   "cell_type": "code",
   "execution_count": 87,
   "metadata": {},
   "outputs": [
    {
     "data": {
      "text/html": [
       "<div>\n",
       "<style scoped>\n",
       "    .dataframe tbody tr th:only-of-type {\n",
       "        vertical-align: middle;\n",
       "    }\n",
       "\n",
       "    .dataframe tbody tr th {\n",
       "        vertical-align: top;\n",
       "    }\n",
       "\n",
       "    .dataframe thead th {\n",
       "        text-align: right;\n",
       "    }\n",
       "</style>\n",
       "<table border=\"1\" class=\"dataframe\">\n",
       "  <thead>\n",
       "    <tr style=\"text-align: right;\">\n",
       "      <th></th>\n",
       "      <th>DevType</th>\n",
       "      <th>PlatformWorkedWith</th>\n",
       "    </tr>\n",
       "  </thead>\n",
       "  <tbody>\n",
       "    <tr>\n",
       "      <th>0</th>\n",
       "      <td>Developer, desktop or enterprise applications;...</td>\n",
       "      <td>Windows</td>\n",
       "    </tr>\n",
       "    <tr>\n",
       "      <th>1</th>\n",
       "      <td>Developer, back-end;Developer, desktop or ente...</td>\n",
       "      <td>Docker</td>\n",
       "    </tr>\n",
       "    <tr>\n",
       "      <th>2</th>\n",
       "      <td>Database administrator;Developer, full-stack;D...</td>\n",
       "      <td>Android</td>\n",
       "    </tr>\n",
       "    <tr>\n",
       "      <th>3</th>\n",
       "      <td>Database administrator;Developer, full-stack;D...</td>\n",
       "      <td>Linux</td>\n",
       "    </tr>\n",
       "    <tr>\n",
       "      <th>4</th>\n",
       "      <td>Database administrator;Developer, full-stack;D...</td>\n",
       "      <td>Raspberry Pi</td>\n",
       "    </tr>\n",
       "  </tbody>\n",
       "</table>\n",
       "</div>"
      ],
      "text/plain": [
       "                                             DevType PlatformWorkedWith\n",
       "0  Developer, desktop or enterprise applications;...            Windows\n",
       "1  Developer, back-end;Developer, desktop or ente...             Docker\n",
       "2  Database administrator;Developer, full-stack;D...            Android\n",
       "3  Database administrator;Developer, full-stack;D...              Linux\n",
       "4  Database administrator;Developer, full-stack;D...       Raspberry Pi"
      ]
     },
     "execution_count": 87,
     "metadata": {},
     "output_type": "execute_result"
    }
   ],
   "source": [
    "df20_plat_dt = df20_6col[[\"DevType\",\"PlatformWorkedWith\"]]\n",
    "df20_plat_dt = df20_plat_dt.assign(PlatformWorkedWith=df20_plat_dt['PlatformWorkedWith'].apply(split_strip)).explode('PlatformWorkedWith').reset_index(drop=True)\n",
    "df20_plat_dt.head()"
   ]
  },
  {
   "cell_type": "code",
   "execution_count": 88,
   "metadata": {},
   "outputs": [
    {
     "data": {
      "text/html": [
       "<div>\n",
       "<style scoped>\n",
       "    .dataframe tbody tr th:only-of-type {\n",
       "        vertical-align: middle;\n",
       "    }\n",
       "\n",
       "    .dataframe tbody tr th {\n",
       "        vertical-align: top;\n",
       "    }\n",
       "\n",
       "    .dataframe thead th {\n",
       "        text-align: right;\n",
       "    }\n",
       "</style>\n",
       "<table border=\"1\" class=\"dataframe\">\n",
       "  <thead>\n",
       "    <tr style=\"text-align: right;\">\n",
       "      <th></th>\n",
       "      <th>DevType</th>\n",
       "      <th>PlatformWorkedWith</th>\n",
       "    </tr>\n",
       "  </thead>\n",
       "  <tbody>\n",
       "    <tr>\n",
       "      <th>0</th>\n",
       "      <td>Developer, desktop or enterprise applications</td>\n",
       "      <td>Windows</td>\n",
       "    </tr>\n",
       "    <tr>\n",
       "      <th>1</th>\n",
       "      <td>Developer, full-stack</td>\n",
       "      <td>Windows</td>\n",
       "    </tr>\n",
       "    <tr>\n",
       "      <th>2</th>\n",
       "      <td>Developer, back-end</td>\n",
       "      <td>Docker</td>\n",
       "    </tr>\n",
       "    <tr>\n",
       "      <th>3</th>\n",
       "      <td>Developer, desktop or enterprise applications</td>\n",
       "      <td>Docker</td>\n",
       "    </tr>\n",
       "    <tr>\n",
       "      <th>4</th>\n",
       "      <td>Developer, game or graphics</td>\n",
       "      <td>Docker</td>\n",
       "    </tr>\n",
       "  </tbody>\n",
       "</table>\n",
       "</div>"
      ],
      "text/plain": [
       "                                         DevType PlatformWorkedWith\n",
       "0  Developer, desktop or enterprise applications            Windows\n",
       "1                          Developer, full-stack            Windows\n",
       "2                            Developer, back-end             Docker\n",
       "3  Developer, desktop or enterprise applications             Docker\n",
       "4                    Developer, game or graphics             Docker"
      ]
     },
     "execution_count": 88,
     "metadata": {},
     "output_type": "execute_result"
    }
   ],
   "source": [
    "df20_plat_dt = df20_plat_dt.assign(DevType=df20_plat_dt['DevType'].apply(split_strip)).explode('DevType').reset_index(drop=True)\n",
    "df20_plat_dt.head()"
   ]
  },
  {
   "cell_type": "code",
   "execution_count": 89,
   "metadata": {},
   "outputs": [
    {
     "data": {
      "text/html": [
       "<div>\n",
       "<style scoped>\n",
       "    .dataframe tbody tr th:only-of-type {\n",
       "        vertical-align: middle;\n",
       "    }\n",
       "\n",
       "    .dataframe tbody tr th {\n",
       "        vertical-align: top;\n",
       "    }\n",
       "\n",
       "    .dataframe thead th {\n",
       "        text-align: right;\n",
       "    }\n",
       "</style>\n",
       "<table border=\"1\" class=\"dataframe\">\n",
       "  <thead>\n",
       "    <tr style=\"text-align: right;\">\n",
       "      <th></th>\n",
       "      <th>PlatformWorkedWith</th>\n",
       "      <th>DevType</th>\n",
       "      <th>Count</th>\n",
       "    </tr>\n",
       "  </thead>\n",
       "  <tbody>\n",
       "    <tr>\n",
       "      <th>195</th>\n",
       "      <td>Linux</td>\n",
       "      <td>Developer, full-stack</td>\n",
       "      <td>12530</td>\n",
       "    </tr>\n",
       "    <tr>\n",
       "      <th>191</th>\n",
       "      <td>Linux</td>\n",
       "      <td>Developer, back-end</td>\n",
       "      <td>12508</td>\n",
       "    </tr>\n",
       "    <tr>\n",
       "      <th>310</th>\n",
       "      <td>Windows</td>\n",
       "      <td>Developer, full-stack</td>\n",
       "      <td>11976</td>\n",
       "    </tr>\n",
       "    <tr>\n",
       "      <th>306</th>\n",
       "      <td>Windows</td>\n",
       "      <td>Developer, back-end</td>\n",
       "      <td>11066</td>\n",
       "    </tr>\n",
       "    <tr>\n",
       "      <th>80</th>\n",
       "      <td>Docker</td>\n",
       "      <td>Developer, full-stack</td>\n",
       "      <td>9867</td>\n",
       "    </tr>\n",
       "  </tbody>\n",
       "</table>\n",
       "</div>"
      ],
      "text/plain": [
       "    PlatformWorkedWith                DevType  Count\n",
       "195              Linux  Developer, full-stack  12530\n",
       "191              Linux    Developer, back-end  12508\n",
       "310            Windows  Developer, full-stack  11976\n",
       "306            Windows    Developer, back-end  11066\n",
       "80              Docker  Developer, full-stack   9867"
      ]
     },
     "execution_count": 89,
     "metadata": {},
     "output_type": "execute_result"
    }
   ],
   "source": [
    "df20_plat_dt = pd.DataFrame({'Count' : df20_plat_dt.groupby( [ 'PlatformWorkedWith', 'DevType'] ).size()}).reset_index().sort_values(by=['Count'], ascending=False)\n",
    "df20_plat_dt.head()"
   ]
  },
  {
   "cell_type": "code",
   "execution_count": 90,
   "metadata": {},
   "outputs": [
    {
     "data": {
      "text/plain": [
       "<AxesSubplot:ylabel='PlatformWorkedWith,DevType'>"
      ]
     },
     "execution_count": 90,
     "metadata": {},
     "output_type": "execute_result"
    },
    {
     "data": {
      "image/png": "[encoded data removed]",
      "text/plain": [
       "<Figure size 432x288 with 1 Axes>"
      ]
     },
     "metadata": {
      "needs_background": "light"
     },
     "output_type": "display_data"
    }
   ],
   "source": [
    "df20_plat_dt[df20_plat_dt.Count > df20_plat_dt.Count.quantile(0.98)].set_index([ 'PlatformWorkedWith', 'DevType']).plot.barh()"
   ]
  },
  {
   "cell_type": "markdown",
   "metadata": {},
   "source": [
    "## Answer 4<a name=\"a4\"></a>:"
   ]
  },
  {
   "cell_type": "code",
   "execution_count": 91,
   "metadata": {},
   "outputs": [
    {
     "data": {
      "text/html": [
       "<div>\n",
       "<style scoped>\n",
       "    .dataframe tbody tr th:only-of-type {\n",
       "        vertical-align: middle;\n",
       "    }\n",
       "\n",
       "    .dataframe tbody tr th {\n",
       "        vertical-align: top;\n",
       "    }\n",
       "\n",
       "    .dataframe thead th {\n",
       "        text-align: right;\n",
       "    }\n",
       "</style>\n",
       "<table border=\"1\" class=\"dataframe\">\n",
       "  <thead>\n",
       "    <tr style=\"text-align: right;\">\n",
       "      <th></th>\n",
       "      <th></th>\n",
       "      <th>Count</th>\n",
       "    </tr>\n",
       "    <tr>\n",
       "      <th>PlatformWorkedWith</th>\n",
       "      <th>DevType</th>\n",
       "      <th></th>\n",
       "    </tr>\n",
       "  </thead>\n",
       "  <tbody>\n",
       "    <tr>\n",
       "      <th>Linux</th>\n",
       "      <th>Developer, full-stack</th>\n",
       "      <td>12530</td>\n",
       "    </tr>\n",
       "  </tbody>\n",
       "</table>\n",
       "</div>"
      ],
      "text/plain": [
       "                                          Count\n",
       "PlatformWorkedWith DevType                     \n",
       "Linux              Developer, full-stack  12530"
      ]
     },
     "execution_count": 91,
     "metadata": {},
     "output_type": "execute_result"
    }
   ],
   "source": [
    "df20_plat_dt[df20_plat_dt.Count > df20_plat_dt.Count.quantile(0.98)].set_index([ 'PlatformWorkedWith', 'DevType']).head(1)\n"
   ]
  },
  {
   "cell_type": "code",
   "execution_count": 98,
   "metadata": {},
   "outputs": [
    {
     "data": {
      "text/html": [
       "<div>\n",
       "<style scoped>\n",
       "    .dataframe tbody tr th:only-of-type {\n",
       "        vertical-align: middle;\n",
       "    }\n",
       "\n",
       "    .dataframe tbody tr th {\n",
       "        vertical-align: top;\n",
       "    }\n",
       "\n",
       "    .dataframe thead th {\n",
       "        text-align: right;\n",
       "    }\n",
       "</style>\n",
       "<table border=\"1\" class=\"dataframe\">\n",
       "  <thead>\n",
       "    <tr style=\"text-align: right;\">\n",
       "      <th></th>\n",
       "      <th>2020</th>\n",
       "      <th>2019</th>\n",
       "      <th>2018</th>\n",
       "      <th>2017</th>\n",
       "    </tr>\n",
       "  </thead>\n",
       "  <tbody>\n",
       "    <tr>\n",
       "      <th>PlatformWorkedWith</th>\n",
       "      <td>Linux</td>\n",
       "      <td>Linux</td>\n",
       "      <td>Linux</td>\n",
       "      <td>Amazon Web Services (AWS)</td>\n",
       "    </tr>\n",
       "    <tr>\n",
       "      <th>DevType</th>\n",
       "      <td>Developer, full-stack</td>\n",
       "      <td>Developer, full-stack</td>\n",
       "      <td>Back-end developer</td>\n",
       "      <td>Web developer</td>\n",
       "    </tr>\n",
       "    <tr>\n",
       "      <th>Count</th>\n",
       "      <td>12530</td>\n",
       "      <td>19477</td>\n",
       "      <td>15308</td>\n",
       "      <td>4204</td>\n",
       "    </tr>\n",
       "  </tbody>\n",
       "</table>\n",
       "</div>"
      ],
      "text/plain": [
       "                                     2020                   2019  \\\n",
       "PlatformWorkedWith                  Linux                  Linux   \n",
       "DevType             Developer, full-stack  Developer, full-stack   \n",
       "Count                               12530                  19477   \n",
       "\n",
       "                                  2018                       2017  \n",
       "PlatformWorkedWith               Linux  Amazon Web Services (AWS)  \n",
       "DevType             Back-end developer              Web developer  \n",
       "Count                            15308                       4204  "
      ]
     },
     "execution_count": 98,
     "metadata": {},
     "output_type": "execute_result"
    }
   ],
   "source": [
    "pd.DataFrame({'2020' : df20_plat_dt.iloc[0,:], '2019' : df19_plat_dt.iloc[0,:], '2018' : df18_plat_dt.iloc[0,:], '2017' : df17_plat_dt.iloc[0,:]})"
   ]
  }
 ],
 "metadata": {
  "kernelspec": {
   "display_name": "Python 3",
   "language": "python",
   "name": "python3"
  },
  "language_info": {
   "codemirror_mode": {
    "name": "ipython",
    "version": 3
   },
   "file_extension": ".py",
   "mimetype": "text/x-python",
   "name": "python",
   "nbconvert_exporter": "python",
   "pygments_lexer": "ipython3",
   "version": "3.8.5"
  }
 },
 "nbformat": 4,
 "nbformat_minor": 4
}
